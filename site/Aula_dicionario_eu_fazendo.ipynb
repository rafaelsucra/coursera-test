{
 "cells": [
  {
   "cell_type": "code",
   "execution_count": 2,
   "metadata": {},
   "outputs": [],
   "source": [
    "dic_vazio1 = {}\n",
    "dic_vazio2 = dict()"
   ]
  },
  {
   "cell_type": "code",
   "execution_count": 4,
   "metadata": {},
   "outputs": [
    {
     "data": {
      "text/plain": [
       "dict"
      ]
     },
     "execution_count": 4,
     "metadata": {},
     "output_type": "execute_result"
    }
   ],
   "source": [
    "type(dic_vazio1)"
   ]
  },
  {
   "cell_type": "code",
   "execution_count": 5,
   "metadata": {},
   "outputs": [
    {
     "data": {
      "text/plain": [
       "dict"
      ]
     },
     "execution_count": 5,
     "metadata": {},
     "output_type": "execute_result"
    }
   ],
   "source": [
    "type(dic_vazio2)"
   ]
  },
  {
   "cell_type": "code",
   "execution_count": 6,
   "metadata": {},
   "outputs": [
    {
     "data": {
      "text/plain": [
       "True"
      ]
     },
     "execution_count": 6,
     "metadata": {},
     "output_type": "execute_result"
    }
   ],
   "source": [
    "isinstance(dic_vazio2,dict)"
   ]
  },
  {
   "cell_type": "code",
   "execution_count": 27,
   "metadata": {},
   "outputs": [
    {
     "data": {
      "text/plain": [
       "{'MG': 'Minas Gerais',\n",
       " 'PR': 'Paraná',\n",
       " 'BA': 'Bahia',\n",
       " 'RN': 'Rio grande do Norte',\n",
       " 'AM': 'Amzonas'}"
      ]
     },
     "execution_count": 27,
     "metadata": {},
     "output_type": "execute_result"
    }
   ],
   "source": [
    "dic_estados = {\"MG\":\"Minas Gerais\",\"PR\":\"Paraná\",\"BA\":\"Bahia\",\"RN\":\"Rio grande do Norte\",\"AM\":\"Amzonas\"}\n",
    "dic_estados"
   ]
  },
  {
   "cell_type": "code",
   "execution_count": 9,
   "metadata": {},
   "outputs": [
    {
     "data": {
      "text/plain": [
       "{1215: 'Lápis',\n",
       " 3221: 'Caneta',\n",
       " 2329: 'Borracha',\n",
       " 1092: 'Caderno',\n",
       " 7633: 'Cola'}"
      ]
     },
     "execution_count": 9,
     "metadata": {},
     "output_type": "execute_result"
    }
   ],
   "source": [
    "dic_produtos = {1215:\"Lápis\",3221:\"Caneta\",2329:\"Borracha\",1092:\"Caderno\",7633:\"Cola\"}\n",
    "dic_produtos"
   ]
  },
  {
   "cell_type": "code",
   "execution_count": 10,
   "metadata": {},
   "outputs": [
    {
     "data": {
      "text/plain": [
       "{'João': [30, 12, 21], 'Maria': [20, 30, 29], 'José': [20, 23, 19]}"
      ]
     },
     "execution_count": 10,
     "metadata": {},
     "output_type": "execute_result"
    }
   ],
   "source": [
    "dic_notas_alunos = {\"João\":[30,12,21],\"Maria\":[20,30,29],\"José\":[20,23,19]}\n",
    "dic_notas_alunos"
   ]
  },
  {
   "cell_type": "code",
   "execution_count": 11,
   "metadata": {},
   "outputs": [
    {
     "data": {
      "text/plain": [
       "{'João': {'nota1': 30, 'nota2': 12, 'nota3': 21},\n",
       " 'Maria': {'nota1': 20, 'nota2': 30, 'nota3': 29},\n",
       " 'José': {'nota1': 20, 'nota2': 23, 'nota3': 19}}"
      ]
     },
     "execution_count": 11,
     "metadata": {},
     "output_type": "execute_result"
    }
   ],
   "source": [
    "dic_notas_alunos2 = {\"João\":{\"nota1\":30,\"nota2\":12,\"nota3\":21},\n",
    "                    \"Maria\":{\"nota1\":20,\"nota2\":30,\"nota3\":29},\n",
    "                    \"José\":{\"nota1\":20,\"nota2\":23,\"nota3\":19}}\n",
    "dic_notas_alunos2"
   ]
  },
  {
   "cell_type": "code",
   "execution_count": 29,
   "metadata": {},
   "outputs": [
    {
     "data": {
      "text/plain": [
       "'Paraná'"
      ]
     },
     "execution_count": 29,
     "metadata": {},
     "output_type": "execute_result"
    }
   ],
   "source": [
    "dic_estados[\"PR\"]"
   ]
  },
  {
   "cell_type": "code",
   "execution_count": 30,
   "metadata": {},
   "outputs": [
    {
     "name": "stdout",
     "output_type": "stream",
     "text": [
      "Eu nasci em Minas Gerais.\n"
     ]
    }
   ],
   "source": [
    "print(\"Eu nasci em \"+dic_estados[\"MG\"]+\".\")"
   ]
  },
  {
   "cell_type": "code",
   "execution_count": 31,
   "metadata": {},
   "outputs": [
    {
     "ename": "KeyError",
     "evalue": "'XYZ'",
     "output_type": "error",
     "traceback": [
      "\u001b[1;31m---------------------------------------------------------------------------\u001b[0m",
      "\u001b[1;31mKeyError\u001b[0m                                  Traceback (most recent call last)",
      "\u001b[1;32m<ipython-input-31-826929f96cae>\u001b[0m in \u001b[0;36m<module>\u001b[1;34m\u001b[0m\n\u001b[1;32m----> 1\u001b[1;33m \u001b[0mdic_estados\u001b[0m\u001b[1;33m[\u001b[0m\u001b[1;34m\"XYZ\"\u001b[0m\u001b[1;33m]\u001b[0m\u001b[1;33m\u001b[0m\u001b[1;33m\u001b[0m\u001b[0m\n\u001b[0m",
      "\u001b[1;31mKeyError\u001b[0m: 'XYZ'"
     ]
    }
   ],
   "source": [
    "dic_estados[\"XYZ\"]"
   ]
  },
  {
   "cell_type": "code",
   "execution_count": 32,
   "metadata": {},
   "outputs": [
    {
     "data": {
      "text/plain": [
       "'Borracha'"
      ]
     },
     "execution_count": 32,
     "metadata": {},
     "output_type": "execute_result"
    }
   ],
   "source": [
    "dic_produtos[2329]"
   ]
  },
  {
   "cell_type": "code",
   "execution_count": 35,
   "metadata": {},
   "outputs": [
    {
     "name": "stdout",
     "output_type": "stream",
     "text": [
      "As notas de Maria foram:[20, 30, 29].\n"
     ]
    }
   ],
   "source": [
    "nome_aluno=\"Maria\"\n",
    "print(\"As notas de \"+nome_aluno+\" foram:\"+str(dic_notas_alunos[nome_aluno])+\".\")"
   ]
  },
  {
   "cell_type": "code",
   "execution_count": 38,
   "metadata": {},
   "outputs": [
    {
     "name": "stdout",
     "output_type": "stream",
     "text": [
      "Maria tirou 20 pontos na 1a prova\n"
     ]
    }
   ],
   "source": [
    "print(nome_aluno+\" tirou \"+str(dic_notas_alunos[nome_aluno][0])+\" pontos na 1a prova\")"
   ]
  },
  {
   "cell_type": "code",
   "execution_count": 39,
   "metadata": {},
   "outputs": [
    {
     "data": {
      "text/plain": [
       "30"
      ]
     },
     "execution_count": 39,
     "metadata": {},
     "output_type": "execute_result"
    }
   ],
   "source": [
    "dic_notas_alunos2[\"João\"][\"nota1\"]"
   ]
  },
  {
   "cell_type": "code",
   "execution_count": 40,
   "metadata": {},
   "outputs": [
    {
     "data": {
      "text/plain": [
       "{'MG': 'Minas Gerais',\n",
       " 'PR': 'Paraná',\n",
       " 'BA': 'Bahia',\n",
       " 'RN': 'Rio grande do Norte',\n",
       " 'AM': 'Amzonas'}"
      ]
     },
     "execution_count": 40,
     "metadata": {},
     "output_type": "execute_result"
    }
   ],
   "source": [
    "dic_estados"
   ]
  },
  {
   "cell_type": "code",
   "execution_count": 43,
   "metadata": {},
   "outputs": [
    {
     "data": {
      "text/plain": [
       "{'MG': 'Minas Gerais',\n",
       " 'PR': 'Paraná',\n",
       " 'BA': 'Bahia',\n",
       " 'RN': 'Rio grande do Norte',\n",
       " 'AM': 'Amazonas'}"
      ]
     },
     "execution_count": 43,
     "metadata": {},
     "output_type": "execute_result"
    }
   ],
   "source": [
    "dic_estados[\"AM\"] = \"Amazonas\"\n",
    "dic_estados"
   ]
  },
  {
   "cell_type": "code",
   "execution_count": 44,
   "metadata": {},
   "outputs": [
    {
     "data": {
      "text/plain": [
       "{'João': [30, 12, 21], 'Maria': [20, 30, 29], 'José': [20, 23, 19]}"
      ]
     },
     "execution_count": 44,
     "metadata": {},
     "output_type": "execute_result"
    }
   ],
   "source": [
    "dic_notas_alunos"
   ]
  },
  {
   "cell_type": "code",
   "execution_count": 45,
   "metadata": {},
   "outputs": [
    {
     "data": {
      "text/plain": [
       "{'João': [30, 22, 21], 'Maria': [20, 30, 29], 'José': [20, 23, 19]}"
      ]
     },
     "execution_count": 45,
     "metadata": {},
     "output_type": "execute_result"
    }
   ],
   "source": [
    "dic_notas_alunos[\"João\"][1]=22\n",
    "dic_notas_alunos"
   ]
  },
  {
   "cell_type": "code",
   "execution_count": 47,
   "metadata": {},
   "outputs": [
    {
     "data": {
      "text/plain": [
       "{'João': [30, 22, 21], 'Maria': [25, 20, 22], 'José': [20, 23, 19]}"
      ]
     },
     "execution_count": 47,
     "metadata": {},
     "output_type": "execute_result"
    }
   ],
   "source": [
    "dic_notas_alunos[\"Maria\"] = [25,20,22]\n",
    "dic_notas_alunos"
   ]
  },
  {
   "cell_type": "code",
   "execution_count": 48,
   "metadata": {},
   "outputs": [
    {
     "data": {
      "text/plain": [
       "{'João': {'nota1': 30, 'nota2': 12, 'nota3': 21},\n",
       " 'Maria': {'nota1': 20, 'nota2': 30, 'nota3': 29},\n",
       " 'José': {'nota1': 20, 'nota2': 23, 'nota3': 19}}"
      ]
     },
     "execution_count": 48,
     "metadata": {},
     "output_type": "execute_result"
    }
   ],
   "source": [
    "dic_notas_alunos2"
   ]
  },
  {
   "cell_type": "code",
   "execution_count": 50,
   "metadata": {},
   "outputs": [
    {
     "data": {
      "text/plain": [
       "{'João': {'nota1': 30, 'nota2': 12, 'nota3': 21},\n",
       " 'Maria': {'nota1': 20, 'nota2': 30, 'nota3': 29},\n",
       " 'José': {'nota1': 20, 'nota2': 23, 'nota3': 25}}"
      ]
     },
     "execution_count": 50,
     "metadata": {},
     "output_type": "execute_result"
    }
   ],
   "source": [
    "dic_notas_alunos2[\"José\"][\"nota3\"]=25\n",
    "dic_notas_alunos2"
   ]
  },
  {
   "cell_type": "code",
   "execution_count": 54,
   "metadata": {},
   "outputs": [
    {
     "data": {
      "text/plain": [
       "{1: 'um', 2: 'dois', 3: 'tres', 4: 'quatro'}"
      ]
     },
     "execution_count": 54,
     "metadata": {},
     "output_type": "execute_result"
    }
   ],
   "source": [
    "dic_exemplo = {1:\"um\",2:\"dois\",3:\"tres\",4:\"quatro\"}\n",
    "dic_exemplo"
   ]
  },
  {
   "cell_type": "code",
   "execution_count": 53,
   "metadata": {},
   "outputs": [
    {
     "data": {
      "text/plain": [
       "{}"
      ]
     },
     "execution_count": 53,
     "metadata": {},
     "output_type": "execute_result"
    }
   ],
   "source": [
    "dic_exemplo.clear()\n",
    "dic_exemplo"
   ]
  },
  {
   "cell_type": "code",
   "execution_count": 56,
   "metadata": {},
   "outputs": [
    {
     "data": {
      "text/plain": [
       "{1: 'um', 2: 'dois', 3: 'tres', 4: 'quatro'}"
      ]
     },
     "execution_count": 56,
     "metadata": {},
     "output_type": "execute_result"
    }
   ],
   "source": [
    "dic_exemplo = {1:\"um\",2:\"dois\",3:\"tres\",4:\"quatro\"}\n",
    "dic_exemplo2 = dic_exemplo.copy()\n",
    "dic_exemplo2"
   ]
  },
  {
   "cell_type": "code",
   "execution_count": 57,
   "metadata": {},
   "outputs": [
    {
     "data": {
      "text/plain": [
       "{2: None, 4: None, 6: None, 8: None, 10: None}"
      ]
     },
     "execution_count": 57,
     "metadata": {},
     "output_type": "execute_result"
    }
   ],
   "source": [
    "dic_num_pares = dict.fromkeys([2,4,6,8,10])\n",
    "dic_num_pares"
   ]
  },
  {
   "cell_type": "code",
   "execution_count": 58,
   "metadata": {},
   "outputs": [
    {
     "data": {
      "text/plain": [
       "{2: 'par', 4: 'par', 6: 'par', 8: 'par', 10: 'par'}"
      ]
     },
     "execution_count": 58,
     "metadata": {},
     "output_type": "execute_result"
    }
   ],
   "source": [
    "dic_num_pares = dict.fromkeys([2,4,6,8,10],\"par\")\n",
    "dic_num_pares"
   ]
  },
  {
   "cell_type": "code",
   "execution_count": 59,
   "metadata": {},
   "outputs": [
    {
     "data": {
      "text/plain": [
       "'dois'"
      ]
     },
     "execution_count": 59,
     "metadata": {},
     "output_type": "execute_result"
    }
   ],
   "source": [
    "dic_exemplo.get(2)"
   ]
  },
  {
   "cell_type": "code",
   "execution_count": 60,
   "metadata": {},
   "outputs": [
    {
     "data": {
      "text/plain": [
       "dict_items([(1, 'um'), (2, 'dois'), (3, 'tres'), (4, 'quatro')])"
      ]
     },
     "execution_count": 60,
     "metadata": {},
     "output_type": "execute_result"
    }
   ],
   "source": [
    "dic_exemplo.items()"
   ]
  },
  {
   "cell_type": "code",
   "execution_count": 61,
   "metadata": {},
   "outputs": [
    {
     "data": {
      "text/plain": [
       "dict_keys([1, 2, 3, 4])"
      ]
     },
     "execution_count": 61,
     "metadata": {},
     "output_type": "execute_result"
    }
   ],
   "source": [
    "dic_exemplo.keys()"
   ]
  },
  {
   "cell_type": "code",
   "execution_count": 62,
   "metadata": {},
   "outputs": [
    {
     "data": {
      "text/plain": [
       "{2: 'dois', 3: 'tres', 4: 'quatro'}"
      ]
     },
     "execution_count": 62,
     "metadata": {},
     "output_type": "execute_result"
    }
   ],
   "source": [
    "dic_exemplo.pop(1)\n",
    "dic_exemplo"
   ]
  },
  {
   "cell_type": "code",
   "execution_count": 63,
   "metadata": {},
   "outputs": [
    {
     "data": {
      "text/plain": [
       "{2: 'dois', 3: 'tres'}"
      ]
     },
     "execution_count": 63,
     "metadata": {},
     "output_type": "execute_result"
    }
   ],
   "source": [
    "valor = dic_exemplo.pop(4)\n",
    "dic_exemplo"
   ]
  },
  {
   "cell_type": "code",
   "execution_count": 64,
   "metadata": {},
   "outputs": [
    {
     "data": {
      "text/plain": [
       "'quatro'"
      ]
     },
     "execution_count": 64,
     "metadata": {},
     "output_type": "execute_result"
    }
   ],
   "source": [
    "valor"
   ]
  },
  {
   "cell_type": "code",
   "execution_count": 65,
   "metadata": {},
   "outputs": [],
   "source": [
    "removido = dic_num_pares.popitem()"
   ]
  },
  {
   "cell_type": "code",
   "execution_count": 66,
   "metadata": {},
   "outputs": [
    {
     "data": {
      "text/plain": [
       "(10, 'par')"
      ]
     },
     "execution_count": 66,
     "metadata": {},
     "output_type": "execute_result"
    }
   ],
   "source": [
    "removido"
   ]
  },
  {
   "cell_type": "code",
   "execution_count": 67,
   "metadata": {},
   "outputs": [
    {
     "data": {
      "text/plain": [
       "{2: 'par', 4: 'par', 6: 'par', 8: 'par'}"
      ]
     },
     "execution_count": 67,
     "metadata": {},
     "output_type": "execute_result"
    }
   ],
   "source": [
    "dic_num_pares"
   ]
  },
  {
   "cell_type": "code",
   "execution_count": 68,
   "metadata": {},
   "outputs": [
    {
     "data": {
      "text/plain": [
       "'Minas Gerais'"
      ]
     },
     "execution_count": 68,
     "metadata": {},
     "output_type": "execute_result"
    }
   ],
   "source": [
    "dic_estados.setdefault(\"MG\")"
   ]
  },
  {
   "cell_type": "code",
   "execution_count": 69,
   "metadata": {},
   "outputs": [],
   "source": [
    "dic_estados.setdefault(\"ES\")"
   ]
  },
  {
   "cell_type": "code",
   "execution_count": 70,
   "metadata": {},
   "outputs": [
    {
     "data": {
      "text/plain": [
       "{'MG': 'Minas Gerais',\n",
       " 'PR': 'Paraná',\n",
       " 'BA': 'Bahia',\n",
       " 'RN': 'Rio grande do Norte',\n",
       " 'AM': 'Amazonas',\n",
       " 'ES': None}"
      ]
     },
     "execution_count": 70,
     "metadata": {},
     "output_type": "execute_result"
    }
   ],
   "source": [
    "dic_estados"
   ]
  },
  {
   "cell_type": "code",
   "execution_count": 71,
   "metadata": {},
   "outputs": [
    {
     "data": {
      "text/plain": [
       "'Santa Catarina'"
      ]
     },
     "execution_count": 71,
     "metadata": {},
     "output_type": "execute_result"
    }
   ],
   "source": [
    "dic_estados.setdefault(\"SC\",\"Santa Catarina\")"
   ]
  },
  {
   "cell_type": "code",
   "execution_count": 72,
   "metadata": {},
   "outputs": [
    {
     "data": {
      "text/plain": [
       "{'MG': 'Minas Gerais',\n",
       " 'PR': 'Paraná',\n",
       " 'BA': 'Bahia',\n",
       " 'RN': 'Rio grande do Norte',\n",
       " 'AM': 'Amazonas',\n",
       " 'ES': None,\n",
       " 'SC': 'Santa Catarina'}"
      ]
     },
     "execution_count": 72,
     "metadata": {},
     "output_type": "execute_result"
    }
   ],
   "source": [
    "dic_estados"
   ]
  },
  {
   "cell_type": "code",
   "execution_count": 73,
   "metadata": {},
   "outputs": [
    {
     "data": {
      "text/plain": [
       "{'MS': 'Mato Grosso do Sul', 'TO': 'Tocantis', 'GO': 'Goiás'}"
      ]
     },
     "execution_count": 73,
     "metadata": {},
     "output_type": "execute_result"
    }
   ],
   "source": [
    "dic_estados_centro_oeste = {\"MS\":\"Mato Grosso do Sul\",\"TO\":\"Tocantis\",\"GO\":\"Goiás\"}\n",
    "dic_estados_centro_oeste"
   ]
  },
  {
   "cell_type": "code",
   "execution_count": 74,
   "metadata": {},
   "outputs": [
    {
     "data": {
      "text/plain": [
       "{'MG': 'Minas Gerais',\n",
       " 'PR': 'Paraná',\n",
       " 'BA': 'Bahia',\n",
       " 'RN': 'Rio grande do Norte',\n",
       " 'AM': 'Amazonas',\n",
       " 'ES': None,\n",
       " 'SC': 'Santa Catarina',\n",
       " 'MS': 'Mato Grosso do Sul',\n",
       " 'TO': 'Tocantis',\n",
       " 'GO': 'Goiás'}"
      ]
     },
     "execution_count": 74,
     "metadata": {},
     "output_type": "execute_result"
    }
   ],
   "source": [
    "dic_estados.update(dic_estados_centro_oeste)\n",
    "dic_estados"
   ]
  },
  {
   "cell_type": "code",
   "execution_count": 75,
   "metadata": {},
   "outputs": [
    {
     "data": {
      "text/plain": [
       "dict_values(['Minas Gerais', 'Paraná', 'Bahia', 'Rio grande do Norte', 'Amazonas', None, 'Santa Catarina', 'Mato Grosso do Sul', 'Tocantis', 'Goiás'])"
      ]
     },
     "execution_count": 75,
     "metadata": {},
     "output_type": "execute_result"
    }
   ],
   "source": [
    "    dic_estados.values()"
   ]
  },
  {
   "cell_type": "code",
   "execution_count": null,
   "metadata": {},
   "outputs": [],
   "source": []
  }
 ],
 "metadata": {
  "kernelspec": {
   "display_name": "Python 3",
   "language": "python",
   "name": "python3"
  },
  "language_info": {
   "codemirror_mode": {
    "name": "ipython",
    "version": 3
   },
   "file_extension": ".py",
   "mimetype": "text/x-python",
   "name": "python",
   "nbconvert_exporter": "python",
   "pygments_lexer": "ipython3",
   "version": "3.7.6"
  }
 },
 "nbformat": 4,
 "nbformat_minor": 4
}
