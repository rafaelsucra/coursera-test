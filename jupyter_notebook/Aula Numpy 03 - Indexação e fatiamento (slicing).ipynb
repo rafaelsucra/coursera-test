{
 "cells": [
  {
   "cell_type": "markdown",
   "metadata": {},
   "source": [
    "# Indexação e fatiamento (slicing)"
   ]
  },
  {
   "cell_type": "code",
   "execution_count": 1,
   "metadata": {},
   "outputs": [],
   "source": [
    "# Importando o NumPy\n",
    "import numpy as np"
   ]
  },
  {
   "cell_type": "code",
   "execution_count": 3,
   "metadata": {},
   "outputs": [
    {
     "data": {
      "text/plain": [
       "array([2, 6, 0, 2, 2, 0, 6, 4, 2, 9])"
      ]
     },
     "execution_count": 3,
     "metadata": {},
     "output_type": "execute_result"
    }
   ],
   "source": [
    "# Cria um ndarray com 10 elementos entre 0 e 9\n",
    "a1D = np.random.randint(0, 10, 10)\n",
    "a1D"
   ]
  },
  {
   "cell_type": "code",
   "execution_count": 4,
   "metadata": {},
   "outputs": [
    {
     "data": {
      "text/plain": [
       "array([[18, 41, 15, 32, 98],\n",
       "       [35, 81, 23, 15, 46],\n",
       "       [18, 21, 92, 65,  7],\n",
       "       [45, 87, 53, 36, 29]])"
      ]
     },
     "execution_count": 4,
     "metadata": {},
     "output_type": "execute_result"
    }
   ],
   "source": [
    "a2D = np.random.randint(1, 101, (4,5)) # Cria um ndarray de 4 linhas x 5 colunas com elementos entre 1 e 100\n",
    "a2D"
   ]
  },
  {
   "cell_type": "code",
   "execution_count": 5,
   "metadata": {},
   "outputs": [
    {
     "data": {
      "text/plain": [
       "array([[[0.95047576, 0.28387569, 0.39018077, 0.4101434 , 0.84686563],\n",
       "        [0.45122203, 0.80512133, 0.67918218, 0.51564587, 0.88124379],\n",
       "        [0.08960898, 0.744089  , 0.22619875, 0.17423402, 0.12338124],\n",
       "        [0.11953402, 0.63693833, 0.04137103, 0.42996416, 0.61299739]],\n",
       "\n",
       "       [[0.0921162 , 0.36138885, 0.45056398, 0.15212834, 0.69614462],\n",
       "        [0.78390733, 0.33855031, 0.91017118, 0.92758773, 0.07672989],\n",
       "        [0.60454425, 0.26955637, 0.47235992, 0.31431681, 0.75981562],\n",
       "        [0.72164709, 0.16480818, 0.54658344, 0.00765507, 0.73118411]],\n",
       "\n",
       "       [[0.45758144, 0.2292944 , 0.50914657, 0.32424433, 0.01065189],\n",
       "        [0.20258677, 0.47475028, 0.99352697, 0.90426054, 0.9515727 ],\n",
       "        [0.29888807, 0.24350312, 0.62148088, 0.45508145, 0.21818154],\n",
       "        [0.09666926, 0.52792481, 0.24010734, 0.1643924 , 0.14832783]]])"
      ]
     },
     "execution_count": 5,
     "metadata": {},
     "output_type": "execute_result"
    }
   ],
   "source": [
    "a3D = np.random.random((3,4,5)) # Cria um ndarray de 3 páginas x 4 linhas x 5 colunas com elementos entre 0 e 1\n",
    "a3D"
   ]
  },
  {
   "cell_type": "markdown",
   "metadata": {},
   "source": [
    "### Acessando elementos específicos"
   ]
  },
  {
   "cell_type": "code",
   "execution_count": 6,
   "metadata": {},
   "outputs": [
    {
     "data": {
      "text/plain": [
       "array([2, 6, 0, 2, 2, 0, 6, 4, 2, 9])"
      ]
     },
     "execution_count": 6,
     "metadata": {},
     "output_type": "execute_result"
    }
   ],
   "source": [
    "# Acessando elementos de um ndarray de 1 dimensão\n",
    "a1D"
   ]
  },
  {
   "cell_type": "code",
   "execution_count": 7,
   "metadata": {},
   "outputs": [
    {
     "data": {
      "text/plain": [
       "2"
      ]
     },
     "execution_count": 7,
     "metadata": {},
     "output_type": "execute_result"
    }
   ],
   "source": [
    "# nome_do_array[índice]\n",
    "a1D[0]"
   ]
  },
  {
   "cell_type": "code",
   "execution_count": 8,
   "metadata": {},
   "outputs": [
    {
     "data": {
      "text/plain": [
       "0"
      ]
     },
     "execution_count": 8,
     "metadata": {},
     "output_type": "execute_result"
    }
   ],
   "source": [
    "a1D[2]"
   ]
  },
  {
   "cell_type": "code",
   "execution_count": 9,
   "metadata": {},
   "outputs": [
    {
     "data": {
      "text/plain": [
       "9"
      ]
     },
     "execution_count": 9,
     "metadata": {},
     "output_type": "execute_result"
    }
   ],
   "source": [
    "a1D[-1]"
   ]
  },
  {
   "cell_type": "code",
   "execution_count": 10,
   "metadata": {},
   "outputs": [
    {
     "data": {
      "text/plain": [
       "array([2, 2, 9])"
      ]
     },
     "execution_count": 10,
     "metadata": {},
     "output_type": "execute_result"
    }
   ],
   "source": [
    "indices = [3, 0, -1] # Definindo uma lista com os índices que se deseja acessar\n",
    "a1D[indices]"
   ]
  },
  {
   "cell_type": "code",
   "execution_count": 11,
   "metadata": {},
   "outputs": [
    {
     "data": {
      "text/plain": [
       "array([[18, 41, 15, 32, 98],\n",
       "       [35, 81, 23, 15, 46],\n",
       "       [18, 21, 92, 65,  7],\n",
       "       [45, 87, 53, 36, 29]])"
      ]
     },
     "execution_count": 11,
     "metadata": {},
     "output_type": "execute_result"
    }
   ],
   "source": [
    "# Acessando elementos de um ndarray de 2 dimensões\n",
    "a2D"
   ]
  },
  {
   "cell_type": "code",
   "execution_count": 12,
   "metadata": {},
   "outputs": [
    {
     "data": {
      "text/plain": [
       "23"
      ]
     },
     "execution_count": 12,
     "metadata": {},
     "output_type": "execute_result"
    }
   ],
   "source": [
    "# nome_da_matriz[linha][coluna]\n",
    "a2D[1][2]"
   ]
  },
  {
   "cell_type": "code",
   "execution_count": 13,
   "metadata": {},
   "outputs": [
    {
     "data": {
      "text/plain": [
       "29"
      ]
     },
     "execution_count": 13,
     "metadata": {},
     "output_type": "execute_result"
    }
   ],
   "source": [
    "a2D[3][4]"
   ]
  },
  {
   "cell_type": "code",
   "execution_count": 14,
   "metadata": {},
   "outputs": [
    {
     "data": {
      "text/plain": [
       "array([18, 81, 92, 36])"
      ]
     },
     "execution_count": 14,
     "metadata": {},
     "output_type": "execute_result"
    }
   ],
   "source": [
    "indice_lin = [0, 1, 2, 3]\n",
    "indice_col = [0, 1, 2, 3]\n",
    "\n",
    "a2D[indice_lin, indice_col]"
   ]
  },
  {
   "cell_type": "code",
   "execution_count": 15,
   "metadata": {},
   "outputs": [
    {
     "data": {
      "text/plain": [
       "array([32, 23, 21, 45])"
      ]
     },
     "execution_count": 15,
     "metadata": {},
     "output_type": "execute_result"
    }
   ],
   "source": [
    "indice_lin = [0, 1, 2, 3]\n",
    "indice_col = [3, 2, 1, 0]\n",
    "\n",
    "a2D[indice_lin, indice_col]"
   ]
  },
  {
   "cell_type": "code",
   "execution_count": 16,
   "metadata": {},
   "outputs": [
    {
     "data": {
      "text/plain": [
       "array([36, 92, 81, 18])"
      ]
     },
     "execution_count": 16,
     "metadata": {},
     "output_type": "execute_result"
    }
   ],
   "source": [
    "indice_lin = [3, 2, 1, 0]\n",
    "indice_col = [3, 2, 1, 0]\n",
    "\n",
    "a2D[indice_lin, indice_col]"
   ]
  },
  {
   "cell_type": "code",
   "execution_count": 17,
   "metadata": {},
   "outputs": [
    {
     "data": {
      "text/plain": [
       "array([[18, 41, 15, 18],\n",
       "       [35, 81, 23, 35],\n",
       "       [18, 21, 92, 18],\n",
       "       [45, 87, 53, 45]])"
      ]
     },
     "execution_count": 17,
     "metadata": {},
     "output_type": "execute_result"
    }
   ],
   "source": [
    "a2D[:,[0,1,2,0]] "
   ]
  },
  {
   "cell_type": "code",
   "execution_count": 18,
   "metadata": {},
   "outputs": [
    {
     "data": {
      "text/plain": [
       "array([[35, 81, 23, 35],\n",
       "       [18, 41, 15, 18],\n",
       "       [35, 81, 23, 35],\n",
       "       [18, 41, 15, 18]])"
      ]
     },
     "execution_count": 18,
     "metadata": {},
     "output_type": "execute_result"
    }
   ],
   "source": [
    "a2D[:,[0,1,2,0]][[1, 0, 1, 0]]"
   ]
  },
  {
   "cell_type": "code",
   "execution_count": 19,
   "metadata": {},
   "outputs": [
    {
     "data": {
      "text/plain": [
       "array([[18, 41, 15, 32, 98],\n",
       "       [35, 81, 23, 15, 46],\n",
       "       [18, 21, 92, 65,  7],\n",
       "       [45, 87, 53, 36, 29]])"
      ]
     },
     "execution_count": 19,
     "metadata": {},
     "output_type": "execute_result"
    }
   ],
   "source": [
    "a2D"
   ]
  },
  {
   "cell_type": "code",
   "execution_count": 20,
   "metadata": {},
   "outputs": [
    {
     "data": {
      "text/plain": [
       "array([[35, 81, 23, 35],\n",
       "       [18, 41, 15, 18],\n",
       "       [35, 81, 23, 35],\n",
       "       [18, 41, 15, 18]])"
      ]
     },
     "execution_count": 20,
     "metadata": {},
     "output_type": "execute_result"
    }
   ],
   "source": [
    "a2D[[1, 0, 1, 0]][:,[0,1,2,0]] "
   ]
  },
  {
   "cell_type": "code",
   "execution_count": 21,
   "metadata": {},
   "outputs": [
    {
     "data": {
      "text/plain": [
       "array([[[0.95047576, 0.28387569, 0.39018077, 0.4101434 , 0.84686563],\n",
       "        [0.45122203, 0.80512133, 0.67918218, 0.51564587, 0.88124379],\n",
       "        [0.08960898, 0.744089  , 0.22619875, 0.17423402, 0.12338124],\n",
       "        [0.11953402, 0.63693833, 0.04137103, 0.42996416, 0.61299739]],\n",
       "\n",
       "       [[0.0921162 , 0.36138885, 0.45056398, 0.15212834, 0.69614462],\n",
       "        [0.78390733, 0.33855031, 0.91017118, 0.92758773, 0.07672989],\n",
       "        [0.60454425, 0.26955637, 0.47235992, 0.31431681, 0.75981562],\n",
       "        [0.72164709, 0.16480818, 0.54658344, 0.00765507, 0.73118411]],\n",
       "\n",
       "       [[0.45758144, 0.2292944 , 0.50914657, 0.32424433, 0.01065189],\n",
       "        [0.20258677, 0.47475028, 0.99352697, 0.90426054, 0.9515727 ],\n",
       "        [0.29888807, 0.24350312, 0.62148088, 0.45508145, 0.21818154],\n",
       "        [0.09666926, 0.52792481, 0.24010734, 0.1643924 , 0.14832783]]])"
      ]
     },
     "execution_count": 21,
     "metadata": {},
     "output_type": "execute_result"
    }
   ],
   "source": [
    "# Acessando elementos de um ndarray de 3 dimensões\n",
    "a3D"
   ]
  },
  {
   "cell_type": "code",
   "execution_count": 22,
   "metadata": {},
   "outputs": [
    {
     "data": {
      "text/plain": [
       "0.32424433245953077"
      ]
     },
     "execution_count": 22,
     "metadata": {},
     "output_type": "execute_result"
    }
   ],
   "source": [
    "# nome_do_cubo[página][linha][coluna]\n",
    "a3D[2][0][3]"
   ]
  },
  {
   "cell_type": "code",
   "execution_count": 23,
   "metadata": {},
   "outputs": [
    {
     "data": {
      "text/plain": [
       "0.6369383304185015"
      ]
     },
     "execution_count": 23,
     "metadata": {},
     "output_type": "execute_result"
    }
   ],
   "source": [
    "a3D[0][3][1]"
   ]
  },
  {
   "cell_type": "markdown",
   "metadata": {},
   "source": [
    "### Fatiamento (slicing)"
   ]
  },
  {
   "cell_type": "code",
   "execution_count": 24,
   "metadata": {},
   "outputs": [
    {
     "data": {
      "text/plain": [
       "array([2, 6, 0, 2, 2, 0, 6, 4, 2, 9])"
      ]
     },
     "execution_count": 24,
     "metadata": {},
     "output_type": "execute_result"
    }
   ],
   "source": [
    "# Array de 1 dimensão\n",
    "a1D"
   ]
  },
  {
   "cell_type": "code",
   "execution_count": 25,
   "metadata": {},
   "outputs": [
    {
     "data": {
      "text/plain": [
       "array([6, 0, 2, 2])"
      ]
     },
     "execution_count": 25,
     "metadata": {},
     "output_type": "execute_result"
    }
   ],
   "source": [
    "a = a1D[1:5] # Índice 1 ao 4\n",
    "a"
   ]
  },
  {
   "cell_type": "code",
   "execution_count": 26,
   "metadata": {},
   "outputs": [
    {
     "data": {
      "text/plain": [
       "array([2, 6, 0, 2, 2, 0])"
      ]
     },
     "execution_count": 26,
     "metadata": {},
     "output_type": "execute_result"
    }
   ],
   "source": [
    "b = a1D[0:6] # Índice 0 ao 5\n",
    "b"
   ]
  },
  {
   "cell_type": "code",
   "execution_count": 27,
   "metadata": {},
   "outputs": [
    {
     "data": {
      "text/plain": [
       "array([2, 6, 0, 2, 2, 0])"
      ]
     },
     "execution_count": 27,
     "metadata": {},
     "output_type": "execute_result"
    }
   ],
   "source": [
    "c = a1D[:6] # Do início ao 5\n",
    "c"
   ]
  },
  {
   "cell_type": "code",
   "execution_count": 28,
   "metadata": {},
   "outputs": [
    {
     "data": {
      "text/plain": [
       "array([2, 0, 2, 6, 2])"
      ]
     },
     "execution_count": 28,
     "metadata": {},
     "output_type": "execute_result"
    }
   ],
   "source": [
    "d = a1D[::2] # Do início ao fim, com passo 2\n",
    "d"
   ]
  },
  {
   "cell_type": "code",
   "execution_count": 29,
   "metadata": {},
   "outputs": [
    {
     "data": {
      "text/plain": [
       "array([9, 2, 4, 6, 0, 2, 2, 0, 6, 2])"
      ]
     },
     "execution_count": 29,
     "metadata": {},
     "output_type": "execute_result"
    }
   ],
   "source": [
    "e = a1D[-1::-1] # Do final até o início\n",
    "e"
   ]
  },
  {
   "cell_type": "code",
   "execution_count": 30,
   "metadata": {},
   "outputs": [
    {
     "data": {
      "text/plain": [
       "array([[18, 41, 15, 32, 98],\n",
       "       [35, 81, 23, 15, 46],\n",
       "       [18, 21, 92, 65,  7],\n",
       "       [45, 87, 53, 36, 29]])"
      ]
     },
     "execution_count": 30,
     "metadata": {},
     "output_type": "execute_result"
    }
   ],
   "source": [
    "# Array de 2 dimensões\n",
    "a2D"
   ]
  },
  {
   "cell_type": "code",
   "execution_count": 31,
   "metadata": {},
   "outputs": [
    {
     "data": {
      "text/plain": [
       "array([18, 41, 15, 32, 98])"
      ]
     },
     "execution_count": 31,
     "metadata": {},
     "output_type": "execute_result"
    }
   ],
   "source": [
    "linha0 = a2D[0] # Todos os elementos da linha 0 - outra forma seria: linha0 = a2D[0,:]\n",
    "linha0"
   ]
  },
  {
   "cell_type": "code",
   "execution_count": 32,
   "metadata": {},
   "outputs": [
    {
     "data": {
      "text/plain": [
       "array([35, 81, 23, 15, 46])"
      ]
     },
     "execution_count": 32,
     "metadata": {},
     "output_type": "execute_result"
    }
   ],
   "source": [
    "linha1 = a2D[1,:] # Todos os elementos da linha 1\n",
    "linha1"
   ]
  },
  {
   "cell_type": "code",
   "execution_count": 33,
   "metadata": {},
   "outputs": [
    {
     "data": {
      "text/plain": [
       "array([21, 92, 65])"
      ]
     },
     "execution_count": 33,
     "metadata": {},
     "output_type": "execute_result"
    }
   ],
   "source": [
    "linha2 = a2D[2,1:4] # Linha 2, colunas 1, 2 e 3\n",
    "linha2"
   ]
  },
  {
   "cell_type": "code",
   "execution_count": 34,
   "metadata": {},
   "outputs": [
    {
     "data": {
      "text/plain": [
       "array([45, 87, 53, 36, 29])"
      ]
     },
     "execution_count": 34,
     "metadata": {},
     "output_type": "execute_result"
    }
   ],
   "source": [
    "linha3 = a2D[:][3] # a2D[:] retorna toda a matriz, então de toda a matriz queremos a linha 3 a2D[:][3]\n",
    "linha3"
   ]
  },
  {
   "cell_type": "code",
   "execution_count": 35,
   "metadata": {},
   "outputs": [
    {
     "data": {
      "text/plain": [
       "array([15, 23, 92, 53])"
      ]
     },
     "execution_count": 35,
     "metadata": {},
     "output_type": "execute_result"
    }
   ],
   "source": [
    "coluna2 = a2D[:,2] # De todas as linhas, selecionar a coluna 2\n",
    "coluna2"
   ]
  },
  {
   "cell_type": "code",
   "execution_count": 36,
   "metadata": {},
   "outputs": [
    {
     "data": {
      "text/plain": [
       "array([15, 65, 36])"
      ]
     },
     "execution_count": 36,
     "metadata": {},
     "output_type": "execute_result"
    }
   ],
   "source": [
    "coluna3 = a2D[1:,3] # Da linha um até a última, selecionar a coluna 3\n",
    "coluna3"
   ]
  },
  {
   "cell_type": "code",
   "execution_count": 37,
   "metadata": {},
   "outputs": [
    {
     "data": {
      "text/plain": [
       "array([[[0.95047576, 0.28387569, 0.39018077, 0.4101434 , 0.84686563],\n",
       "        [0.45122203, 0.80512133, 0.67918218, 0.51564587, 0.88124379],\n",
       "        [0.08960898, 0.744089  , 0.22619875, 0.17423402, 0.12338124],\n",
       "        [0.11953402, 0.63693833, 0.04137103, 0.42996416, 0.61299739]],\n",
       "\n",
       "       [[0.0921162 , 0.36138885, 0.45056398, 0.15212834, 0.69614462],\n",
       "        [0.78390733, 0.33855031, 0.91017118, 0.92758773, 0.07672989],\n",
       "        [0.60454425, 0.26955637, 0.47235992, 0.31431681, 0.75981562],\n",
       "        [0.72164709, 0.16480818, 0.54658344, 0.00765507, 0.73118411]],\n",
       "\n",
       "       [[0.45758144, 0.2292944 , 0.50914657, 0.32424433, 0.01065189],\n",
       "        [0.20258677, 0.47475028, 0.99352697, 0.90426054, 0.9515727 ],\n",
       "        [0.29888807, 0.24350312, 0.62148088, 0.45508145, 0.21818154],\n",
       "        [0.09666926, 0.52792481, 0.24010734, 0.1643924 , 0.14832783]]])"
      ]
     },
     "execution_count": 37,
     "metadata": {},
     "output_type": "execute_result"
    }
   ],
   "source": [
    "# Array de 3 dimensões\n",
    "a3D"
   ]
  },
  {
   "cell_type": "code",
   "execution_count": 38,
   "metadata": {},
   "outputs": [
    {
     "data": {
      "text/plain": [
       "array([[0.0921162 , 0.36138885, 0.45056398, 0.15212834, 0.69614462],\n",
       "       [0.78390733, 0.33855031, 0.91017118, 0.92758773, 0.07672989],\n",
       "       [0.60454425, 0.26955637, 0.47235992, 0.31431681, 0.75981562],\n",
       "       [0.72164709, 0.16480818, 0.54658344, 0.00765507, 0.73118411]])"
      ]
     },
     "execution_count": 38,
     "metadata": {},
     "output_type": "execute_result"
    }
   ],
   "source": [
    "# Acessando a página/face 1\n",
    "face1 = a3D[1]\n",
    "face1"
   ]
  },
  {
   "cell_type": "code",
   "execution_count": 39,
   "metadata": {},
   "outputs": [
    {
     "data": {
      "text/plain": [
       "array([[0.36138885, 0.45056398, 0.15212834],\n",
       "       [0.33855031, 0.91017118, 0.92758773],\n",
       "       [0.26955637, 0.47235992, 0.31431681]])"
      ]
     },
     "execution_count": 39,
     "metadata": {},
     "output_type": "execute_result"
    }
   ],
   "source": [
    "# Acessando uma parte da face1\n",
    "subface1 = a3D[1,0:3, 1:4]\n",
    "subface1"
   ]
  },
  {
   "cell_type": "code",
   "execution_count": 40,
   "metadata": {},
   "outputs": [
    {
     "data": {
      "text/plain": [
       "array([0.08960898, 0.744089  , 0.22619875, 0.17423402, 0.12338124])"
      ]
     },
     "execution_count": 40,
     "metadata": {},
     "output_type": "execute_result"
    }
   ],
   "source": [
    "linha2face0 = a3D[0,2] # outra forma: linha2face0 = a3D[0,2,:]\n",
    "linha2face0"
   ]
  },
  {
   "cell_type": "code",
   "execution_count": 41,
   "metadata": {},
   "outputs": [
    {
     "data": {
      "text/plain": [
       "array([[[0.95047576, 0.28387569, 0.39018077, 0.4101434 , 0.84686563],\n",
       "        [0.45122203, 0.80512133, 0.67918218, 0.51564587, 0.88124379],\n",
       "        [0.08960898, 0.744089  , 0.22619875, 0.17423402, 0.12338124],\n",
       "        [0.11953402, 0.63693833, 0.04137103, 0.42996416, 0.61299739]],\n",
       "\n",
       "       [[0.0921162 , 0.36138885, 0.45056398, 0.15212834, 0.69614462],\n",
       "        [0.78390733, 0.33855031, 0.91017118, 0.92758773, 0.07672989],\n",
       "        [0.60454425, 0.26955637, 0.47235992, 0.31431681, 0.75981562],\n",
       "        [0.72164709, 0.16480818, 0.54658344, 0.00765507, 0.73118411]],\n",
       "\n",
       "       [[0.45758144, 0.2292944 , 0.50914657, 0.32424433, 0.01065189],\n",
       "        [0.20258677, 0.47475028, 0.99352697, 0.90426054, 0.9515727 ],\n",
       "        [0.29888807, 0.24350312, 0.62148088, 0.45508145, 0.21818154],\n",
       "        [0.09666926, 0.52792481, 0.24010734, 0.1643924 , 0.14832783]]])"
      ]
     },
     "execution_count": 41,
     "metadata": {},
     "output_type": "execute_result"
    }
   ],
   "source": [
    "a3D"
   ]
  },
  {
   "cell_type": "code",
   "execution_count": 42,
   "metadata": {},
   "outputs": [
    {
     "data": {
      "text/plain": [
       "array([[0.45122203, 0.80512133, 0.67918218, 0.51564587, 0.88124379],\n",
       "       [0.78390733, 0.33855031, 0.91017118, 0.92758773, 0.07672989],\n",
       "       [0.20258677, 0.47475028, 0.99352697, 0.90426054, 0.9515727 ]])"
      ]
     },
     "execution_count": 42,
     "metadata": {},
     "output_type": "execute_result"
    }
   ],
   "source": [
    "linha1todasfaces = a3D[:,1] # outra forma: linha1todasfaces = a3D[:,1,:]\n",
    "linha1todasfaces"
   ]
  },
  {
   "cell_type": "code",
   "execution_count": 43,
   "metadata": {},
   "outputs": [
    {
     "data": {
      "text/plain": [
       "array([[0.4101434 , 0.51564587, 0.17423402, 0.42996416],\n",
       "       [0.15212834, 0.92758773, 0.31431681, 0.00765507],\n",
       "       [0.32424433, 0.90426054, 0.45508145, 0.1643924 ]])"
      ]
     },
     "execution_count": 43,
     "metadata": {},
     "output_type": "execute_result"
    }
   ],
   "source": [
    "coluna3todasfaces = a3D[:,:,3]\n",
    "coluna3todasfaces"
   ]
  },
  {
   "cell_type": "markdown",
   "metadata": {},
   "source": [
    "### Indexação com booleanos"
   ]
  },
  {
   "cell_type": "code",
   "execution_count": 44,
   "metadata": {},
   "outputs": [
    {
     "data": {
      "text/plain": [
       "array([[325,  81, 464, 222, 101,  88, 221, 409],\n",
       "       [468, 311, 147, 354, 442, 216, 186, 220],\n",
       "       [200, 101, 449, 360,  21, 239, 182, 203],\n",
       "       [355, 314, 120,  28, 473, 294,  65, 113],\n",
       "       [155, 462,  84, 215,  85, 335, 446,  48],\n",
       "       [ 81,  78, 369, 327, 478, 157, 362, 123],\n",
       "       [222, 182, 484, 195, 277,  56, 138, 252],\n",
       "       [485, 426, 450,   1, 105, 257, 287, 383],\n",
       "       [ 54, 457,  41, 434, 270, 407, 496, 315],\n",
       "       [296, 425,  21, 258, 201, 406, 235, 214]])"
      ]
     },
     "execution_count": 44,
     "metadata": {},
     "output_type": "execute_result"
    }
   ],
   "source": [
    "a2D = np.random.randint(1, 501, (10, 8)) # Cria um ndarray de 4 linhas x 5 colunas com elementos entre 1 e 100\n",
    "a2D"
   ]
  },
  {
   "cell_type": "code",
   "execution_count": 45,
   "metadata": {},
   "outputs": [
    {
     "data": {
      "text/plain": [
       "array([[ True, False,  True, False, False, False, False,  True],\n",
       "       [ True,  True, False,  True,  True, False, False, False],\n",
       "       [False, False,  True,  True, False, False, False, False],\n",
       "       [ True,  True, False, False,  True,  True, False, False],\n",
       "       [False,  True, False, False, False,  True,  True, False],\n",
       "       [False, False,  True,  True,  True, False,  True, False],\n",
       "       [False, False,  True, False,  True, False, False,  True],\n",
       "       [ True,  True,  True, False, False,  True,  True,  True],\n",
       "       [False,  True, False,  True,  True,  True,  True,  True],\n",
       "       [ True,  True, False,  True, False,  True, False, False]])"
      ]
     },
     "execution_count": 45,
     "metadata": {},
     "output_type": "execute_result"
    }
   ],
   "source": [
    "a2D >= 250"
   ]
  },
  {
   "cell_type": "code",
   "execution_count": 46,
   "metadata": {},
   "outputs": [
    {
     "data": {
      "text/plain": [
       "array([325, 464, 409, 468, 311, 354, 442, 449, 360, 355, 314, 473, 294,\n",
       "       462, 335, 446, 369, 327, 478, 362, 484, 277, 252, 485, 426, 450,\n",
       "       257, 287, 383, 457, 434, 270, 407, 496, 315, 296, 425, 258, 406])"
      ]
     },
     "execution_count": 46,
     "metadata": {},
     "output_type": "execute_result"
    }
   ],
   "source": [
    "a2D[a2D >= 250]"
   ]
  },
  {
   "cell_type": "code",
   "execution_count": 47,
   "metadata": {},
   "outputs": [
    {
     "data": {
      "text/plain": [
       "253.8375"
      ]
     },
     "execution_count": 47,
     "metadata": {},
     "output_type": "execute_result"
    }
   ],
   "source": [
    "a2D.mean()"
   ]
  },
  {
   "cell_type": "code",
   "execution_count": 48,
   "metadata": {},
   "outputs": [
    {
     "data": {
      "text/plain": [
       "array([ 81, 222, 101,  88, 221, 147, 216, 186, 220, 200, 101,  21, 239,\n",
       "       182, 203, 120,  28,  65, 113, 155,  84, 215,  85,  48,  81,  78,\n",
       "       157, 123, 222, 182, 195,  56, 138, 252,   1, 105,  54,  41,  21,\n",
       "       201, 235, 214])"
      ]
     },
     "execution_count": 48,
     "metadata": {},
     "output_type": "execute_result"
    }
   ],
   "source": [
    "a2D[a2D <= a2D.mean()]"
   ]
  },
  {
   "cell_type": "code",
   "execution_count": null,
   "metadata": {
    "collapsed": true
   },
   "outputs": [],
   "source": []
  }
 ],
 "metadata": {
  "kernelspec": {
   "display_name": "Python 3",
   "language": "python",
   "name": "python3"
  },
  "language_info": {
   "codemirror_mode": {
    "name": "ipython",
    "version": 3
   },
   "file_extension": ".py",
   "mimetype": "text/x-python",
   "name": "python",
   "nbconvert_exporter": "python",
   "pygments_lexer": "ipython3",
   "version": "3.7.6"
  }
 },
 "nbformat": 4,
 "nbformat_minor": 2
}
