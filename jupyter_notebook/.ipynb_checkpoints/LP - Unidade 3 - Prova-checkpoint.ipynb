{
 "cells": [
  {
   "cell_type": "markdown",
   "metadata": {},
   "source": [
    "### Prova da Unidade 2 Linguagem e Programação:\n",
    "\n",
    "#### Conteúdo:\n",
    "\n",
    "|                 Nome                     |         Matérias        |\n",
    "|:----------------------------------------:|:-----------------------:|\n",
    "| Criação de ndarrays                      | U3T1                    |\n",
    "| propriedades de ndarrays                 | U3T2                    |\n",
    "| Indexação e Slicing                      | U3T3                    |\n",
    "| Manipulando ndarrays                     | U3T4                    |\n",
    "| Teste de performance NumPy               | U3T5                    |\n"
   ]
  },
  {
   "cell_type": "markdown",
   "metadata": {},
   "source": [
    "## 1) Qual a saída correta para código a seguir?\n",
    "\n",
    "#### import numpy as np\n",
    "#### series = [[23,45,12,679], [14,48,69,38]]\n",
    "#### new_series = np.array(series)\n",
    "#### print(new_series.ndim)\n",
    "#### print(new_series.shape)\n",
    "#### (X)  2 (2, 4) \n",
    "#### ( )  2 (4, 2) \n",
    "#### ( )  4 (2) \n",
    "#### ( )  2 (4) "
   ]
  },
  {
   "cell_type": "markdown",
   "metadata": {},
   "source": [
    "## 2) Vamos supor que eu queira criar um ndarray de uma dimensão, com 10 posições armazenando o valor 4. Quais das seguintes formas são corretas?\n",
    "  \n",
    "#### [X] a = np.zeros(10) + 4 \n",
    "######   Correto! O comando np.zeros((10)) cria um ndarray com 10 elementos, todos com valor zero. Portanto, quando o adicionarmos o escalar 4 teremos um ndarray com 10 elementos com valor 4.\n",
    "#### [ ] a = np.zeros(10) * 4 \n",
    "#### [X] a = np.ones(10) * 4 \n",
    "######   Correto! O comando np.ones((10)) cria um ndarray com 10 elementos, todos com valor um. Portanto, quando o multiplicarmos por 4 teremos um ndarray com 10 elementos com valor 4.\n",
    "#### [ ] a= np.ones(10) + 4 \n",
    "#### [X] a = np.full(10, 4) \n",
    "######   Correto! O comando np.full(10,4) retorna um ndarray com 10 posições, armazenando o número 4 em cada uma delas."
   ]
  },
  {
   "cell_type": "markdown",
   "metadata": {},
   "source": [
    "## 3) Qual é a saída correta para o código Python a seguir?\n",
    "\n",
    "\n",
    "#### import numpy as np\n",
    "#### dataset = np.array(['paul', 'jacob', 'vince', 'paul', 'miky', 'larence', 'warren'])\n",
    "#### print(dataset == 'paul')\n",
    "  \n",
    "#### [x]  [True False False True False False False] \n",
    "#### [ ]  True \n",
    "#### [ ]  [False False False True False False False] \n",
    "#### [ ]  [True False False False False False False] "
   ]
  },
  {
   "cell_type": "markdown",
   "metadata": {},
   "source": [
    "## 4) Qual é a saída para o código a seguir?\n",
    "\n",
    "#### import numpy as np\n",
    "#### percentiles = [98, 76.37, 55.55, 69, 88]\n",
    "#### first_subject = np.array(percentiles)\n",
    "#### print(first_subject.dtype.name)\n",
    " \n",
    "##### [X]  'float64' \n",
    "##### [ ]  'int32' \n",
    "##### [ ]  'str' \n",
    "##### [ ]  'bool' \n",
    "##### [ ]  'float' "
   ]
  },
  {
   "cell_type": "markdown",
   "metadata": {},
   "source": [
    "## 5) Quais das opções substituem todos os números pares do array abaixo por -1?\n",
    "\n",
    "#### arr = np.array([0, 1, 2, 3, 4, 5, 6, 7, 8, 9])\n",
    "  \n",
    "##### [X]  arr[::2] = -1 \n",
    "##### []  arr[1::2] = -1 \n",
    "##### [X] arr[arr % 2 == 0] = -1 \n",
    "##### [X]  arr[-2::-2] = -1 "
   ]
  },
  {
   "cell_type": "markdown",
   "metadata": {},
   "source": [
    "## 6)Após criar uma matriz identidade de 5x5, um programador deseja preencher os elementos acima e abaixo da diagonal principal com o número -1. Como ele pode fazer isso?\n",
    "\n",
    "#### arr = np.eye(5)\n",
    " \n",
    "##### [X] arr[arr == 0] = -1 \n",
    "##### [X] arr[arr != 1] = -1 \n",
    "##### [ ] arr = np.full((5x5),-1) \n",
    "##### [ ] arr = arr - (np.eye(5) + 1) "
   ]
  },
  {
   "cell_type": "code",
   "execution_count": null,
   "metadata": {},
   "outputs": [],
   "source": []
  }
 ],
 "metadata": {
  "kernelspec": {
   "display_name": "Python 3.8.2 32-bit",
   "language": "python",
   "name": "python38232bit8366e7dec1a5412fab4cb0bdd1a91c4b"
  },
  "language_info": {
   "codemirror_mode": {
    "name": "ipython",
    "version": 3
   },
   "file_extension": ".py",
   "mimetype": "text/x-python",
   "name": "python",
   "nbconvert_exporter": "python",
   "pygments_lexer": "ipython3",
   "version": "3.8.2"
  }
 },
 "nbformat": 4,
 "nbformat_minor": 4
}
