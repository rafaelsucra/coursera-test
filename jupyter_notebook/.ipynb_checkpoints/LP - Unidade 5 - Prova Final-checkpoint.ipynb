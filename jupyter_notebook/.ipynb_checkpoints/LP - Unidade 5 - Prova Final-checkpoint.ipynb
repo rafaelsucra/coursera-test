{
 "cells": [
  {
   "cell_type": "markdown",
   "metadata": {},
   "source": [
    "### Prova da Unidade GERAL Linguagem e Programação:\n",
    "\n",
    "#### Conteúdo:\n",
    "\n",
    "|                 Nome                     |         Matérias        |\n",
    "|:----------------------------------------:|:-----------------------:|\n",
    "| Toda Materia                             | Toda Materia            |"
   ]
  },
  {
   "cell_type": "markdown",
   "metadata": {},
   "source": [
    "## 1) Seja a declaração a seguir:\n",
    "\n",
    "##### X = [3, 6, 1, 9, 2, 4, 7]\n",
    " \n",
    "\n",
    "##### Marque abaixo as instruções que imprimirão todos os elementos de X em ordem invertida: \n",
    "\n",
    "##### Grupo de escolhas da pergunta\n",
    "\n",
    "#### ( ) print(X[:0:-1])\n",
    "\n",
    "#### ( ) print(X[6:0:-1])\n",
    "\n",
    "#### (X) print(X[-1::-1])\n",
    "\n",
    "#### (X) print(X[6::-1])\n",
    "\n",
    "#### (X) print(X[::-1])"
   ]
  },
  {
   "cell_type": "markdown",
   "metadata": {},
   "source": [
    "## 2) Suponha a seguinte declaração:\n",
    "\n",
    "##### estrutura_aninhada = ( [1,2,3],(4,5,6,7),[8,9],( [10,11,12], [(13, 14), 15] ) )\n",
    "##### Que instrução retornará o número 13?\n",
    "\n",
    "##### Grupo de escolhas da pergunta\n",
    "\n",
    "##### Todas as alternativas são inválidas.\n",
    "\n",
    "#### ( ) estrutura_aninhada(3)(1)[0](0)\n",
    "\n",
    "#### ( ) estrutura_aninhada[14]\n",
    "\n",
    "#### (X) estrutura_aninhada[3][1][0][0]\n",
    "\n",
    "#### ( ) estrutura_aninhada[3][1][0]"
   ]
  },
  {
   "cell_type": "markdown",
   "metadata": {},
   "source": [
    "## 3) Suponha que a tupla XYZ contenha 5 elementos. Como você mudaria seu terceiro elemento para 'Python'?\n",
    "#### Grupo de escolhas da pergunta\n",
    "\n",
    "#### ( ) teste[2] = 'Python'\n",
    "\n",
    "#### ( ) teste{3} = 'Python'\n",
    "\n",
    "#### ( ) teste[3] = 'Python'\n",
    "\n",
    "#### (X) Elementos das tuplas não podem ser alterados.\n",
    "\n",
    "#### ( ) teste(2) = 'Python'"
   ]
  },
  {
   "cell_type": "markdown",
   "metadata": {},
   "source": [
    "## 4) Três estruturas de dados fundamentais em Python são as listas (“list”), tuplas (“tuple”) e dicionários (“dict”). A respeito dessas estruturas, é correto afirmar: \n",
    "### Grupo de escolhas da pergunta\n",
    "\n",
    "##### ( ) Listas não podem ser modificadas depois de criadas, ao passo que tuplas e dicionários podem.\n",
    "\n",
    "##### ( ) Listas podem ser modificadas, mas seu tamanho não pode ser modificado após a criação, ao passo que tuplas e dicionários não têm essa limitação.\n",
    "\n",
    "##### ( ) Dicionários não podem ser modificados depois de criados, ao passo que listas e tuplas podem.\n",
    "\n",
    "##### (X) Tuplas e listas são indexadas por inteiros, ao passo que dicionários podem ser indexados por “strings”.\n",
    "\n",
    "##### ( ) Dicionários e tuplas são indexados por inteiros, ao passo que listas podem ser indexadas por “strings”."
   ]
  },
  {
   "cell_type": "markdown",
   "metadata": {},
   "source": [
    "## 5) Suponha o código Python a seguir:\n",
    "\n",
    "#### A = [9, 2, 5, 7]\n",
    "#### B = [x for x in range(12,21,3)]\n",
    "#### A.append(B)\n",
    "#### print(A)\n",
    " \n",
    "#### Os valores impressos serão:\n",
    "\n",
    "#### Grupo de escolhas da pergunta\n",
    "\n",
    "#### [ ]   [9, 2, 5, 7], [12, 15, 18]\n",
    "\n",
    "#### [ ]   [9, 2, 5, 7, [12, 15, 18, 21]]\n",
    "\n",
    "#### [X]   [9, 2, 5, 7, [12, 15, 18]]\n",
    "\n",
    "#### [ ]   [9, 2, 5, 7, 12, 15, 18]"
   ]
  },
  {
   "cell_type": "markdown",
   "metadata": {},
   "source": [
    "## 6) Python fornece 3 operadores de divisão. \n",
    "\n",
    "#### O operador \"/\" calcula a divisão real, o operador \"//\" calcula o quociente, enquanto o operador \"%\" calcula o resto da divisão."
   ]
  },
  {
   "cell_type": "markdown",
   "metadata": {},
   "source": [
    "## 7) Considere o código a seguir:\n",
    "\n",
    "#### from functools import reduce\n",
    "#### teste = [1, 9, 8, 2, 3, 7, 6, 4, 5]\n",
    "#### print(reduce(lambda n1, n2: n1 if n1 > n2 else n2, teste))\n",
    " \n",
    "\n",
    "#### Qual valor será impresso?\n",
    "\n",
    "#### Grupo de escolhas da pergunta\n",
    "\n",
    "#### ( ) False\n",
    "\n",
    "#### ( ) 1\n",
    "\n",
    "#### ( ) True\n",
    "\n",
    "#### (X) 9\n",
    "\n",
    "#### ( ) 5"
   ]
  },
  {
   "cell_type": "markdown",
   "metadata": {},
   "source": [
    "## 8) Qual é a saída esperada para o programa a seguir?\n",
    "\n",
    "#### x = range(7)\n",
    "#### soma = sum(filter(lambda x_i: x_i % 2 == 0, x))\n",
    "#### print(soma)\n",
    "#### Grupo de escolhas da pergunta\n",
    "\n",
    "#### ( ) 21\n",
    "\n",
    "#### (X) 12\n",
    "\n",
    "#### ( ) 10\n",
    "\n",
    "#### ( ) 9\n",
    "\n",
    "#### ( ) 16"
   ]
  },
  {
   "cell_type": "markdown",
   "metadata": {},
   "source": [
    "## 9) Considere o trecho do programa Python abaixo:\n",
    "\n",
    "#### L=[]\n",
    "#### for i in range(10,1,-1):\n",
    "####     L.append(i)\n",
    "#### print(L[3:])\n",
    "#### Quais serão os valores impressos?\n",
    "\n",
    "#### Grupo de escolhas da pergunta\n",
    "\n",
    "#### Nenhum valor será impresso, pois o programa apresenta um erro. \n",
    "\n",
    "#### ( ) [8, 7, 6, 5, 4, 3]\n",
    "\n",
    "#### (X) [7, 6, 5, 4, 3, 2]\n",
    "\n",
    "#### ( ) [8, 7, 6, 5, 4, 3, 2]\n",
    "\n",
    "#### () [7, 6, 5, 4, 3, 2, 1]"
   ]
  },
  {
   "cell_type": "markdown",
   "metadata": {},
   "source": [
    "## 10) Considere o código a seguir:\n",
    "\n",
    "#### import numpy as np\n",
    "#### A = np.arange(1, 16).reshape(3,5)\n",
    "#### Marque as alternativas que retornam todos os elementos da linha 1 do ndarray A.\n",
    "\n",
    "#### Grupo de escolhas da pergunta\n",
    "\n",
    "#### [X]  linha1 = A[1,0:]\n",
    "\n",
    "#### [X]  linha1 = A[1]\n",
    "\n",
    "#### [X]  linha1 = A[:][1]\n",
    "\n",
    "#### [X]  linha1 = A[1,:]\n",
    "\n",
    "#### [X]  linha1 = A[1:2,:][0]"
   ]
  }
 ],
 "metadata": {
  "kernelspec": {
   "display_name": "Python 3.8.2 32-bit",
   "language": "python",
   "name": "python38232bit8366e7dec1a5412fab4cb0bdd1a91c4b"
  },
  "language_info": {
   "codemirror_mode": {
    "name": "ipython",
    "version": 3
   },
   "file_extension": ".py",
   "mimetype": "text/x-python",
   "name": "python",
   "nbconvert_exporter": "python",
   "pygments_lexer": "ipython3",
   "version": "3.8.2"
  }
 },
 "nbformat": 4,
 "nbformat_minor": 4
}
