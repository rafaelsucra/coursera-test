{
 "cells": [
  {
   "cell_type": "markdown",
   "metadata": {},
   "source": [
    "# Pandas Series\n",
    "\n",
    "O objeto Series do módulo Pandas pode ser visto como um vetor ou matriz rotulada de 1 dimensão.\n",
    "\n",
    "Para mais informações sobre **Series** do Pandas clique [aqui](https://pandas.pydata.org/pandas-docs/stable/reference/series.html).\n",
    "\n",
    "O código fonte do objeto Series está disponível no Github. Quem tiver curiosidade pode visualizar clicando [aqui](https://github.com/pandas-dev/pandas/blob/v0.24.2/pandas/core/series.py)."
   ]
  },
  {
   "cell_type": "code",
   "execution_count": 1,
   "metadata": {},
   "outputs": [],
   "source": [
    "import pandas as pd\n",
    "import numpy as np"
   ]
  },
  {
   "cell_type": "markdown",
   "metadata": {},
   "source": [
    "### Criando Series a partir de listas"
   ]
  },
  {
   "cell_type": "code",
   "execution_count": 3,
   "metadata": {},
   "outputs": [
    {
     "data": {
      "text/plain": [
       "[68, 23, 17, 39, 25, 58]"
      ]
     },
     "execution_count": 3,
     "metadata": {},
     "output_type": "execute_result"
    }
   ],
   "source": [
    "idades = [68, 23, 17, 39, 25, 58]\n",
    "idades"
   ]
  },
  {
   "cell_type": "code",
   "execution_count": 4,
   "metadata": {},
   "outputs": [
    {
     "data": {
      "text/plain": [
       "0    68\n",
       "1    23\n",
       "2    17\n",
       "3    39\n",
       "4    25\n",
       "5    58\n",
       "dtype: int64"
      ]
     },
     "execution_count": 4,
     "metadata": {},
     "output_type": "execute_result"
    }
   ],
   "source": [
    "s = pd.Series(idades)\n",
    "s"
   ]
  },
  {
   "cell_type": "code",
   "execution_count": 5,
   "metadata": {},
   "outputs": [
    {
     "data": {
      "text/plain": [
       "39"
      ]
     },
     "execution_count": 5,
     "metadata": {},
     "output_type": "execute_result"
    }
   ],
   "source": [
    "# Como retornar a idade 39?\n",
    "s[3]"
   ]
  },
  {
   "cell_type": "code",
   "execution_count": 6,
   "metadata": {},
   "outputs": [
    {
     "data": {
      "text/plain": [
       "0    68\n",
       "1    23\n",
       "2    17\n",
       "3    39\n",
       "4    25\n",
       "5    58\n",
       "dtype: int64"
      ]
     },
     "execution_count": 6,
     "metadata": {},
     "output_type": "execute_result"
    }
   ],
   "source": [
    "s = pd.Series([68, 23, 17, 39, 25, 58])\n",
    "s"
   ]
  },
  {
   "cell_type": "code",
   "execution_count": 7,
   "metadata": {},
   "outputs": [],
   "source": [
    "pessoas = ['Eni', 'Bia', 'Flávio', 'Carlos', 'Dedé', 'Abigail']"
   ]
  },
  {
   "cell_type": "code",
   "execution_count": 8,
   "metadata": {},
   "outputs": [
    {
     "data": {
      "text/plain": [
       "Eni        68\n",
       "Bia        23\n",
       "Flávio     17\n",
       "Carlos     39\n",
       "Dedé       25\n",
       "Abigail    58\n",
       "dtype: int64"
      ]
     },
     "execution_count": 8,
     "metadata": {},
     "output_type": "execute_result"
    }
   ],
   "source": [
    "s1 = pd.Series(idades, pessoas)\n",
    "s1"
   ]
  },
  {
   "cell_type": "code",
   "execution_count": 9,
   "metadata": {},
   "outputs": [
    {
     "data": {
      "text/plain": [
       "39"
      ]
     },
     "execution_count": 9,
     "metadata": {},
     "output_type": "execute_result"
    }
   ],
   "source": [
    "# Como retornar a idade 39, agora que a série está rotulada?\n",
    "s1['Carlos']"
   ]
  },
  {
   "cell_type": "code",
   "execution_count": 10,
   "metadata": {},
   "outputs": [
    {
     "data": {
      "text/plain": [
       "Eni        68\n",
       "Bia        23\n",
       "Flávio     17\n",
       "Carlos     39\n",
       "Dedé       25\n",
       "Abigail    58\n",
       "dtype: int64"
      ]
     },
     "execution_count": 10,
     "metadata": {},
     "output_type": "execute_result"
    }
   ],
   "source": [
    "s2 = pd.Series(index = pessoas, data = idades)\n",
    "s2"
   ]
  },
  {
   "cell_type": "markdown",
   "metadata": {},
   "source": [
    "### Criando Series a partir de tuplas"
   ]
  },
  {
   "cell_type": "code",
   "execution_count": 11,
   "metadata": {},
   "outputs": [
    {
     "data": {
      "text/plain": [
       "('Mnas Gerais', 'Amazonas', 'Maranhão', 'Goiás', 'Santa Catarina')"
      ]
     },
     "execution_count": 11,
     "metadata": {},
     "output_type": "execute_result"
    }
   ],
   "source": [
    "# Minas Gerais teve seu nome digitado errado de forma intencional\n",
    "nomes = (\"Mnas Gerais\", \"Amazonas\", \"Maranhão\", \"Goiás\", \"Santa Catarina\")\n",
    "nomes"
   ]
  },
  {
   "cell_type": "code",
   "execution_count": 12,
   "metadata": {},
   "outputs": [
    {
     "data": {
      "text/plain": [
       "('MG', 'AM', 'MA', 'GO', 'SC')"
      ]
     },
     "execution_count": 12,
     "metadata": {},
     "output_type": "execute_result"
    }
   ],
   "source": [
    "siglas = (\"MG\", \"AM\", \"MA\", \"GO\", \"SC\")\n",
    "siglas"
   ]
  },
  {
   "cell_type": "code",
   "execution_count": 13,
   "metadata": {},
   "outputs": [
    {
     "data": {
      "text/plain": [
       "MG       Mnas Gerais\n",
       "AM          Amazonas\n",
       "MA          Maranhão\n",
       "GO             Goiás\n",
       "SC    Santa Catarina\n",
       "dtype: object"
      ]
     },
     "execution_count": 13,
     "metadata": {},
     "output_type": "execute_result"
    }
   ],
   "source": [
    "estados = pd.Series(nomes, siglas)\n",
    "estados"
   ]
  },
  {
   "cell_type": "code",
   "execution_count": 14,
   "metadata": {},
   "outputs": [
    {
     "data": {
      "text/plain": [
       "MG      Minas Gerais\n",
       "AM          Amazonas\n",
       "MA          Maranhão\n",
       "GO             Goiás\n",
       "SC    Santa Catarina\n",
       "dtype: object"
      ]
     },
     "execution_count": 14,
     "metadata": {},
     "output_type": "execute_result"
    }
   ],
   "source": [
    "estados[\"MG\"] = \"Minas Gerais\"\n",
    "estados"
   ]
  },
  {
   "cell_type": "markdown",
   "metadata": {},
   "source": [
    "### Criando Series a partir de arrays NumPy"
   ]
  },
  {
   "cell_type": "code",
   "execution_count": 15,
   "metadata": {},
   "outputs": [
    {
     "data": {
      "text/plain": [
       "array([25.  , 22.  , 18.5 ,  4.75,  3.  ,  4.5 ,  2.3 ])"
      ]
     },
     "execution_count": 15,
     "metadata": {},
     "output_type": "execute_result"
    }
   ],
   "source": [
    "precos = np.array([25, 22, 18.5, 4.75, 3, 4.5, 2.3])\n",
    "precos"
   ]
  },
  {
   "cell_type": "code",
   "execution_count": 16,
   "metadata": {},
   "outputs": [
    {
     "data": {
      "text/plain": [
       "numpy.ndarray"
      ]
     },
     "execution_count": 16,
     "metadata": {},
     "output_type": "execute_result"
    }
   ],
   "source": [
    "type(precos)"
   ]
  },
  {
   "cell_type": "code",
   "execution_count": 17,
   "metadata": {},
   "outputs": [
    {
     "data": {
      "text/plain": [
       "array(['X-tudo', 'X-Bacon', 'Bauru', 'Misto-quente', 'Pão-de-queijo',\n",
       "       'Coxinha', 'Pastel'], dtype='<U13')"
      ]
     },
     "execution_count": 17,
     "metadata": {},
     "output_type": "execute_result"
    }
   ],
   "source": [
    "lanches = np.array(['X-tudo', 'X-Bacon', 'Bauru', 'Misto-quente', 'Pão-de-queijo', 'Coxinha', 'Pastel'])\n",
    "lanches"
   ]
  },
  {
   "cell_type": "code",
   "execution_count": 18,
   "metadata": {},
   "outputs": [
    {
     "data": {
      "text/plain": [
       "0    25.00\n",
       "1    22.00\n",
       "2    18.50\n",
       "3     4.75\n",
       "4     3.00\n",
       "5     4.50\n",
       "6     2.30\n",
       "dtype: float64"
      ]
     },
     "execution_count": 18,
     "metadata": {},
     "output_type": "execute_result"
    }
   ],
   "source": [
    "s3 = pd.Series(precos)\n",
    "s3"
   ]
  },
  {
   "cell_type": "code",
   "execution_count": 19,
   "metadata": {},
   "outputs": [
    {
     "data": {
      "text/plain": [
       "X-tudo           25.00\n",
       "X-Bacon          22.00\n",
       "Bauru            18.50\n",
       "Misto-quente      4.75\n",
       "Pão-de-queijo     3.00\n",
       "Coxinha           4.50\n",
       "Pastel            2.30\n",
       "dtype: float64"
      ]
     },
     "execution_count": 19,
     "metadata": {},
     "output_type": "execute_result"
    }
   ],
   "source": [
    "cardapio = pd.Series(precos, lanches)\n",
    "cardapio"
   ]
  },
  {
   "cell_type": "markdown",
   "metadata": {},
   "source": [
    "### Criando Series a partir de dicionários"
   ]
  },
  {
   "cell_type": "code",
   "execution_count": 20,
   "metadata": {},
   "outputs": [
    {
     "data": {
      "text/plain": [
       "MG    Minas Gerais\n",
       "CE           Ceará\n",
       "MT     Mato Grosso\n",
       "RR         Roraima\n",
       "dtype: object"
      ]
     },
     "execution_count": 20,
     "metadata": {},
     "output_type": "execute_result"
    }
   ],
   "source": [
    "dic_estados = {\"MG\": \"Minas Gerais\", \"CE\": \"Ceará\", \"MT\": \"Mato Grosso\", \"RR\": \"Roraima\"}\n",
    "serie_estados = pd.Series(dic_estados)\n",
    "serie_estados"
   ]
  },
  {
   "cell_type": "code",
   "execution_count": 21,
   "metadata": {},
   "outputs": [
    {
     "data": {
      "text/plain": [
       "MG    {'Estado': 'Minas Gerais', 'Capital': 'Belo Ho...\n",
       "CE    {'Estado': 'Ceará', 'Capital': 'Fortaleza', 'P...\n",
       "MT    {'Estado': 'Mato Grosso', 'Capital': 'Cuiabá',...\n",
       "RR    {'Estado': 'Roraima', 'Capital': 'Boa Vista', ...\n",
       "dtype: object"
      ]
     },
     "execution_count": 21,
     "metadata": {},
     "output_type": "execute_result"
    }
   ],
   "source": [
    "dic_estados2 = {\"MG\": {\"Estado\":\"Minas Gerais\", \"Capital\":\"Belo Horizonte\", \"População (2014)\":20777672}, \n",
    "               \"CE\": {\"Estado\":\"Ceará\", \"Capital\":\"Fortaleza\", \"População (2014)\":8867448},\n",
    "               \"MT\": {\"Estado\":\"Mato Grosso\", \"Capital\":\"Cuiabá\", \"População (2014)\":3236578},\n",
    "               \"RR\": {\"Estado\":\"Roraima\", \"Capital\":\"Boa Vista\", \"População (2014)\":500826},}\n",
    "serie_estados2 = pd.Series(dic_estados2)\n",
    "serie_estados2"
   ]
  },
  {
   "cell_type": "code",
   "execution_count": 22,
   "metadata": {},
   "outputs": [
    {
     "data": {
      "text/plain": [
       "{'Estado': 'Mato Grosso', 'Capital': 'Cuiabá', 'População (2014)': 3236578}"
      ]
     },
     "execution_count": 22,
     "metadata": {},
     "output_type": "execute_result"
    }
   ],
   "source": [
    "serie_estados2[\"MT\"]"
   ]
  },
  {
   "cell_type": "code",
   "execution_count": 23,
   "metadata": {},
   "outputs": [
    {
     "data": {
      "text/plain": [
       "'Boa Vista'"
      ]
     },
     "execution_count": 23,
     "metadata": {},
     "output_type": "execute_result"
    }
   ],
   "source": [
    "serie_estados2[\"RR\"][\"Capital\"]"
   ]
  },
  {
   "cell_type": "markdown",
   "metadata": {},
   "source": [
    "### Criando Series a partir de arquivos .csv"
   ]
  },
  {
   "cell_type": "code",
   "execution_count": 24,
   "metadata": {},
   "outputs": [
    {
     "data": {
      "text/html": [
       "<div>\n",
       "<style scoped>\n",
       "    .dataframe tbody tr th:only-of-type {\n",
       "        vertical-align: middle;\n",
       "    }\n",
       "\n",
       "    .dataframe tbody tr th {\n",
       "        vertical-align: top;\n",
       "    }\n",
       "\n",
       "    .dataframe thead th {\n",
       "        text-align: right;\n",
       "    }\n",
       "</style>\n",
       "<table border=\"1\" class=\"dataframe\">\n",
       "  <thead>\n",
       "    <tr style=\"text-align: right;\">\n",
       "      <th></th>\n",
       "      <th>Idades</th>\n",
       "    </tr>\n",
       "  </thead>\n",
       "  <tbody>\n",
       "    <tr>\n",
       "      <th>0</th>\n",
       "      <td>55</td>\n",
       "    </tr>\n",
       "    <tr>\n",
       "      <th>1</th>\n",
       "      <td>45</td>\n",
       "    </tr>\n",
       "    <tr>\n",
       "      <th>2</th>\n",
       "      <td>74</td>\n",
       "    </tr>\n",
       "    <tr>\n",
       "      <th>3</th>\n",
       "      <td>18</td>\n",
       "    </tr>\n",
       "    <tr>\n",
       "      <th>4</th>\n",
       "      <td>21</td>\n",
       "    </tr>\n",
       "  </tbody>\n",
       "</table>\n",
       "</div>"
      ],
      "text/plain": [
       "   Idades\n",
       "0      55\n",
       "1      45\n",
       "2      74\n",
       "3      18\n",
       "4      21"
      ]
     },
     "execution_count": 24,
     "metadata": {},
     "output_type": "execute_result"
    }
   ],
   "source": [
    "# O arquivo idades.csv contém as idades de 100 pessoas (apenas 1 coluna)\n",
    "idadescsv = pd.read_csv(\"idades.csv\")\n",
    "idadescsv.head() # mostra as primeiras linhas de uma Series ou DataFrame"
   ]
  },
  {
   "cell_type": "code",
   "execution_count": 25,
   "metadata": {},
   "outputs": [
    {
     "ename": "KeyError",
     "evalue": "3",
     "output_type": "error",
     "traceback": [
      "\u001b[1;31m---------------------------------------------------------------------------\u001b[0m",
      "\u001b[1;31mKeyError\u001b[0m                                  Traceback (most recent call last)",
      "\u001b[1;32mC:\\ProgramData\\Anaconda3\\lib\\site-packages\\pandas\\core\\indexes\\base.py\u001b[0m in \u001b[0;36mget_loc\u001b[1;34m(self, key, method, tolerance)\u001b[0m\n\u001b[0;32m   2645\u001b[0m             \u001b[1;32mtry\u001b[0m\u001b[1;33m:\u001b[0m\u001b[1;33m\u001b[0m\u001b[1;33m\u001b[0m\u001b[0m\n\u001b[1;32m-> 2646\u001b[1;33m                 \u001b[1;32mreturn\u001b[0m \u001b[0mself\u001b[0m\u001b[1;33m.\u001b[0m\u001b[0m_engine\u001b[0m\u001b[1;33m.\u001b[0m\u001b[0mget_loc\u001b[0m\u001b[1;33m(\u001b[0m\u001b[0mkey\u001b[0m\u001b[1;33m)\u001b[0m\u001b[1;33m\u001b[0m\u001b[1;33m\u001b[0m\u001b[0m\n\u001b[0m\u001b[0;32m   2647\u001b[0m             \u001b[1;32mexcept\u001b[0m \u001b[0mKeyError\u001b[0m\u001b[1;33m:\u001b[0m\u001b[1;33m\u001b[0m\u001b[1;33m\u001b[0m\u001b[0m\n",
      "\u001b[1;32mpandas\\_libs\\index.pyx\u001b[0m in \u001b[0;36mpandas._libs.index.IndexEngine.get_loc\u001b[1;34m()\u001b[0m\n",
      "\u001b[1;32mpandas\\_libs\\index.pyx\u001b[0m in \u001b[0;36mpandas._libs.index.IndexEngine.get_loc\u001b[1;34m()\u001b[0m\n",
      "\u001b[1;32mpandas\\_libs\\hashtable_class_helper.pxi\u001b[0m in \u001b[0;36mpandas._libs.hashtable.PyObjectHashTable.get_item\u001b[1;34m()\u001b[0m\n",
      "\u001b[1;32mpandas\\_libs\\hashtable_class_helper.pxi\u001b[0m in \u001b[0;36mpandas._libs.hashtable.PyObjectHashTable.get_item\u001b[1;34m()\u001b[0m\n",
      "\u001b[1;31mKeyError\u001b[0m: 3",
      "\nDuring handling of the above exception, another exception occurred:\n",
      "\u001b[1;31mKeyError\u001b[0m                                  Traceback (most recent call last)",
      "\u001b[1;32m<ipython-input-25-4e30e9a9c0f9>\u001b[0m in \u001b[0;36m<module>\u001b[1;34m\u001b[0m\n\u001b[0;32m      1\u001b[0m \u001b[1;31m# É possível acessar o índice 3?\u001b[0m\u001b[1;33m\u001b[0m\u001b[1;33m\u001b[0m\u001b[1;33m\u001b[0m\u001b[0m\n\u001b[1;32m----> 2\u001b[1;33m \u001b[0midadescsv\u001b[0m\u001b[1;33m[\u001b[0m\u001b[1;36m3\u001b[0m\u001b[1;33m]\u001b[0m\u001b[1;33m\u001b[0m\u001b[1;33m\u001b[0m\u001b[0m\n\u001b[0m",
      "\u001b[1;32mC:\\ProgramData\\Anaconda3\\lib\\site-packages\\pandas\\core\\frame.py\u001b[0m in \u001b[0;36m__getitem__\u001b[1;34m(self, key)\u001b[0m\n\u001b[0;32m   2798\u001b[0m             \u001b[1;32mif\u001b[0m \u001b[0mself\u001b[0m\u001b[1;33m.\u001b[0m\u001b[0mcolumns\u001b[0m\u001b[1;33m.\u001b[0m\u001b[0mnlevels\u001b[0m \u001b[1;33m>\u001b[0m \u001b[1;36m1\u001b[0m\u001b[1;33m:\u001b[0m\u001b[1;33m\u001b[0m\u001b[1;33m\u001b[0m\u001b[0m\n\u001b[0;32m   2799\u001b[0m                 \u001b[1;32mreturn\u001b[0m \u001b[0mself\u001b[0m\u001b[1;33m.\u001b[0m\u001b[0m_getitem_multilevel\u001b[0m\u001b[1;33m(\u001b[0m\u001b[0mkey\u001b[0m\u001b[1;33m)\u001b[0m\u001b[1;33m\u001b[0m\u001b[1;33m\u001b[0m\u001b[0m\n\u001b[1;32m-> 2800\u001b[1;33m             \u001b[0mindexer\u001b[0m \u001b[1;33m=\u001b[0m \u001b[0mself\u001b[0m\u001b[1;33m.\u001b[0m\u001b[0mcolumns\u001b[0m\u001b[1;33m.\u001b[0m\u001b[0mget_loc\u001b[0m\u001b[1;33m(\u001b[0m\u001b[0mkey\u001b[0m\u001b[1;33m)\u001b[0m\u001b[1;33m\u001b[0m\u001b[1;33m\u001b[0m\u001b[0m\n\u001b[0m\u001b[0;32m   2801\u001b[0m             \u001b[1;32mif\u001b[0m \u001b[0mis_integer\u001b[0m\u001b[1;33m(\u001b[0m\u001b[0mindexer\u001b[0m\u001b[1;33m)\u001b[0m\u001b[1;33m:\u001b[0m\u001b[1;33m\u001b[0m\u001b[1;33m\u001b[0m\u001b[0m\n\u001b[0;32m   2802\u001b[0m                 \u001b[0mindexer\u001b[0m \u001b[1;33m=\u001b[0m \u001b[1;33m[\u001b[0m\u001b[0mindexer\u001b[0m\u001b[1;33m]\u001b[0m\u001b[1;33m\u001b[0m\u001b[1;33m\u001b[0m\u001b[0m\n",
      "\u001b[1;32mC:\\ProgramData\\Anaconda3\\lib\\site-packages\\pandas\\core\\indexes\\base.py\u001b[0m in \u001b[0;36mget_loc\u001b[1;34m(self, key, method, tolerance)\u001b[0m\n\u001b[0;32m   2646\u001b[0m                 \u001b[1;32mreturn\u001b[0m \u001b[0mself\u001b[0m\u001b[1;33m.\u001b[0m\u001b[0m_engine\u001b[0m\u001b[1;33m.\u001b[0m\u001b[0mget_loc\u001b[0m\u001b[1;33m(\u001b[0m\u001b[0mkey\u001b[0m\u001b[1;33m)\u001b[0m\u001b[1;33m\u001b[0m\u001b[1;33m\u001b[0m\u001b[0m\n\u001b[0;32m   2647\u001b[0m             \u001b[1;32mexcept\u001b[0m \u001b[0mKeyError\u001b[0m\u001b[1;33m:\u001b[0m\u001b[1;33m\u001b[0m\u001b[1;33m\u001b[0m\u001b[0m\n\u001b[1;32m-> 2648\u001b[1;33m                 \u001b[1;32mreturn\u001b[0m \u001b[0mself\u001b[0m\u001b[1;33m.\u001b[0m\u001b[0m_engine\u001b[0m\u001b[1;33m.\u001b[0m\u001b[0mget_loc\u001b[0m\u001b[1;33m(\u001b[0m\u001b[0mself\u001b[0m\u001b[1;33m.\u001b[0m\u001b[0m_maybe_cast_indexer\u001b[0m\u001b[1;33m(\u001b[0m\u001b[0mkey\u001b[0m\u001b[1;33m)\u001b[0m\u001b[1;33m)\u001b[0m\u001b[1;33m\u001b[0m\u001b[1;33m\u001b[0m\u001b[0m\n\u001b[0m\u001b[0;32m   2649\u001b[0m         \u001b[0mindexer\u001b[0m \u001b[1;33m=\u001b[0m \u001b[0mself\u001b[0m\u001b[1;33m.\u001b[0m\u001b[0mget_indexer\u001b[0m\u001b[1;33m(\u001b[0m\u001b[1;33m[\u001b[0m\u001b[0mkey\u001b[0m\u001b[1;33m]\u001b[0m\u001b[1;33m,\u001b[0m \u001b[0mmethod\u001b[0m\u001b[1;33m=\u001b[0m\u001b[0mmethod\u001b[0m\u001b[1;33m,\u001b[0m \u001b[0mtolerance\u001b[0m\u001b[1;33m=\u001b[0m\u001b[0mtolerance\u001b[0m\u001b[1;33m)\u001b[0m\u001b[1;33m\u001b[0m\u001b[1;33m\u001b[0m\u001b[0m\n\u001b[0;32m   2650\u001b[0m         \u001b[1;32mif\u001b[0m \u001b[0mindexer\u001b[0m\u001b[1;33m.\u001b[0m\u001b[0mndim\u001b[0m \u001b[1;33m>\u001b[0m \u001b[1;36m1\u001b[0m \u001b[1;32mor\u001b[0m \u001b[0mindexer\u001b[0m\u001b[1;33m.\u001b[0m\u001b[0msize\u001b[0m \u001b[1;33m>\u001b[0m \u001b[1;36m1\u001b[0m\u001b[1;33m:\u001b[0m\u001b[1;33m\u001b[0m\u001b[1;33m\u001b[0m\u001b[0m\n",
      "\u001b[1;32mpandas\\_libs\\index.pyx\u001b[0m in \u001b[0;36mpandas._libs.index.IndexEngine.get_loc\u001b[1;34m()\u001b[0m\n",
      "\u001b[1;32mpandas\\_libs\\index.pyx\u001b[0m in \u001b[0;36mpandas._libs.index.IndexEngine.get_loc\u001b[1;34m()\u001b[0m\n",
      "\u001b[1;32mpandas\\_libs\\hashtable_class_helper.pxi\u001b[0m in \u001b[0;36mpandas._libs.hashtable.PyObjectHashTable.get_item\u001b[1;34m()\u001b[0m\n",
      "\u001b[1;32mpandas\\_libs\\hashtable_class_helper.pxi\u001b[0m in \u001b[0;36mpandas._libs.hashtable.PyObjectHashTable.get_item\u001b[1;34m()\u001b[0m\n",
      "\u001b[1;31mKeyError\u001b[0m: 3"
     ]
    }
   ],
   "source": [
    "# É possível acessar o índice 3?\n",
    "idadescsv[3]"
   ]
  },
  {
   "cell_type": "code",
   "execution_count": 26,
   "metadata": {},
   "outputs": [
    {
     "data": {
      "text/plain": [
       "pandas.core.frame.DataFrame"
      ]
     },
     "execution_count": 26,
     "metadata": {},
     "output_type": "execute_result"
    }
   ],
   "source": [
    "type(idadescsv)"
   ]
  },
  {
   "cell_type": "code",
   "execution_count": 27,
   "metadata": {},
   "outputs": [
    {
     "data": {
      "text/plain": [
       "18"
      ]
     },
     "execution_count": 27,
     "metadata": {},
     "output_type": "execute_result"
    }
   ],
   "source": [
    "# Forma correta de acessar, mas vamos estudar o objeto DataFrame em outra aula\n",
    "idadescsv['Idades'][3]"
   ]
  },
  {
   "cell_type": "code",
   "execution_count": 28,
   "metadata": {},
   "outputs": [
    {
     "data": {
      "text/plain": [
       "0    55\n",
       "1    45\n",
       "2    74\n",
       "3    18\n",
       "4    21\n",
       "Name: Idades, dtype: int64"
      ]
     },
     "execution_count": 28,
     "metadata": {},
     "output_type": "execute_result"
    }
   ],
   "source": [
    "# Passando o argumento squeeze = True (por default squeeze = False)\n",
    "# Quando squeeze = True, se os dados estiverem em apenas 1 dimensão, é então retornado uma Series\n",
    "idadescsv = pd.read_csv(\"idades.csv\", squeeze=True)\n",
    "idadescsv.head()"
   ]
  },
  {
   "cell_type": "code",
   "execution_count": 29,
   "metadata": {},
   "outputs": [
    {
     "data": {
      "text/plain": [
       "18"
      ]
     },
     "execution_count": 29,
     "metadata": {},
     "output_type": "execute_result"
    }
   ],
   "source": [
    "idadescsv[3]"
   ]
  },
  {
   "cell_type": "code",
   "execution_count": 30,
   "metadata": {},
   "outputs": [
    {
     "data": {
      "text/plain": [
       "pandas.core.series.Series"
      ]
     },
     "execution_count": 30,
     "metadata": {},
     "output_type": "execute_result"
    }
   ],
   "source": [
    "type(idadescsv)"
   ]
  },
  {
   "cell_type": "code",
   "execution_count": 31,
   "metadata": {},
   "outputs": [
    {
     "data": {
      "text/html": [
       "<div>\n",
       "<style scoped>\n",
       "    .dataframe tbody tr th:only-of-type {\n",
       "        vertical-align: middle;\n",
       "    }\n",
       "\n",
       "    .dataframe tbody tr th {\n",
       "        vertical-align: top;\n",
       "    }\n",
       "\n",
       "    .dataframe thead th {\n",
       "        text-align: right;\n",
       "    }\n",
       "</style>\n",
       "<table border=\"1\" class=\"dataframe\">\n",
       "  <thead>\n",
       "    <tr style=\"text-align: right;\">\n",
       "      <th></th>\n",
       "      <th>Nome</th>\n",
       "      <th>Idade</th>\n",
       "    </tr>\n",
       "  </thead>\n",
       "  <tbody>\n",
       "    <tr>\n",
       "      <th>0</th>\n",
       "      <td>Agatha</td>\n",
       "      <td>24</td>\n",
       "    </tr>\n",
       "    <tr>\n",
       "      <th>1</th>\n",
       "      <td>Alice</td>\n",
       "      <td>27</td>\n",
       "    </tr>\n",
       "    <tr>\n",
       "      <th>2</th>\n",
       "      <td>Alícia</td>\n",
       "      <td>18</td>\n",
       "    </tr>\n",
       "    <tr>\n",
       "      <th>3</th>\n",
       "      <td>Amanda</td>\n",
       "      <td>18</td>\n",
       "    </tr>\n",
       "    <tr>\n",
       "      <th>4</th>\n",
       "      <td>Ana Beatriz</td>\n",
       "      <td>44</td>\n",
       "    </tr>\n",
       "  </tbody>\n",
       "</table>\n",
       "</div>"
      ],
      "text/plain": [
       "          Nome  Idade\n",
       "0       Agatha     24\n",
       "1        Alice     27\n",
       "2       Alícia     18\n",
       "3       Amanda     18\n",
       "4  Ana Beatriz     44"
      ]
     },
     "execution_count": 31,
     "metadata": {},
     "output_type": "execute_result"
    }
   ],
   "source": [
    "# O arquivo idades2.csv contém o nomes e idade de 100 pessoas. A coluna nome será usada como índice.\n",
    "idadescsv2 = pd.read_csv(\"idades2.csv\", squeeze=True)\n",
    "idadescsv2.head()"
   ]
  },
  {
   "cell_type": "code",
   "execution_count": 32,
   "metadata": {},
   "outputs": [
    {
     "data": {
      "text/plain": [
       "pandas.core.frame.DataFrame"
      ]
     },
     "execution_count": 32,
     "metadata": {},
     "output_type": "execute_result"
    }
   ],
   "source": [
    "type(idadescsv2)"
   ]
  },
  {
   "cell_type": "code",
   "execution_count": 33,
   "metadata": {},
   "outputs": [
    {
     "data": {
      "text/plain": [
       "Nome\n",
       "Agatha         24\n",
       "Alice          27\n",
       "Alícia         18\n",
       "Amanda         18\n",
       "Ana Beatriz    44\n",
       "Name: Idade, dtype: int64"
      ]
     },
     "execution_count": 33,
     "metadata": {},
     "output_type": "execute_result"
    }
   ],
   "source": [
    "idadescsv3 = pd.read_csv(\"idades2.csv\", index_col = 0, squeeze=True)\n",
    "idadescsv3.head()"
   ]
  },
  {
   "cell_type": "code",
   "execution_count": 34,
   "metadata": {},
   "outputs": [
    {
     "data": {
      "text/plain": [
       "Idade\n",
       "24         Agatha\n",
       "27          Alice\n",
       "18         Alícia\n",
       "18         Amanda\n",
       "44    Ana Beatriz\n",
       "Name: Nome, dtype: object"
      ]
     },
     "execution_count": 34,
     "metadata": {},
     "output_type": "execute_result"
    }
   ],
   "source": [
    "idadescsv4 = pd.read_csv(\"idades2.csv\", index_col = 1, squeeze=True)\n",
    "idadescsv4.head()"
   ]
  },
  {
   "cell_type": "markdown",
   "metadata": {},
   "source": [
    "### Criando Series a partir de planilhas do Excel"
   ]
  },
  {
   "cell_type": "code",
   "execution_count": 35,
   "metadata": {},
   "outputs": [
    {
     "data": {
      "text/plain": [
       "0    55\n",
       "1    45\n",
       "2    74\n",
       "3    18\n",
       "4    21\n",
       "Name: Idades, dtype: int64"
      ]
     },
     "execution_count": 35,
     "metadata": {},
     "output_type": "execute_result"
    }
   ],
   "source": [
    "idadesxls = pd.read_excel(\"idades2.xlsx\", squeeze=True)\n",
    "idadesxls.head()\n",
    "# Abre a primeira planilha"
   ]
  },
  {
   "cell_type": "code",
   "execution_count": 36,
   "metadata": {
    "scrolled": true
   },
   "outputs": [
    {
     "data": {
      "text/html": [
       "<div>\n",
       "<style scoped>\n",
       "    .dataframe tbody tr th:only-of-type {\n",
       "        vertical-align: middle;\n",
       "    }\n",
       "\n",
       "    .dataframe tbody tr th {\n",
       "        vertical-align: top;\n",
       "    }\n",
       "\n",
       "    .dataframe thead th {\n",
       "        text-align: right;\n",
       "    }\n",
       "</style>\n",
       "<table border=\"1\" class=\"dataframe\">\n",
       "  <thead>\n",
       "    <tr style=\"text-align: right;\">\n",
       "      <th></th>\n",
       "      <th>Nome</th>\n",
       "      <th>Idade</th>\n",
       "    </tr>\n",
       "  </thead>\n",
       "  <tbody>\n",
       "    <tr>\n",
       "      <th>0</th>\n",
       "      <td>Agatha</td>\n",
       "      <td>24</td>\n",
       "    </tr>\n",
       "    <tr>\n",
       "      <th>1</th>\n",
       "      <td>Alice</td>\n",
       "      <td>27</td>\n",
       "    </tr>\n",
       "    <tr>\n",
       "      <th>2</th>\n",
       "      <td>Alícia</td>\n",
       "      <td>18</td>\n",
       "    </tr>\n",
       "    <tr>\n",
       "      <th>3</th>\n",
       "      <td>Amanda</td>\n",
       "      <td>18</td>\n",
       "    </tr>\n",
       "    <tr>\n",
       "      <th>4</th>\n",
       "      <td>Ana Beatriz</td>\n",
       "      <td>44</td>\n",
       "    </tr>\n",
       "  </tbody>\n",
       "</table>\n",
       "</div>"
      ],
      "text/plain": [
       "          Nome  Idade\n",
       "0       Agatha     24\n",
       "1        Alice     27\n",
       "2       Alícia     18\n",
       "3       Amanda     18\n",
       "4  Ana Beatriz     44"
      ]
     },
     "execution_count": 36,
     "metadata": {},
     "output_type": "execute_result"
    }
   ],
   "source": [
    "idadesxls2 = pd.read_excel(\"idades2.xlsx\", sheet_name=\"Planilha2\")\n",
    "idadesxls2.head()"
   ]
  },
  {
   "cell_type": "code",
   "execution_count": 37,
   "metadata": {},
   "outputs": [
    {
     "data": {
      "text/plain": [
       "pandas.core.frame.DataFrame"
      ]
     },
     "execution_count": 37,
     "metadata": {},
     "output_type": "execute_result"
    }
   ],
   "source": [
    "type(idadesxls2)"
   ]
  },
  {
   "cell_type": "code",
   "execution_count": 38,
   "metadata": {},
   "outputs": [
    {
     "data": {
      "text/plain": [
       "Nome\n",
       "Agatha         24\n",
       "Alice          27\n",
       "Alícia         18\n",
       "Amanda         18\n",
       "Ana Beatriz    44\n",
       "Name: Idade, dtype: int64"
      ]
     },
     "execution_count": 38,
     "metadata": {},
     "output_type": "execute_result"
    }
   ],
   "source": [
    "idadesxls3 = pd.read_excel(\"idades2.xlsx\", sheet_name=\"Planilha2\", index_col = 0, squeeze=True)\n",
    "idadesxls3.head()"
   ]
  },
  {
   "cell_type": "code",
   "execution_count": 39,
   "metadata": {},
   "outputs": [
    {
     "data": {
      "text/plain": [
       "pandas.core.series.Series"
      ]
     },
     "execution_count": 39,
     "metadata": {},
     "output_type": "execute_result"
    }
   ],
   "source": [
    "type(idadesxls3)"
   ]
  },
  {
   "cell_type": "markdown",
   "metadata": {},
   "source": [
    "### Atributos do objeto Series\n",
    "\n",
    "| Atributo | Descrição | Exemplo |\n",
    "|:------------|:-------------------------------------------------------------------------|:--------------|\n",
    "|[dtype](https://pandas.pydata.org/pandas-docs/stable/reference/api/pandas.Series.dtype.html) | Retorna o tipo dos dados armazenados em um objeto Series | `s.dtype`|\n",
    "|[index](https://pandas.pydata.org/pandas-docs/stable/reference/api/pandas.Series.index.html) | Retorna o índice (rótulos) de um objeto Series | `s.index`|\n",
    "|[name](https://pandas.pydata.org/pandas-docs/stable/reference/api/pandas.Series.index.html) | Retorna o nome | `s.name`|\n",
    "|[nbytes](https://pandas.pydata.org/pandas-docs/stable/reference/api/pandas.Series.nbytes.html) | Retorna o tamanho em bytes de um objeto Series | `s.nbytes`|\n",
    "|[ndim](https://pandas.pydata.org/pandas-docs/stable/reference/api/pandas.Series.ndim.html) | Retorna o número de dimensões de um objeto Series | `s.ndim`|\n",
    "|[shape](https://pandas.pydata.org/pandas-docs/stable/reference/api/pandas.Series.shape.html) | Retorna uma tupla com o formato de um objeto Series | `s.shape`|\n",
    "|[size](https://pandas.pydata.org/pandas-docs/stable/reference/api/pandas.Series.size.html) | Retorna a quantidade de elementos de um objeto Series | `s.size`|\n",
    "|[values](https://pandas.pydata.org/pandas-docs/stable/reference/api/pandas.Series.values.html) | Retorna os elementos de um objeto Series como um *ndarray*| `s.values`|"
   ]
  },
  {
   "cell_type": "code",
   "execution_count": 40,
   "metadata": {},
   "outputs": [
    {
     "data": {
      "text/plain": [
       "dtype('float64')"
      ]
     },
     "execution_count": 40,
     "metadata": {},
     "output_type": "execute_result"
    }
   ],
   "source": [
    "cardapio.dtype"
   ]
  },
  {
   "cell_type": "code",
   "execution_count": 41,
   "metadata": {
    "scrolled": true
   },
   "outputs": [
    {
     "data": {
      "text/plain": [
       "Index(['X-tudo', 'X-Bacon', 'Bauru', 'Misto-quente', 'Pão-de-queijo',\n",
       "       'Coxinha', 'Pastel'],\n",
       "      dtype='object')"
      ]
     },
     "execution_count": 41,
     "metadata": {},
     "output_type": "execute_result"
    }
   ],
   "source": [
    "cardapio.index"
   ]
  },
  {
   "cell_type": "code",
   "execution_count": 42,
   "metadata": {},
   "outputs": [
    {
     "data": {
      "text/plain": [
       "RangeIndex(start=0, stop=6, step=1)"
      ]
     },
     "execution_count": 42,
     "metadata": {},
     "output_type": "execute_result"
    }
   ],
   "source": [
    "s.index"
   ]
  },
  {
   "cell_type": "code",
   "execution_count": 43,
   "metadata": {},
   "outputs": [],
   "source": [
    "cardapio.name = \"Cardápio\""
   ]
  },
  {
   "cell_type": "code",
   "execution_count": 44,
   "metadata": {
    "scrolled": true
   },
   "outputs": [
    {
     "data": {
      "text/plain": [
       "'Cardápio'"
      ]
     },
     "execution_count": 44,
     "metadata": {},
     "output_type": "execute_result"
    }
   ],
   "source": [
    "cardapio.name"
   ]
  },
  {
   "cell_type": "code",
   "execution_count": 45,
   "metadata": {
    "scrolled": true
   },
   "outputs": [
    {
     "data": {
      "text/plain": [
       "56"
      ]
     },
     "execution_count": 45,
     "metadata": {},
     "output_type": "execute_result"
    }
   ],
   "source": [
    "cardapio.nbytes"
   ]
  },
  {
   "cell_type": "code",
   "execution_count": 46,
   "metadata": {},
   "outputs": [
    {
     "data": {
      "text/plain": [
       "1"
      ]
     },
     "execution_count": 46,
     "metadata": {},
     "output_type": "execute_result"
    }
   ],
   "source": [
    "cardapio.ndim"
   ]
  },
  {
   "cell_type": "code",
   "execution_count": 47,
   "metadata": {
    "scrolled": true
   },
   "outputs": [
    {
     "data": {
      "text/plain": [
       "(7,)"
      ]
     },
     "execution_count": 47,
     "metadata": {},
     "output_type": "execute_result"
    }
   ],
   "source": [
    "cardapio.shape"
   ]
  },
  {
   "cell_type": "code",
   "execution_count": 48,
   "metadata": {
    "scrolled": true
   },
   "outputs": [
    {
     "data": {
      "text/plain": [
       "7"
      ]
     },
     "execution_count": 48,
     "metadata": {},
     "output_type": "execute_result"
    }
   ],
   "source": [
    "cardapio.size"
   ]
  },
  {
   "cell_type": "code",
   "execution_count": 49,
   "metadata": {
    "scrolled": false
   },
   "outputs": [
    {
     "data": {
      "text/plain": [
       "array([25.  , 22.  , 18.5 ,  4.75,  3.  ,  4.5 ,  2.3 ])"
      ]
     },
     "execution_count": 49,
     "metadata": {},
     "output_type": "execute_result"
    }
   ],
   "source": [
    "cardapio.values"
   ]
  },
  {
   "cell_type": "markdown",
   "metadata": {},
   "source": [
    "### Métodos do objeto Series: indexação e iteração\n",
    "\n",
    "| Método | Descrição | Exemplo |\n",
    "|:------------|:-------------------------------------------------------------------------|:--------------|\n",
    "|[at()](https://pandas.pydata.org/pandas-docs/stable/reference/api/pandas.Series.at.html) | Acessa o elemento da chave passada por parâmetro | `s.iat[\"chave\"]`|\n",
    "|[iat()](https://pandas.pydata.org/pandas-docs/stable/reference/api/pandas.Series.iat.html) | Acessa o elemento no índice passado por parâmetro | `s.iat(0)`|\n",
    "|[get()](https://pandas.pydata.org/pandas-docs/stable/reference/api/pandas.Series.get.html#pandas.Series.get) | Retorna um valor para a chave passada por parâmetro | `s.get(2)`|\n",
    "|[loc()](https://pandas.pydata.org/pandas-docs/stable/reference/api/pandas.Series.loc.html) | Acessa os elementos para as chaves passadas por parâmetro | `s.loc[\"chave1\", \"chave2\"]`|\n",
    "|[iloc()](https://pandas.pydata.org/pandas-docs/stable/reference/api/pandas.Series.iloc.html) | Acesso via índice | `s.iloc[0] ou s.iloc[[1,3]]`|\n",
    "|[keys()](https://pandas.pydata.org/pandas-docs/stable/reference/api/pandas.Series.keys.html) | Retorna o índice (rótulos) de um objeto Series | `s.keys()`|"
   ]
  },
  {
   "cell_type": "code",
   "execution_count": 50,
   "metadata": {},
   "outputs": [
    {
     "data": {
      "text/plain": [
       "X-tudo           25.00\n",
       "X-Bacon          22.00\n",
       "Bauru            18.50\n",
       "Misto-quente      4.75\n",
       "Pão-de-queijo     3.00\n",
       "Coxinha           4.50\n",
       "Pastel            2.30\n",
       "Name: Cardápio, dtype: float64"
      ]
     },
     "execution_count": 50,
     "metadata": {},
     "output_type": "execute_result"
    }
   ],
   "source": [
    "cardapio"
   ]
  },
  {
   "cell_type": "code",
   "execution_count": 51,
   "metadata": {},
   "outputs": [
    {
     "data": {
      "text/plain": [
       "25.0"
      ]
     },
     "execution_count": 51,
     "metadata": {},
     "output_type": "execute_result"
    }
   ],
   "source": [
    "cardapio.at[\"X-tudo\"]"
   ]
  },
  {
   "cell_type": "code",
   "execution_count": 54,
   "metadata": {},
   "outputs": [
    {
     "data": {
      "text/plain": [
       "25.5"
      ]
     },
     "execution_count": 54,
     "metadata": {},
     "output_type": "execute_result"
    }
   ],
   "source": [
    "cardapio.iat[0]"
   ]
  },
  {
   "cell_type": "code",
   "execution_count": 53,
   "metadata": {},
   "outputs": [],
   "source": [
    "cardapio.iat[0] = 25.5"
   ]
  },
  {
   "cell_type": "code",
   "execution_count": 55,
   "metadata": {},
   "outputs": [
    {
     "data": {
      "text/plain": [
       "25.5"
      ]
     },
     "execution_count": 55,
     "metadata": {},
     "output_type": "execute_result"
    }
   ],
   "source": [
    "cardapio.get(0)"
   ]
  },
  {
   "cell_type": "code",
   "execution_count": 56,
   "metadata": {},
   "outputs": [
    {
     "data": {
      "text/plain": [
       "Bauru     18.5\n",
       "Pastel     2.3\n",
       "Name: Cardápio, dtype: float64"
      ]
     },
     "execution_count": 56,
     "metadata": {},
     "output_type": "execute_result"
    }
   ],
   "source": [
    "cardapio.loc[[\"Bauru\", \"Pastel\"]]"
   ]
  },
  {
   "cell_type": "code",
   "execution_count": 57,
   "metadata": {},
   "outputs": [
    {
     "data": {
      "text/plain": [
       "X-tudo          25.50\n",
       "Bauru           18.50\n",
       "Misto-quente     4.75\n",
       "Name: Cardápio, dtype: float64"
      ]
     },
     "execution_count": 57,
     "metadata": {},
     "output_type": "execute_result"
    }
   ],
   "source": [
    "cardapio.iloc[[0,2,3]]"
   ]
  },
  {
   "cell_type": "code",
   "execution_count": 58,
   "metadata": {},
   "outputs": [
    {
     "data": {
      "text/plain": [
       "Index(['X-tudo', 'X-Bacon', 'Bauru', 'Misto-quente', 'Pão-de-queijo',\n",
       "       'Coxinha', 'Pastel'],\n",
       "      dtype='object')"
      ]
     },
     "execution_count": 58,
     "metadata": {},
     "output_type": "execute_result"
    }
   ],
   "source": [
    "cardapio.keys()"
   ]
  },
  {
   "cell_type": "markdown",
   "metadata": {},
   "source": [
    "### Métodos do objetos Series: operações matemáticas e estatísticas\n",
    "\n",
    "| Método | Descrição | Exemplo |\n",
    "|:------------|:-------------------------------------------------------------------------|:--------------|\n",
    "|[add()](https://pandas.pydata.org/pandas-docs/stable/reference/api/pandas.Series.add.html) | Retorna a soma com outra Series ou escalar, elemento por elemento | `c = a.add(b, fill_value=0)`|\n",
    "|[sub()](https://pandas.pydata.org/pandas-docs/stable/reference/api/pandas.Series.sub.html) | Retorna a subtração com outra Series ou escalar, elemento por elemento | `c = a.sub(b, fill_value=3)`|\n",
    "|[mul()](https://pandas.pydata.org/pandas-docs/stable/reference/api/pandas.Series.mul.html) | Retorna a multiplicação com outra Series ou escalar, elemento por elemento | `c = a.mul(b, fill_value=1)`|\n",
    "|[div()](https://pandas.pydata.org/pandas-docs/stable/reference/api/pandas.Series.div.html) | Retorna a divisão com outra Series ou escalar, elemento por elemento | `c = a.div(b, fill_value=1)`|\n",
    "|[floordiv()](https://pandas.pydata.org/pandas-docs/stable/reference/api/pandas.Series.floordiv.html) | Retorna a divisão inteira com outra Series ou escalar, elemento por elemento | `c = a.floordiv(b, fill_value=1)`|\n",
    "|[mod()](https://pandas.pydata.org/pandas-docs/stable/reference/api/pandas.Series.mod.html) | Retorna o resto da divisão com outra Series ou escalar, elemento por elemento | `c = a.mod(b, fill_value=1)`|\n",
    "|[pow()](https://pandas.pydata.org/pandas-docs/stable/reference/api/pandas.Series.pow.html) | Retorna a potenciação com outra Series ou escalar, elemento por elemento | `c = a.pow(b, fill_value=1)`|\n",
    "|[round()](https://pandas.pydata.org/pandas-docs/stable/reference/api/pandas.Series.round.html) | Arredonda os valores de uma Series para uma quantidade determinada de casas decimais | `s = a.round(2)`|\n",
    "|[lt()](https://pandas.pydata.org/pandas-docs/stable/reference/api/pandas.Series.lt.html) | Retorna o resultado da comparação *menor que*, aplicada elemento por elemento, entre duas Series | `c = a.lt(b, fill_value=0)`|\n",
    "|[gt()](https://pandas.pydata.org/pandas-docs/stable/reference/api/pandas.Series.gt.html) | Retorna o resultado da comparação *maior que*, aplicada elemento por elemento, entre duas Series | `c = a.gt(b, fill_value=0)`|\n",
    "|[le()](https://pandas.pydata.org/pandas-docs/stable/reference/api/pandas.Series.le.html) | Retorna o resultado da comparação *menor ou igual*, aplicada elemento por elemento, entre duas Series | `c = a.le(b, fill_value=0)`|\n",
    "|[ge()](https://pandas.pydata.org/pandas-docs/stable/reference/api/pandas.Series.ge.html) | Retorna o resultado da comparação *maior ou igual*, aplicada elemento por elemento, entre duas Series | `c = a.ge(b, fill_value=0)`|\n",
    "|[ne()](https://pandas.pydata.org/pandas-docs/stable/reference/api/pandas.Series.ne.html) | Retorna o resultado da comparação *não igual a*, aplicada elemento por elemento, entre duas Series | `c = a.ne(b, fill_value=0)`|\n",
    "|[eq()](https://pandas.pydata.org/pandas-docs/stable/reference/api/pandas.Series.eq.html) | Retorna o resultado da comparação *igual a*, aplicada elemento por elemento, entre duas Series | `c = a.eq(b, fill_value=0)`|\n",
    "|[product()](https://pandas.pydata.org/pandas-docs/stable/reference/api/pandas.Series.product.html) | Retorna o produto entre todos os elementos de um objeto Series | `s.product()`|\n",
    "|[sum()](https://pandas.pydata.org/pandas-docs/stable/reference/api/pandas.Series.sum.html) | Retorna a soma entre todos os elementos de um objeto Series | `s.sum()`|\n",
    "|[abs()](https://pandas.pydata.org/pandas-docs/stable/reference/api/pandas.Series.abs.html) | Retorna valor absoluto de todos os elementos de um objeto Series | `s.abs()`|\n",
    "|[mean()](https://pandas.pydata.org/pandas-docs/stable/reference/api/pandas.Series.mean.html) | Retorna a média aritmética entre todos os elementos de um objeto Series | `s.mean()`|\n",
    "|[count()](https://pandas.pydata.org/pandas-docs/stable/reference/api/pandas.Series.count.html) | Retorna a quantidade de elementos não nulos | `s.count()`|\n",
    "|[describe()](https://pandas.pydata.org/pandas-docs/stable/reference/api/pandas.Series.describe.html) | Gera um relatório com diversas medidas estatísticas como média, percentis, etc...  | `s.describe()`|\n",
    "|[max()](https://pandas.pydata.org/pandas-docs/stable/reference/api/pandas.Series.max.html) | Retorna o maior valor | `s.max()`|\n",
    "|[min()](https://pandas.pydata.org/pandas-docs/stable/reference/api/pandas.Series.min.html) | Retorna o menor valor | `s.min()`|\n",
    "|[median()](https://pandas.pydata.org/pandas-docs/stable/reference/api/pandas.Series.median.html) | Retorna a mediana entre todos os elementos | `s.median()`|\n",
    "|[nlargest()](https://pandas.pydata.org/pandas-docs/stable/reference/api/pandas.Series.nlargest.html) | Retorna os *n* maiores elementos | `s.nlargest(3)`|\n",
    "|[nsmallest()](https://pandas.pydata.org/pandas-docs/stable/reference/api/pandas.Series.nsmallest.html) | Retorna os *n* menores elementos | `s.nsmallest(5)`|\n",
    "|[quantile()](https://pandas.pydata.org/pandas-docs/stable/reference/api/pandas.Series.quantile.html) | Retorna o valor de determinado quantil passado por parâmetro | `s.quantile(0.25)`|\n",
    "|[std()](https://pandas.pydata.org/pandas-docs/stable/reference/api/pandas.Series.std.html) | Retorna o desvio padrão | `s.std()`|\n",
    "|[unique()](https://pandas.pydata.org/pandas-docs/stable/reference/api/pandas.Series.unique.html) | Retorna  valores únicos | `s.unique()`|\n",
    "|[nunique()](https://pandas.pydata.org/pandas-docs/stable/reference/api/pandas.Series.nunique.html) | Retorna a quantidade de elementos únicos | `s.nunique()`|"
   ]
  },
  {
   "cell_type": "markdown",
   "metadata": {},
   "source": [
    "### add(), sub(), mul(), div(), floordiv(), mod() e pow()"
   ]
  },
  {
   "cell_type": "code",
   "execution_count": 59,
   "metadata": {},
   "outputs": [
    {
     "name": "stdout",
     "output_type": "stream",
     "text": [
      "  [4 8 2 5 7]\n",
      "+ [1 2 3 4 5]\n",
      "================\n",
      "[ 5 10  5  9 12]\n"
     ]
    }
   ],
   "source": [
    "a = pd.Series([4, 8, 2, 5, 7])\n",
    "b = pd.Series([1, 2, 3, 4, 5])\n",
    "c = a.add(b)\n",
    "print(\" \",a.values)\n",
    "print(\"+\",b.values)\n",
    "print(\"=\"*16)\n",
    "print(c.values)"
   ]
  },
  {
   "cell_type": "code",
   "execution_count": 60,
   "metadata": {},
   "outputs": [
    {
     "name": "stdout",
     "output_type": "stream",
     "text": [
      "  [4 8 2 5 7]\n",
      "+ 3\n",
      "================\n",
      "[ 7 11  5  8 10]\n"
     ]
    }
   ],
   "source": [
    "a2 = a.add(3)\n",
    "print(\" \",a.values)\n",
    "print(\"+\",3)\n",
    "print(\"=\"*16)\n",
    "print(a2.values)"
   ]
  },
  {
   "cell_type": "code",
   "execution_count": 61,
   "metadata": {},
   "outputs": [
    {
     "name": "stdout",
     "output_type": "stream",
     "text": [
      "  [4 8 2 5 7]\n",
      "- [1 2 3 4 5]\n",
      "================\n",
      "[ 3  6 -1  1  2]\n"
     ]
    }
   ],
   "source": [
    "d = a.sub(b)\n",
    "print(\" \",a.values)\n",
    "print(\"-\",b.values)\n",
    "print(\"=\"*16)\n",
    "print(d.values)"
   ]
  },
  {
   "cell_type": "code",
   "execution_count": 62,
   "metadata": {},
   "outputs": [
    {
     "name": "stdout",
     "output_type": "stream",
     "text": [
      "  [4 8 2 5 7]\n",
      "* [1 2 3 4 5]\n",
      "================\n",
      "[ 4 16  6 20 35]\n"
     ]
    }
   ],
   "source": [
    "e = a.mul(b)\n",
    "print(\" \",a.values)\n",
    "print(\"*\",b.values)\n",
    "print(\"=\"*16)\n",
    "print(e.values)"
   ]
  },
  {
   "cell_type": "code",
   "execution_count": 64,
   "metadata": {},
   "outputs": [
    {
     "name": "stdout",
     "output_type": "stream",
     "text": [
      "  [4 8 2 5 7]\n",
      "/ [1 2 3 4 5]\n",
      "================\n",
      "[4.         4.         0.66666667 1.25       1.4       ]\n"
     ]
    }
   ],
   "source": [
    "f = a.div(b)\n",
    "print(\" \",a.values)\n",
    "print(\"/\",b.values)\n",
    "print(\"=\"*16)\n",
    "print(f.values)"
   ]
  },
  {
   "cell_type": "code",
   "execution_count": 65,
   "metadata": {},
   "outputs": [
    {
     "name": "stdout",
     "output_type": "stream",
     "text": [
      "   [4 8 2 5 7]\n",
      "// [1 2 3 4 5]\n",
      "================\n",
      "   [4 4 0 1 1]\n"
     ]
    }
   ],
   "source": [
    "g = a.floordiv(b)\n",
    "print(\"  \",a.values)\n",
    "print(\"//\",b.values)\n",
    "print(\"=\"*16)\n",
    "print(\"  \",g.values)"
   ]
  },
  {
   "cell_type": "code",
   "execution_count": 66,
   "metadata": {},
   "outputs": [
    {
     "name": "stdout",
     "output_type": "stream",
     "text": [
      "  [4 8 2 5 7]\n",
      "% [1 2 3 4 5]\n",
      "================\n",
      "  [0 0 2 1 2]\n"
     ]
    }
   ],
   "source": [
    "h = a.mod(b)\n",
    "print(\" \",a.values)\n",
    "print(\"%\",b.values)\n",
    "print(\"=\"*16)\n",
    "print(\" \",h.values)"
   ]
  },
  {
   "cell_type": "code",
   "execution_count": 67,
   "metadata": {},
   "outputs": [
    {
     "name": "stdout",
     "output_type": "stream",
     "text": [
      "   [4 8 2 5 7]\n",
      "** [1 2 3 4 5]\n",
      "================\n",
      "  [    4    64     8   625 16807]\n"
     ]
    }
   ],
   "source": [
    "i = a.pow(b)\n",
    "print(\"  \",a.values)\n",
    "print(\"**\",b.values)\n",
    "print(\"=\"*16)\n",
    "print(\" \",i.values)"
   ]
  },
  {
   "cell_type": "code",
   "execution_count": 68,
   "metadata": {},
   "outputs": [
    {
     "name": "stdout",
     "output_type": "stream",
     "text": [
      "   [4 8 2 5 7]\n",
      "** 2\n",
      "================\n",
      "  [16 64  4 25 49]\n"
     ]
    }
   ],
   "source": [
    "j = a.pow(2)\n",
    "print(\"  \",a.values)\n",
    "print(\"**\",2)\n",
    "print(\"=\"*16)\n",
    "print(\" \",j.values)"
   ]
  },
  {
   "cell_type": "code",
   "execution_count": 69,
   "metadata": {},
   "outputs": [
    {
     "data": {
      "text/plain": [
       "a    4.0\n",
       "b    3.0\n",
       "c    5.0\n",
       "d    NaN\n",
       "e    NaN\n",
       "f    7.0\n",
       "dtype: float64"
      ]
     },
     "execution_count": 69,
     "metadata": {},
     "output_type": "execute_result"
    }
   ],
   "source": [
    "# usando o parâmetro fill_value\n",
    "a = pd.Series([4, 3, 5, np.nan, None, 7], index=['a', 'b', 'c', 'd', 'e', 'f'])\n",
    "a"
   ]
  },
  {
   "cell_type": "code",
   "execution_count": 70,
   "metadata": {},
   "outputs": [
    {
     "data": {
      "text/plain": [
       "a    2.0\n",
       "b    5.0\n",
       "c    NaN\n",
       "d    NaN\n",
       "e    3.0\n",
       "g    6.0\n",
       "dtype: float64"
      ]
     },
     "execution_count": 70,
     "metadata": {},
     "output_type": "execute_result"
    }
   ],
   "source": [
    "b = pd.Series([2, 5, np.nan, np.nan, 3, 6], index=['a', 'b', 'c', 'd', 'e', 'g'])\n",
    "b"
   ]
  },
  {
   "cell_type": "code",
   "execution_count": 71,
   "metadata": {},
   "outputs": [
    {
     "name": "stdout",
     "output_type": "stream",
     "text": [
      "  [ 4.  3.  5. nan nan  7.]\n",
      "/ [ 2.  5. nan nan  3.  6.]\n",
      "================\n",
      "[2.         0.6        5.                nan 0.33333333 7.\n",
      " 0.16666667]\n"
     ]
    }
   ],
   "source": [
    "k = a.div(b, fill_value = 1)\n",
    "print(\" \",a.values)\n",
    "print(\"/\",b.values)\n",
    "print(\"=\"*16)\n",
    "print(k.values)"
   ]
  },
  {
   "cell_type": "markdown",
   "metadata": {},
   "source": [
    "### round()"
   ]
  },
  {
   "cell_type": "code",
   "execution_count": 72,
   "metadata": {},
   "outputs": [
    {
     "data": {
      "text/plain": [
       "0    9.327379\n",
       "1    7.280110\n",
       "2    4.690416\n",
       "3    6.782330\n",
       "4    6.000000\n",
       "5    8.124038\n",
       "6    3.316625\n",
       "7    7.615773\n",
       "8    6.403124\n",
       "9    6.480741\n",
       "dtype: float64"
      ]
     },
     "execution_count": 72,
     "metadata": {},
     "output_type": "execute_result"
    }
   ],
   "source": [
    "a = pd.Series(np.random.randint(0, 100, 10)).pow(1/2)\n",
    "a"
   ]
  },
  {
   "cell_type": "code",
   "execution_count": 73,
   "metadata": {},
   "outputs": [
    {
     "data": {
      "text/plain": [
       "0    9.33\n",
       "1    7.28\n",
       "2    4.69\n",
       "3    6.78\n",
       "4    6.00\n",
       "5    8.12\n",
       "6    3.32\n",
       "7    7.62\n",
       "8    6.40\n",
       "9    6.48\n",
       "dtype: float64"
      ]
     },
     "execution_count": 73,
     "metadata": {},
     "output_type": "execute_result"
    }
   ],
   "source": [
    "a = a.round(2)\n",
    "a"
   ]
  },
  {
   "cell_type": "code",
   "execution_count": 74,
   "metadata": {},
   "outputs": [
    {
     "data": {
      "text/plain": [
       "0    9.0\n",
       "1    7.0\n",
       "2    5.0\n",
       "3    7.0\n",
       "4    6.0\n",
       "5    8.0\n",
       "6    3.0\n",
       "7    8.0\n",
       "8    6.0\n",
       "9    6.0\n",
       "dtype: float64"
      ]
     },
     "execution_count": 74,
     "metadata": {},
     "output_type": "execute_result"
    }
   ],
   "source": [
    "a = a.round(0)\n",
    "a"
   ]
  },
  {
   "cell_type": "markdown",
   "metadata": {},
   "source": [
    "### lt(), gt(), le(), ge(), ne() e eq()"
   ]
  },
  {
   "cell_type": "code",
   "execution_count": 75,
   "metadata": {},
   "outputs": [
    {
     "data": {
      "text/plain": [
       "0    9\n",
       "1    5\n",
       "2    0\n",
       "3    9\n",
       "4    5\n",
       "dtype: int32"
      ]
     },
     "execution_count": 75,
     "metadata": {},
     "output_type": "execute_result"
    }
   ],
   "source": [
    "np.random.seed(51)\n",
    "a = pd.Series(np.random.randint(0, 10, 5))\n",
    "a"
   ]
  },
  {
   "cell_type": "code",
   "execution_count": 76,
   "metadata": {},
   "outputs": [
    {
     "data": {
      "text/plain": [
       "0    0\n",
       "1    5\n",
       "2    4\n",
       "3    9\n",
       "4    5\n",
       "dtype: int32"
      ]
     },
     "execution_count": 76,
     "metadata": {},
     "output_type": "execute_result"
    }
   ],
   "source": [
    "b = pd.Series(np.random.randint(0, 10, 5))\n",
    "b"
   ]
  },
  {
   "cell_type": "code",
   "execution_count": 77,
   "metadata": {},
   "outputs": [
    {
     "data": {
      "text/plain": [
       "0    False\n",
       "1    False\n",
       "2     True\n",
       "3    False\n",
       "4    False\n",
       "dtype: bool"
      ]
     },
     "execution_count": 77,
     "metadata": {},
     "output_type": "execute_result"
    }
   ],
   "source": [
    "a.lt(b)"
   ]
  },
  {
   "cell_type": "code",
   "execution_count": 78,
   "metadata": {},
   "outputs": [
    {
     "name": "stdout",
     "output_type": "stream",
     "text": [
      "  [9 5 0 9 5]\n",
      "< [0 5 4 9 5]\n",
      "================================\n",
      "[False False  True False False]\n"
     ]
    }
   ],
   "source": [
    "print(\" \",a.values)\n",
    "print(\"<\",b.values)\n",
    "print(\"=\"*32)\n",
    "print(a.lt(b).values)"
   ]
  },
  {
   "cell_type": "code",
   "execution_count": 79,
   "metadata": {},
   "outputs": [
    {
     "name": "stdout",
     "output_type": "stream",
     "text": [
      "  [9 5 0 9 5]\n",
      "> [0 5 4 9 5]\n",
      "================================\n",
      "[ True False False False False]\n"
     ]
    }
   ],
   "source": [
    "print(\" \",a.values)\n",
    "print(\">\",b.values)\n",
    "print(\"=\"*32)\n",
    "print(a.gt(b).values)"
   ]
  },
  {
   "cell_type": "code",
   "execution_count": 80,
   "metadata": {},
   "outputs": [
    {
     "name": "stdout",
     "output_type": "stream",
     "text": [
      "   [9 5 0 9 5]\n",
      "<= [0 5 4 9 5]\n",
      "================================\n",
      "[False  True  True  True  True]\n"
     ]
    }
   ],
   "source": [
    "print(\"  \",a.values)\n",
    "print(\"<=\",b.values)\n",
    "print(\"=\"*32)\n",
    "print(a.le(b).values)"
   ]
  },
  {
   "cell_type": "code",
   "execution_count": 81,
   "metadata": {},
   "outputs": [
    {
     "name": "stdout",
     "output_type": "stream",
     "text": [
      "   [9 5 0 9 5]\n",
      ">= [0 5 4 9 5]\n",
      "================================\n",
      "[ True  True False  True  True]\n"
     ]
    }
   ],
   "source": [
    "print(\"  \",a.values)\n",
    "print(\">=\",b.values)\n",
    "print(\"=\"*32)\n",
    "print(a.ge(b).values)"
   ]
  },
  {
   "cell_type": "code",
   "execution_count": 82,
   "metadata": {},
   "outputs": [
    {
     "name": "stdout",
     "output_type": "stream",
     "text": [
      "   [9 5 0 9 5]\n",
      "!= [0 5 4 9 5]\n",
      "================================\n",
      "[ True False  True False False]\n"
     ]
    }
   ],
   "source": [
    "print(\"  \",a.values)\n",
    "print(\"!=\",b.values)\n",
    "print(\"=\"*32)\n",
    "print(a.ne(b).values)"
   ]
  },
  {
   "cell_type": "code",
   "execution_count": 83,
   "metadata": {},
   "outputs": [
    {
     "name": "stdout",
     "output_type": "stream",
     "text": [
      "   [9 5 0 9 5]\n",
      "== [0 5 4 9 5]\n",
      "================================\n",
      "[False  True False  True  True]\n"
     ]
    }
   ],
   "source": [
    "print(\"  \",a.values)\n",
    "print(\"==\",b.values)\n",
    "print(\"=\"*32)\n",
    "print(a.eq(b).values)"
   ]
  },
  {
   "cell_type": "markdown",
   "metadata": {},
   "source": [
    "### sum(), product(), abs()"
   ]
  },
  {
   "cell_type": "code",
   "execution_count": 84,
   "metadata": {},
   "outputs": [
    {
     "data": {
      "text/plain": [
       "0    68\n",
       "1    23\n",
       "2    17\n",
       "3    39\n",
       "4    25\n",
       "5    58\n",
       "dtype: int64"
      ]
     },
     "execution_count": 84,
     "metadata": {},
     "output_type": "execute_result"
    }
   ],
   "source": [
    "s"
   ]
  },
  {
   "cell_type": "code",
   "execution_count": 85,
   "metadata": {
    "scrolled": true
   },
   "outputs": [
    {
     "data": {
      "text/plain": [
       "230"
      ]
     },
     "execution_count": 85,
     "metadata": {},
     "output_type": "execute_result"
    }
   ],
   "source": [
    "s.sum()"
   ]
  },
  {
   "cell_type": "code",
   "execution_count": 86,
   "metadata": {},
   "outputs": [
    {
     "data": {
      "text/plain": [
       "1503551400"
      ]
     },
     "execution_count": 86,
     "metadata": {},
     "output_type": "execute_result"
    }
   ],
   "source": [
    "s.product()"
   ]
  },
  {
   "cell_type": "code",
   "execution_count": 87,
   "metadata": {},
   "outputs": [
    {
     "data": {
      "text/plain": [
       "0   -6\n",
       "1   -4\n",
       "2   -2\n",
       "3    0\n",
       "4    2\n",
       "5    4\n",
       "dtype: int32"
      ]
     },
     "execution_count": 87,
     "metadata": {},
     "output_type": "execute_result"
    }
   ],
   "source": [
    "posneg = pd.Series(np.arange(-6,6,2))\n",
    "posneg"
   ]
  },
  {
   "cell_type": "code",
   "execution_count": 88,
   "metadata": {},
   "outputs": [
    {
     "data": {
      "text/plain": [
       "0    6\n",
       "1    4\n",
       "2    2\n",
       "3    0\n",
       "4    2\n",
       "5    4\n",
       "dtype: int32"
      ]
     },
     "execution_count": 88,
     "metadata": {},
     "output_type": "execute_result"
    }
   ],
   "source": [
    "posneg.abs()"
   ]
  },
  {
   "cell_type": "markdown",
   "metadata": {},
   "source": [
    "### Métodos estatísticos"
   ]
  },
  {
   "cell_type": "code",
   "execution_count": 89,
   "metadata": {},
   "outputs": [
    {
     "data": {
      "text/plain": [
       "count    100.000000\n",
       "mean      35.570000\n",
       "std       10.766817\n",
       "min       18.000000\n",
       "25%       26.750000\n",
       "50%       34.000000\n",
       "75%       45.250000\n",
       "max       55.000000\n",
       "Name: Idade, dtype: float64"
      ]
     },
     "execution_count": 89,
     "metadata": {},
     "output_type": "execute_result"
    }
   ],
   "source": [
    "idadescsv3.describe()"
   ]
  },
  {
   "cell_type": "code",
   "execution_count": 90,
   "metadata": {},
   "outputs": [
    {
     "data": {
      "text/plain": [
       "35.57"
      ]
     },
     "execution_count": 90,
     "metadata": {},
     "output_type": "execute_result"
    }
   ],
   "source": [
    "idadescsv3.mean()"
   ]
  },
  {
   "cell_type": "code",
   "execution_count": 91,
   "metadata": {},
   "outputs": [
    {
     "data": {
      "text/plain": [
       "10.766816773510332"
      ]
     },
     "execution_count": 91,
     "metadata": {},
     "output_type": "execute_result"
    }
   ],
   "source": [
    "idadescsv3.std()"
   ]
  },
  {
   "cell_type": "code",
   "execution_count": 92,
   "metadata": {},
   "outputs": [
    {
     "data": {
      "text/plain": [
       "34.0"
      ]
     },
     "execution_count": 92,
     "metadata": {},
     "output_type": "execute_result"
    }
   ],
   "source": [
    "idadescsv3.median()"
   ]
  },
  {
   "cell_type": "code",
   "execution_count": 93,
   "metadata": {},
   "outputs": [
    {
     "data": {
      "text/plain": [
       "18"
      ]
     },
     "execution_count": 93,
     "metadata": {},
     "output_type": "execute_result"
    }
   ],
   "source": [
    "idadescsv3.min()"
   ]
  },
  {
   "cell_type": "code",
   "execution_count": 94,
   "metadata": {},
   "outputs": [
    {
     "data": {
      "text/plain": [
       "55"
      ]
     },
     "execution_count": 94,
     "metadata": {},
     "output_type": "execute_result"
    }
   ],
   "source": [
    "idadescsv3.max()"
   ]
  },
  {
   "cell_type": "code",
   "execution_count": 95,
   "metadata": {},
   "outputs": [
    {
     "data": {
      "text/plain": [
       "26.75"
      ]
     },
     "execution_count": 95,
     "metadata": {},
     "output_type": "execute_result"
    }
   ],
   "source": [
    "idadescsv3.quantile(0.25)"
   ]
  },
  {
   "cell_type": "code",
   "execution_count": 96,
   "metadata": {},
   "outputs": [
    {
     "data": {
      "text/plain": [
       "34.0"
      ]
     },
     "execution_count": 96,
     "metadata": {},
     "output_type": "execute_result"
    }
   ],
   "source": [
    "idadescsv3.quantile(.5)"
   ]
  },
  {
   "cell_type": "code",
   "execution_count": 97,
   "metadata": {},
   "outputs": [
    {
     "data": {
      "text/plain": [
       "45.25"
      ]
     },
     "execution_count": 97,
     "metadata": {},
     "output_type": "execute_result"
    }
   ],
   "source": [
    "idadescsv3.quantile(.75)"
   ]
  },
  {
   "cell_type": "code",
   "execution_count": 98,
   "metadata": {},
   "outputs": [
    {
     "data": {
      "text/plain": [
       "Nome\n",
       "Lucas        55\n",
       "Valentina    54\n",
       "Lucca        53\n",
       "Name: Idade, dtype: int64"
      ]
     },
     "execution_count": 98,
     "metadata": {},
     "output_type": "execute_result"
    }
   ],
   "source": [
    "idadescsv3.nlargest(3)"
   ]
  },
  {
   "cell_type": "code",
   "execution_count": 99,
   "metadata": {},
   "outputs": [
    {
     "data": {
      "text/plain": [
       "Nome\n",
       "Alícia      18\n",
       "Amanda      18\n",
       "Bernardo    18\n",
       "Name: Idade, dtype: int64"
      ]
     },
     "execution_count": 99,
     "metadata": {},
     "output_type": "execute_result"
    }
   ],
   "source": [
    "idadescsv3.nsmallest(3)"
   ]
  },
  {
   "cell_type": "code",
   "execution_count": 100,
   "metadata": {},
   "outputs": [
    {
     "data": {
      "text/plain": [
       "array([24, 27, 18, 44, 46, 49, 47, 41, 19, 25, 31, 42, 23, 39, 21, 33, 45,\n",
       "       34, 43, 29, 36, 40, 32, 22, 48, 52, 51, 55, 53, 26, 54],\n",
       "      dtype=int64)"
      ]
     },
     "execution_count": 100,
     "metadata": {},
     "output_type": "execute_result"
    }
   ],
   "source": [
    "idadescsv3.unique()"
   ]
  },
  {
   "cell_type": "code",
   "execution_count": 101,
   "metadata": {},
   "outputs": [
    {
     "data": {
      "text/plain": [
       "array([18, 19, 21, 22, 23, 24, 25, 26, 27, 29, 31, 32, 33, 34, 36, 39, 40,\n",
       "       41, 42, 43, 44, 45, 46, 47, 48, 49, 51, 52, 53, 54, 55],\n",
       "      dtype=int64)"
      ]
     },
     "execution_count": 101,
     "metadata": {},
     "output_type": "execute_result"
    }
   ],
   "source": [
    "# Usando np.sort para ordenar o array de elementos únicos\n",
    "np.sort(idadescsv3.unique())"
   ]
  },
  {
   "cell_type": "code",
   "execution_count": 102,
   "metadata": {},
   "outputs": [
    {
     "data": {
      "text/plain": [
       "31"
      ]
     },
     "execution_count": 102,
     "metadata": {},
     "output_type": "execute_result"
    }
   ],
   "source": [
    "idadescsv3.nunique()"
   ]
  },
  {
   "cell_type": "code",
   "execution_count": 103,
   "metadata": {},
   "outputs": [
    {
     "data": {
      "text/plain": [
       "100"
      ]
     },
     "execution_count": 103,
     "metadata": {},
     "output_type": "execute_result"
    }
   ],
   "source": [
    "idadescsv3.count()"
   ]
  },
  {
   "cell_type": "code",
   "execution_count": 104,
   "metadata": {},
   "outputs": [
    {
     "data": {
      "text/plain": [
       "array([ 2.,  5., nan,  0.,  3., nan,  6.])"
      ]
     },
     "execution_count": 104,
     "metadata": {},
     "output_type": "execute_result"
    }
   ],
   "source": [
    "b = pd.Series([2, 5, np.nan, 0, 3, None, 6])\n",
    "b.values"
   ]
  },
  {
   "cell_type": "code",
   "execution_count": 105,
   "metadata": {},
   "outputs": [
    {
     "data": {
      "text/plain": [
       "5"
      ]
     },
     "execution_count": 105,
     "metadata": {},
     "output_type": "execute_result"
    }
   ],
   "source": [
    "b.count()"
   ]
  },
  {
   "cell_type": "markdown",
   "metadata": {},
   "source": [
    "### Métodos do objetos Series: manipulação e seleção\n",
    "\n",
    "| Método | Descrição | Exemplo |\n",
    "|:------------|:-------------------------------------------------------------------------|:--------------|\n",
    "|[copy()](https://pandas.pydata.org/pandas-docs/stable/reference/api/pandas.Series.copy.html#pandas.Series.copy) | Retorna uma cópia de um objetos Series | `s.copy()`|\n",
    "|[append()](https://pandas.pydata.org/pandas-docs/stable/reference/api/pandas.Series.append.html) | Concatena duas ou mais Series | `s = a.append(b)`|\n",
    "|[replace()](https://pandas.pydata.org/pandas-docs/stable/reference/api/pandas.Series.replace.html) | Substitui valor da Series por outro passado por parâmetro | `s = a.replace(-1, 0)`|\n",
    "|[update()](https://pandas.pydata.org/pandas-docs/stable/reference/api/pandas.Series.update.html) | Modifica uma série por valores de outra série passada por parâmetro | `a.update(b)`|\n",
    "|[head()](https://pandas.pydata.org/pandas-docs/stable/reference/api/pandas.Series.head.html) | Retorna as *n* primeiras linhas | `s.head(3)`|\n",
    "|[tail()](https://pandas.pydata.org/pandas-docs/stable/reference/api/pandas.Series.tail.html) | Retorna as *n* últimas linhas | `s.tail(4)`|\n",
    "|[sample()](https://pandas.pydata.org/pandas-docs/stable/reference/api/pandas.Series.sample.html) | Retorna uma amostra | `s.sample()`|\n",
    "|[where()](https://pandas.pydata.org/pandas-docs/stable/reference/api/pandas.Series.where.html) | Retorna uma Series onde valores para os quais a condição é **False** são substituídos por outro passado por parâmetro | `s.where(s <= 0, 5)`|\n",
    "|[mask()](https://pandas.pydata.org/pandas-docs/stable/reference/api/pandas.Series.mask.html) | Retorna uma Series onde valores para os quais a condição é **True** são substituídos por outro passado por parâmetro | `s.mask(s > 0, 5)`|"
   ]
  },
  {
   "cell_type": "markdown",
   "metadata": {},
   "source": [
    "#### copy()"
   ]
  },
  {
   "cell_type": "code",
   "execution_count": 106,
   "metadata": {},
   "outputs": [
    {
     "data": {
      "text/plain": [
       "MG    {'Estado': 'Minas Gerais', 'Capital': 'Belo Ho...\n",
       "CE    {'Estado': 'Ceará', 'Capital': 'Fortaleza', 'P...\n",
       "MT    {'Estado': 'Mato Grosso', 'Capital': 'Cuiabá',...\n",
       "RR    {'Estado': 'Roraima', 'Capital': 'Boa Vista', ...\n",
       "dtype: object"
      ]
     },
     "execution_count": 106,
     "metadata": {},
     "output_type": "execute_result"
    }
   ],
   "source": [
    "serie_estados2"
   ]
  },
  {
   "cell_type": "code",
   "execution_count": 107,
   "metadata": {},
   "outputs": [
    {
     "data": {
      "text/plain": [
       "MG    {'Estado': 'Minas Gerais', 'Capital': 'Belo Ho...\n",
       "CE    {'Estado': 'Ceará', 'Capital': 'Fortaleza', 'P...\n",
       "MT    {'Estado': 'Mato Grosso', 'Capital': 'Cuiabá',...\n",
       "RR    {'Estado': 'Roraima', 'Capital': 'Boa Vista', ...\n",
       "dtype: object"
      ]
     },
     "execution_count": 107,
     "metadata": {},
     "output_type": "execute_result"
    }
   ],
   "source": [
    "# Shallow copy\n",
    "copia = serie_estados2.copy()\n",
    "copia"
   ]
  },
  {
   "cell_type": "code",
   "execution_count": 108,
   "metadata": {},
   "outputs": [
    {
     "data": {
      "text/plain": [
       "MG    {'Estado': 'Minas Gerais', 'Capital': 'Belo Ho...\n",
       "CE    {'Estado': 'Ceará', 'Capital': 'Fortaleza', 'P...\n",
       "MT    {'Estado': 'Mato Grosso', 'Capital': 'CGB', 'P...\n",
       "RR    {'Estado': 'Roraima', 'Capital': 'Boa Vista', ...\n",
       "dtype: object"
      ]
     },
     "execution_count": 108,
     "metadata": {},
     "output_type": "execute_result"
    }
   ],
   "source": [
    "copia[\"MT\"][\"Capital\"] = \"CGB\"\n",
    "copia"
   ]
  },
  {
   "cell_type": "code",
   "execution_count": 109,
   "metadata": {},
   "outputs": [
    {
     "data": {
      "text/plain": [
       "MG    {'Estado': 'Minas Gerais', 'Capital': 'Belo Ho...\n",
       "CE    {'Estado': 'Ceará', 'Capital': 'Fortaleza', 'P...\n",
       "MT    {'Estado': 'Mato Grosso', 'Capital': 'CGB', 'P...\n",
       "RR    {'Estado': 'Roraima', 'Capital': 'Boa Vista', ...\n",
       "dtype: object"
      ]
     },
     "execution_count": 109,
     "metadata": {},
     "output_type": "execute_result"
    }
   ],
   "source": [
    "serie_estados2"
   ]
  },
  {
   "cell_type": "code",
   "execution_count": 110,
   "metadata": {},
   "outputs": [
    {
     "data": {
      "text/plain": [
       "MG    {'Estado': 'Minas Gerais', 'Capital': 'Belo Ho...\n",
       "CE    {'Estado': 'Ceará', 'Capital': 'Fortaleza', 'P...\n",
       "MT    {'Estado': 'Mato Grosso', 'Capital': 'Cuiabá',...\n",
       "RR    {'Estado': 'Roraima', 'Capital': 'Boa Vista', ...\n",
       "dtype: object"
      ]
     },
     "execution_count": 110,
     "metadata": {},
     "output_type": "execute_result"
    }
   ],
   "source": [
    "# Retornando ao valor original\n",
    "serie_estados2[\"MT\"][\"Capital\"] = \"Cuiabá\"\n",
    "serie_estados2"
   ]
  },
  {
   "cell_type": "code",
   "execution_count": 127,
   "metadata": {},
   "outputs": [
    {
     "name": "stdout",
     "output_type": "stream",
     "text": [
      "0    1\n",
      "1    2\n",
      "2    3\n",
      "3    4\n",
      "dtype: int64\n",
      "0      1\n",
      "1      2\n",
      "2      3\n",
      "3    200\n",
      "dtype: int64\n"
     ]
    }
   ],
   "source": [
    "serie1 = pd.Series([1,2,3,4])\n",
    "serie2 = serie1.copy()\n",
    "serie2[3] = 200\n",
    "print(serie1)\n",
    "print(serie2)"
   ]
  },
  {
   "cell_type": "code",
   "execution_count": 111,
   "metadata": {},
   "outputs": [],
   "source": [
    "# Deep copy\n",
    "import pickle\n",
    "copia = pickle.loads(pickle.dumps(serie_estados2))"
   ]
  },
  {
   "cell_type": "code",
   "execution_count": 112,
   "metadata": {},
   "outputs": [
    {
     "data": {
      "text/plain": [
       "MG    {'Estado': 'Minas Gerais', 'Capital': 'Belo Ho...\n",
       "CE    {'Estado': 'Ceará', 'Capital': 'Fortaleza', 'P...\n",
       "MT    {'Estado': 'Mato Grosso', 'Capital': 'CGB', 'P...\n",
       "RR    {'Estado': 'Roraima', 'Capital': 'Boa Vista', ...\n",
       "dtype: object"
      ]
     },
     "execution_count": 112,
     "metadata": {},
     "output_type": "execute_result"
    }
   ],
   "source": [
    "copia[\"MT\"][\"Capital\"] = \"CGB\"\n",
    "copia"
   ]
  },
  {
   "cell_type": "code",
   "execution_count": 113,
   "metadata": {},
   "outputs": [
    {
     "data": {
      "text/plain": [
       "MG    {'Estado': 'Minas Gerais', 'Capital': 'Belo Ho...\n",
       "CE    {'Estado': 'Ceará', 'Capital': 'Fortaleza', 'P...\n",
       "MT    {'Estado': 'Mato Grosso', 'Capital': 'Cuiabá',...\n",
       "RR    {'Estado': 'Roraima', 'Capital': 'Boa Vista', ...\n",
       "dtype: object"
      ]
     },
     "execution_count": 113,
     "metadata": {},
     "output_type": "execute_result"
    }
   ],
   "source": [
    "serie_estados2"
   ]
  },
  {
   "cell_type": "markdown",
   "metadata": {},
   "source": [
    "#### append()"
   ]
  },
  {
   "cell_type": "code",
   "execution_count": 114,
   "metadata": {},
   "outputs": [
    {
     "data": {
      "text/plain": [
       "0    9\n",
       "1    5\n",
       "2    0\n",
       "3    9\n",
       "4    5\n",
       "dtype: int32"
      ]
     },
     "execution_count": 114,
     "metadata": {},
     "output_type": "execute_result"
    }
   ],
   "source": [
    "a"
   ]
  },
  {
   "cell_type": "code",
   "execution_count": 115,
   "metadata": {},
   "outputs": [
    {
     "data": {
      "text/plain": [
       "0    2.0\n",
       "1    5.0\n",
       "2    NaN\n",
       "3    0.0\n",
       "4    3.0\n",
       "5    NaN\n",
       "6    6.0\n",
       "dtype: float64"
      ]
     },
     "execution_count": 115,
     "metadata": {},
     "output_type": "execute_result"
    }
   ],
   "source": [
    "b"
   ]
  },
  {
   "cell_type": "code",
   "execution_count": 116,
   "metadata": {},
   "outputs": [
    {
     "data": {
      "text/plain": [
       "0    9.0\n",
       "1    5.0\n",
       "2    0.0\n",
       "3    9.0\n",
       "4    5.0\n",
       "0    2.0\n",
       "1    5.0\n",
       "2    NaN\n",
       "3    0.0\n",
       "4    3.0\n",
       "5    NaN\n",
       "6    6.0\n",
       "dtype: float64"
      ]
     },
     "execution_count": 116,
     "metadata": {},
     "output_type": "execute_result"
    }
   ],
   "source": [
    "ab = a.append(b)\n",
    "ab"
   ]
  },
  {
   "cell_type": "code",
   "execution_count": 117,
   "metadata": {},
   "outputs": [
    {
     "data": {
      "text/plain": [
       "0     9.0\n",
       "1     5.0\n",
       "2     0.0\n",
       "3     9.0\n",
       "4     5.0\n",
       "5     2.0\n",
       "6     5.0\n",
       "7     NaN\n",
       "8     0.0\n",
       "9     3.0\n",
       "10    NaN\n",
       "11    6.0\n",
       "dtype: float64"
      ]
     },
     "execution_count": 117,
     "metadata": {},
     "output_type": "execute_result"
    }
   ],
   "source": [
    "ab = a.append(b, ignore_index=True)\n",
    "ab"
   ]
  },
  {
   "cell_type": "markdown",
   "metadata": {},
   "source": [
    "#### replace()"
   ]
  },
  {
   "cell_type": "code",
   "execution_count": 118,
   "metadata": {},
   "outputs": [
    {
     "data": {
      "text/plain": [
       "0     9.0\n",
       "1     5.0\n",
       "2     1.0\n",
       "3     9.0\n",
       "4     5.0\n",
       "5     2.0\n",
       "6     5.0\n",
       "7     NaN\n",
       "8     1.0\n",
       "9     3.0\n",
       "10    NaN\n",
       "11    6.0\n",
       "dtype: float64"
      ]
     },
     "execution_count": 118,
     "metadata": {},
     "output_type": "execute_result"
    }
   ],
   "source": [
    "c = ab.replace(0, 1)\n",
    "c"
   ]
  },
  {
   "cell_type": "markdown",
   "metadata": {},
   "source": [
    "\n",
    "#### update()"
   ]
  },
  {
   "cell_type": "code",
   "execution_count": 119,
   "metadata": {},
   "outputs": [
    {
     "data": {
      "text/plain": [
       "9      4\n",
       "7     10\n",
       "10    11\n",
       "4     12\n",
       "dtype: int64"
      ]
     },
     "execution_count": 119,
     "metadata": {},
     "output_type": "execute_result"
    }
   ],
   "source": [
    "d = pd.Series([4, 10, 11, 12], index=[9, 7, 10, 4])\n",
    "d"
   ]
  },
  {
   "cell_type": "code",
   "execution_count": 120,
   "metadata": {},
   "outputs": [
    {
     "data": {
      "text/plain": [
       "0      9.0\n",
       "1      5.0\n",
       "2      1.0\n",
       "3      9.0\n",
       "4     12.0\n",
       "5      2.0\n",
       "6      5.0\n",
       "7     10.0\n",
       "8      1.0\n",
       "9      4.0\n",
       "10    11.0\n",
       "11     6.0\n",
       "dtype: float64"
      ]
     },
     "execution_count": 120,
     "metadata": {},
     "output_type": "execute_result"
    }
   ],
   "source": [
    "c.update(d)\n",
    "c"
   ]
  },
  {
   "cell_type": "markdown",
   "metadata": {},
   "source": [
    "#### head()"
   ]
  },
  {
   "cell_type": "code",
   "execution_count": 121,
   "metadata": {},
   "outputs": [
    {
     "data": {
      "text/plain": [
       "Nome\n",
       "Agatha         24\n",
       "Alice          27\n",
       "Alícia         18\n",
       "Amanda         18\n",
       "Ana Beatriz    44\n",
       "Name: Idade, dtype: int64"
      ]
     },
     "execution_count": 121,
     "metadata": {},
     "output_type": "execute_result"
    }
   ],
   "source": [
    "idadescsv3.head() # Por default retornar as 5 primeiras linhas"
   ]
  },
  {
   "cell_type": "code",
   "execution_count": 122,
   "metadata": {},
   "outputs": [
    {
     "data": {
      "text/plain": [
       "Nome\n",
       "Agatha         24\n",
       "Alice          27\n",
       "Alícia         18\n",
       "Amanda         18\n",
       "Ana Beatriz    44\n",
       "Ana Clara      46\n",
       "Ana Julia      49\n",
       "Ana Luiza      47\n",
       "Name: Idade, dtype: int64"
      ]
     },
     "execution_count": 122,
     "metadata": {},
     "output_type": "execute_result"
    }
   ],
   "source": [
    "idadescsv3.head(8)"
   ]
  },
  {
   "cell_type": "markdown",
   "metadata": {},
   "source": [
    "#### tail()"
   ]
  },
  {
   "cell_type": "code",
   "execution_count": 123,
   "metadata": {},
   "outputs": [
    {
     "data": {
      "text/plain": [
       "Nome\n",
       "Valentina    54\n",
       "Vinicius     32\n",
       "Vitor        41\n",
       "Vitória      49\n",
       "Yasmin       52\n",
       "Name: Idade, dtype: int64"
      ]
     },
     "execution_count": 123,
     "metadata": {},
     "output_type": "execute_result"
    }
   ],
   "source": [
    "idadescsv3.tail() # Por default retornar as 5 últimas linhas"
   ]
  },
  {
   "cell_type": "code",
   "execution_count": 124,
   "metadata": {},
   "outputs": [
    {
     "data": {
      "text/plain": [
       "Nome\n",
       "Vitor      41\n",
       "Vitória    49\n",
       "Yasmin     52\n",
       "Name: Idade, dtype: int64"
      ]
     },
     "execution_count": 124,
     "metadata": {},
     "output_type": "execute_result"
    }
   ],
   "source": [
    "idadescsv3.tail(3)"
   ]
  },
  {
   "cell_type": "markdown",
   "metadata": {},
   "source": [
    "#### sample()"
   ]
  },
  {
   "cell_type": "code",
   "execution_count": 125,
   "metadata": {},
   "outputs": [
    {
     "data": {
      "text/plain": [
       "Nome\n",
       "Clara    25\n",
       "Name: Idade, dtype: int64"
      ]
     },
     "execution_count": 125,
     "metadata": {},
     "output_type": "execute_result"
    }
   ],
   "source": [
    "idadescsv3.sample() # Por default retorna 1 linha de amostra"
   ]
  },
  {
   "cell_type": "code",
   "execution_count": 126,
   "metadata": {},
   "outputs": [
    {
     "data": {
      "text/plain": [
       "Nome\n",
       "Maria Fernanda    18\n",
       "Ian               48\n",
       "Thiago            47\n",
       "Ana Luiza         47\n",
       "Agatha            24\n",
       "Name: Idade, dtype: int64"
      ]
     },
     "execution_count": 126,
     "metadata": {},
     "output_type": "execute_result"
    }
   ],
   "source": [
    "idadescsv3.sample(5)"
   ]
  },
  {
   "cell_type": "markdown",
   "metadata": {},
   "source": [
    "#### where()"
   ]
  },
  {
   "cell_type": "code",
   "execution_count": 128,
   "metadata": {},
   "outputs": [
    {
     "data": {
      "text/plain": [
       "0     9.0\n",
       "1     5.0\n",
       "2     0.0\n",
       "3     9.0\n",
       "4     5.0\n",
       "5     2.0\n",
       "6     5.0\n",
       "7    -1.0\n",
       "8     0.0\n",
       "9     3.0\n",
       "10   -1.0\n",
       "11    6.0\n",
       "dtype: float64"
      ]
     },
     "execution_count": 128,
     "metadata": {},
     "output_type": "execute_result"
    }
   ],
   "source": [
    "c = (a.append(b,ignore_index=True)).replace(np.nan,-1)\n",
    "c"
   ]
  },
  {
   "cell_type": "code",
   "execution_count": 129,
   "metadata": {},
   "outputs": [
    {
     "name": "stdout",
     "output_type": "stream",
     "text": [
      "c.values [ 9.  5.  0.  9.  5.  2.  5. -1.  0.  3. -1.  6.]\n",
      "d.values [ 9.  5. 10.  9.  5. 10.  5. 10. 10. 10. 10.  6.]\n",
      "e.values [ 0.  0.  0.  0.  0.  2.  0. -1.  0.  3. -1.  0.]\n"
     ]
    }
   ],
   "source": [
    "d = c.where(c > 3, 10) # Troca valores por 10 se a condição for falsa\n",
    "e = c.where(c <= 3, 0) # Troca valores por 0 se a condição for falsa\n",
    "print(\"c.values\", c.values)\n",
    "print(\"d.values\", d.values)\n",
    "print(\"e.values\", e.values)"
   ]
  },
  {
   "cell_type": "markdown",
   "metadata": {},
   "source": [
    "#### mask()"
   ]
  },
  {
   "cell_type": "code",
   "execution_count": 130,
   "metadata": {},
   "outputs": [
    {
     "name": "stdout",
     "output_type": "stream",
     "text": [
      "c.values [ 9.  5.  0.  9.  5.  2.  5. -1.  0.  3. -1.  6.]\n",
      "d.values [10. 10.  0. 10. 10.  2. 10. -1.  0.  3. -1. 10.]\n",
      "e.values [9. 5. 0. 9. 5. 0. 5. 0. 0. 0. 0. 6.]\n"
     ]
    }
   ],
   "source": [
    "d = c.mask(c > 3, 10) # Troca valores por 10 se a condição for verdadeira\n",
    "e = c.mask(c <= 3, 0) # Troca valores por 0 se a condição for verdadeira\n",
    "print(\"c.values\", c.values)\n",
    "print(\"d.values\", d.values)\n",
    "print(\"e.values\", e.values)"
   ]
  },
  {
   "cell_type": "markdown",
   "metadata": {},
   "source": [
    "### Métodos do objetos Series: manipulação de dados ausentes\n",
    "\n",
    "| Método | Descrição | Exemplo |\n",
    "|:------------|:-------------------------------------------------------------------------|:--------------|\n",
    "|[isna()](https://pandas.pydata.org/pandas-docs/stable/reference/api/pandas.Series.isna.html) | Retorna quais valores estão ausentes | `s.isna()`|\n",
    "|[notna()](https://pandas.pydata.org/pandas-docs/stable/reference/api/pandas.Series.notna.html) | Retorna quais valores estão presentes | `s.notna()`|\n",
    "|[dropna()](https://pandas.pydata.org/pandas-docs/stable/reference/api/pandas.Series.dropna.html) | Retorna uma nova Series com valores ausentes removidos | `s.dropna()`|\n",
    "|[fillna()](https://pandas.pydata.org/pandas-docs/stable/reference/api/pandas.Series.fillna.html) | Substitui valores ausentes por um valor ou usando um método de substituição  | `s.fillna(0)`|"
   ]
  },
  {
   "cell_type": "code",
   "execution_count": 131,
   "metadata": {},
   "outputs": [
    {
     "data": {
      "text/plain": [
       "0    False\n",
       "1    False\n",
       "2     True\n",
       "3    False\n",
       "4    False\n",
       "5     True\n",
       "6    False\n",
       "dtype: bool"
      ]
     },
     "execution_count": 131,
     "metadata": {},
     "output_type": "execute_result"
    }
   ],
   "source": [
    "s = pd.Series([2, 5, np.nan, 0, 3, None, 6])\n",
    "s.isna()"
   ]
  },
  {
   "cell_type": "code",
   "execution_count": 132,
   "metadata": {},
   "outputs": [
    {
     "data": {
      "text/plain": [
       "0     True\n",
       "1     True\n",
       "2    False\n",
       "3     True\n",
       "4     True\n",
       "5    False\n",
       "6     True\n",
       "dtype: bool"
      ]
     },
     "execution_count": 132,
     "metadata": {},
     "output_type": "execute_result"
    }
   ],
   "source": [
    "s.notna()"
   ]
  },
  {
   "cell_type": "code",
   "execution_count": 133,
   "metadata": {},
   "outputs": [
    {
     "data": {
      "text/plain": [
       "0    2.0\n",
       "1    5.0\n",
       "3    0.0\n",
       "4    3.0\n",
       "6    6.0\n",
       "dtype: float64"
      ]
     },
     "execution_count": 133,
     "metadata": {},
     "output_type": "execute_result"
    }
   ],
   "source": [
    "s1 = s.dropna()\n",
    "s1"
   ]
  },
  {
   "cell_type": "code",
   "execution_count": 134,
   "metadata": {},
   "outputs": [
    {
     "data": {
      "text/plain": [
       "0    2.0\n",
       "1    5.0\n",
       "3    0.0\n",
       "4    3.0\n",
       "6    6.0\n",
       "dtype: float64"
      ]
     },
     "execution_count": 134,
     "metadata": {},
     "output_type": "execute_result"
    }
   ],
   "source": [
    "s.dropna(inplace=True)\n",
    "s"
   ]
  },
  {
   "cell_type": "code",
   "execution_count": 135,
   "metadata": {},
   "outputs": [
    {
     "name": "stdout",
     "output_type": "stream",
     "text": [
      "[ 2.  5. nan  0.  3. nan  6.]\n",
      "[ 2.  5. -1.  0.  3. -1.  6.]\n"
     ]
    }
   ],
   "source": [
    "s = pd.Series([2, 5, np.nan, 0, 3, None, 6])\n",
    "s1 = s.fillna(-1)\n",
    "print(s.values)\n",
    "print(s1.values)"
   ]
  },
  {
   "cell_type": "code",
   "execution_count": 136,
   "metadata": {},
   "outputs": [
    {
     "name": "stdout",
     "output_type": "stream",
     "text": [
      "[ 2.  5. nan  0.  3. nan  6.]\n",
      "[2. 5. 0. 0. 3. 6. 6.]\n"
     ]
    }
   ],
   "source": [
    "# Preenche com o elemento posterior ao NaN\n",
    "s2 = s.fillna(method='bfill')\n",
    "print(s.values)\n",
    "print(s2.values)"
   ]
  },
  {
   "cell_type": "code",
   "execution_count": 137,
   "metadata": {},
   "outputs": [
    {
     "name": "stdout",
     "output_type": "stream",
     "text": [
      "[ 2.  5. nan  0.  3. nan  6.]\n",
      "[2. 5. 5. 0. 3. 3. 6.]\n"
     ]
    }
   ],
   "source": [
    "# Preenche com o elemento anterior ao NaN\n",
    "s3 = s.fillna(method='ffill')\n",
    "print(s.values)\n",
    "print(s3.values)"
   ]
  },
  {
   "cell_type": "code",
   "execution_count": 138,
   "metadata": {},
   "outputs": [
    {
     "data": {
      "text/plain": [
       "0    2.0\n",
       "1    5.0\n",
       "2   -1.0\n",
       "3    0.0\n",
       "4    3.0\n",
       "5   -1.0\n",
       "6    6.0\n",
       "dtype: float64"
      ]
     },
     "execution_count": 138,
     "metadata": {},
     "output_type": "execute_result"
    }
   ],
   "source": [
    "s.fillna(-1, inplace=True)\n",
    "s"
   ]
  },
  {
   "cell_type": "markdown",
   "metadata": {},
   "source": [
    "### Métodos do objetos Series: ordenação\n",
    "\n",
    "| Método | Descrição | Exemplo |\n",
    "|:------------|:-------------------------------------------------------------------------|:--------------|\n",
    "|[sort_values()](https://pandas.pydata.org/pandas-docs/stable/reference/api/pandas.Series.sort_values.html) | Retorna uma Series ordenada pelos valores | `s.sort_values()`|\n",
    "|[sort_index()](https://pandas.pydata.org/pandas-docs/stable/reference/api/pandas.Series.sort_index.html) | Retorna uma Series ordenada pelos rótulos | `s.sort_index()`|"
   ]
  },
  {
   "cell_type": "code",
   "execution_count": 139,
   "metadata": {},
   "outputs": [
    {
     "data": {
      "text/plain": [
       "Nome\n",
       "Agatha         24\n",
       "Alice          27\n",
       "Alícia         18\n",
       "Amanda         18\n",
       "Ana Beatriz    44\n",
       "Name: Idade, dtype: int64"
      ]
     },
     "execution_count": 139,
     "metadata": {},
     "output_type": "execute_result"
    }
   ],
   "source": [
    "idadescsv3.head()"
   ]
  },
  {
   "cell_type": "code",
   "execution_count": 141,
   "metadata": {},
   "outputs": [
    {
     "data": {
      "text/plain": [
       "Nome\n",
       "Bernardo          18\n",
       "Alícia            18\n",
       "Amanda            18\n",
       "Heloísa           18\n",
       "Maria Fernanda    18\n",
       "Benjamin          19\n",
       "Rodrigo           19\n",
       "Daniel            19\n",
       "Cecília           21\n",
       "Julia             21\n",
       "Catarina          21\n",
       "Henrique          22\n",
       "Joaquim           22\n",
       "Manuela           23\n",
       "Esther            23\n",
       "Name: Idade, dtype: int64"
      ]
     },
     "execution_count": 141,
     "metadata": {},
     "output_type": "execute_result"
    }
   ],
   "source": [
    "ordenado_id = idadescsv3.sort_values()\n",
    "ordenado_id.head(15)"
   ]
  },
  {
   "cell_type": "code",
   "execution_count": 142,
   "metadata": {},
   "outputs": [
    {
     "data": {
      "text/plain": [
       "Nome\n",
       "Agatha         24\n",
       "Alice          27\n",
       "Alícia         18\n",
       "Amanda         18\n",
       "Ana Beatriz    44\n",
       "Name: Idade, dtype: int64"
      ]
     },
     "execution_count": 142,
     "metadata": {},
     "output_type": "execute_result"
    }
   ],
   "source": [
    "idadescsv3.head()"
   ]
  },
  {
   "cell_type": "code",
   "execution_count": 143,
   "metadata": {},
   "outputs": [
    {
     "data": {
      "text/plain": [
       "Nome\n",
       "Agatha         24\n",
       "Alice          27\n",
       "Alícia         18\n",
       "Amanda         18\n",
       "Ana Beatriz    44\n",
       "Name: Idade, dtype: int64"
      ]
     },
     "execution_count": 143,
     "metadata": {},
     "output_type": "execute_result"
    }
   ],
   "source": [
    "ordenado_nome = ordenado_id.sort_index()\n",
    "ordenado_nome.head()"
   ]
  },
  {
   "cell_type": "code",
   "execution_count": 144,
   "metadata": {},
   "outputs": [
    {
     "data": {
      "text/plain": [
       "Nome\n",
       "Bernardo          18\n",
       "Alícia            18\n",
       "Amanda            18\n",
       "Heloísa           18\n",
       "Maria Fernanda    18\n",
       "Benjamin          19\n",
       "Rodrigo           19\n",
       "Daniel            19\n",
       "Cecília           21\n",
       "Julia             21\n",
       "Catarina          21\n",
       "Henrique          22\n",
       "Joaquim           22\n",
       "Manuela           23\n",
       "Esther            23\n",
       "Caio              23\n",
       "Isabelly          24\n",
       "Agatha            24\n",
       "Isabella          24\n",
       "Gustavo           24\n",
       "Name: Idade, dtype: int64"
      ]
     },
     "execution_count": 144,
     "metadata": {},
     "output_type": "execute_result"
    }
   ],
   "source": [
    "ordenado_id.head(20)"
   ]
  },
  {
   "cell_type": "markdown",
   "metadata": {},
   "source": [
    "### Métodos do objetos Series: manipulando strings\n",
    "\n",
    "| Método | Descrição | Exemplo |\n",
    "|:------------|:-------------------------------------------------------------------------|:--------------|\n",
    "|[str.capitalize()](https://pandas.pydata.org/pandas-docs/stable/reference/api/pandas.Series.str.capitalize.html) | Retorna uma Series com os Strings convertidos para a forma *capitalizada*: primeiro caractere maiúsculo e caracteres restantes em minúsculo | `s.str.capitalize()`|\n",
    "|[str.lower()](https://pandas.pydata.org/pandas-docs/stable/reference/api/pandas.Series.str.lower.html) | Retorna uma Series com os Strings convertidos  para letras minúsculas | `s.str.lower()`|\n",
    "|[str.upper()](https://pandas.pydata.org/pandas-docs/stable/reference/api/pandas.Series.str.upper.html) | Retorna uma Series com os Strings convertidos para letras maiúsculas | `s.str.upper() `|\n",
    "|[str.title()](https://pandas.pydata.org/pandas-docs/stable/reference/api/pandas.Series.str.title.html) | Retorna uma Series com os Strings convertidos para o formato de título: primeira letra de cada palavra convertida para maiúscula | `s.str.title() `|"
   ]
  },
  {
   "cell_type": "code",
   "execution_count": 145,
   "metadata": {},
   "outputs": [
    {
     "data": {
      "text/plain": [
       "0    Introdução à programação com Python\n",
       "1              Curso Intensivo de Python\n",
       "2           Python para análise de dados\n",
       "dtype: object"
      ]
     },
     "execution_count": 145,
     "metadata": {},
     "output_type": "execute_result"
    }
   ],
   "source": [
    "livros = pd.Series([\"Introdução à programação com Python\",\n",
    "                    \"Curso Intensivo de Python\",\n",
    "                    \"Python para análise de dados\"])\n",
    "livros"
   ]
  },
  {
   "cell_type": "code",
   "execution_count": 146,
   "metadata": {},
   "outputs": [
    {
     "data": {
      "text/plain": [
       "0    introdução à programação com python\n",
       "1              curso intensivo de python\n",
       "2           python para análise de dados\n",
       "dtype: object"
      ]
     },
     "execution_count": 146,
     "metadata": {},
     "output_type": "execute_result"
    }
   ],
   "source": [
    "livros.str.lower()"
   ]
  },
  {
   "cell_type": "code",
   "execution_count": 147,
   "metadata": {},
   "outputs": [
    {
     "data": {
      "text/plain": [
       "0    INTRODUÇÃO À PROGRAMAÇÃO COM PYTHON\n",
       "1              CURSO INTENSIVO DE PYTHON\n",
       "2           PYTHON PARA ANÁLISE DE DADOS\n",
       "dtype: object"
      ]
     },
     "execution_count": 147,
     "metadata": {},
     "output_type": "execute_result"
    }
   ],
   "source": [
    "livros.str.upper()"
   ]
  },
  {
   "cell_type": "code",
   "execution_count": 148,
   "metadata": {},
   "outputs": [
    {
     "data": {
      "text/plain": [
       "0    Introdução à programação com python\n",
       "1              Curso intensivo de python\n",
       "2           Python para análise de dados\n",
       "dtype: object"
      ]
     },
     "execution_count": 148,
     "metadata": {},
     "output_type": "execute_result"
    }
   ],
   "source": [
    "livros.str.capitalize()"
   ]
  },
  {
   "cell_type": "code",
   "execution_count": 149,
   "metadata": {},
   "outputs": [
    {
     "data": {
      "text/plain": [
       "0    Introdução À Programação Com Python\n",
       "1              Curso Intensivo De Python\n",
       "2           Python Para Análise De Dados\n",
       "dtype: object"
      ]
     },
     "execution_count": 149,
     "metadata": {},
     "output_type": "execute_result"
    }
   ],
   "source": [
    "livros.str.title()"
   ]
  },
  {
   "cell_type": "code",
   "execution_count": 151,
   "metadata": {},
   "outputs": [
    {
     "data": {
      "text/plain": [
       "0    Introdução À Programação Com Python\n",
       "1              Curso Intensivo De Python\n",
       "2           Python Para Análise De Dados\n",
       "dtype: object"
      ]
     },
     "execution_count": 151,
     "metadata": {},
     "output_type": "execute_result"
    }
   ],
   "source": [
    "livros_titulo = livros.str.title()\n",
    "livros_titulo"
   ]
  },
  {
   "cell_type": "code",
   "execution_count": 154,
   "metadata": {},
   "outputs": [
    {
     "name": "stdout",
     "output_type": "stream",
     "text": [
      "0    Introdução à programação com Python\n",
      "1              Curso Intensivo de Python\n",
      "2           Python para análise de dados\n",
      "dtype: object\n",
      "----------------------------------------------------------------\n",
      "0    Introdução À Programação Com Python\n",
      "1              Curso Intensivo De Python\n",
      "2           Python Para Análise De Dados\n",
      "dtype: object\n"
     ]
    }
   ],
   "source": [
    "print(livros)\n",
    "print('--'*32)\n",
    "print(livros_titulo)"
   ]
  },
  {
   "cell_type": "markdown",
   "metadata": {},
   "source": [
    "### Métodos do objetos Series: plotando gráficos\n",
    "\n",
    "| Método | Descrição | Exemplo |\n",
    "|:------------|:-------------------------------------------------------------------------|:--------------|\n",
    "|[plot.area()](https://pandas.pydata.org/pandas-docs/stable/reference/api/pandas.Series.plot.area.html) | Plota o gráfico de área | `s.plot.area()`|\n",
    "|[plot.bar()](https://pandas.pydata.org/pandas-docs/stable/reference/api/pandas.Series.plot.bar.html) | Plota o gráfico de barras | `s.plot.bar()`|\n",
    "|[plot.box()](https://pandas.pydata.org/pandas-docs/stable/reference/api/pandas.Series.plot.box.html) | Plota o Boxplot | `s.plot.box()`|\n",
    "|[plot.hist()](https://pandas.pydata.org/pandas-docs/stable/reference/api/pandas.Series.plot.hist.html) | Plota o histograma | `s.plot.hist()`|\n",
    "|[plot.line()](https://pandas.pydata.org/pandas-docs/stable/reference/api/pandas.Series.plot.line.html) | Plota o gráfico de linhas | `s.plot.line()`|"
   ]
  },
  {
   "cell_type": "code",
   "execution_count": 155,
   "metadata": {},
   "outputs": [
    {
     "data": {
      "text/plain": [
       "0    48\n",
       "1    96\n",
       "2    11\n",
       "3    33\n",
       "4    94\n",
       "dtype: int32"
      ]
     },
     "execution_count": 155,
     "metadata": {},
     "output_type": "execute_result"
    }
   ],
   "source": [
    "# Gera uma série com 30 notas aleatórios entre 0 e 100\n",
    "np.random.seed(50)\n",
    "notas = pd.Series(np.random.randint(0,101, 30))\n",
    "notas.head()"
   ]
  },
  {
   "cell_type": "code",
   "execution_count": 156,
   "metadata": {},
   "outputs": [
    {
     "data": {
      "text/plain": [
       "count    30.000000\n",
       "mean     48.833333\n",
       "std      32.652912\n",
       "min       2.000000\n",
       "25%      20.500000\n",
       "50%      45.500000\n",
       "75%      76.250000\n",
       "max      96.000000\n",
       "dtype: float64"
      ]
     },
     "execution_count": 156,
     "metadata": {},
     "output_type": "execute_result"
    }
   ],
   "source": [
    "notas.describe()"
   ]
  },
  {
   "cell_type": "code",
   "execution_count": 157,
   "metadata": {},
   "outputs": [
    {
     "data": {
      "text/plain": [
       "count    30.000000\n",
       "mean     48.833333\n",
       "std      32.652912\n",
       "min       2.000000\n",
       "25%      20.500000\n",
       "50%      45.500000\n",
       "75%      76.250000\n",
       "max      96.000000\n",
       "dtype: float64"
      ]
     },
     "execution_count": 157,
     "metadata": {},
     "output_type": "execute_result"
    }
   ],
   "source": [
    "recebe_info_desc = notas.describe()\n",
    "recebe_info_desc"
   ]
  },
  {
   "cell_type": "code",
   "execution_count": 163,
   "metadata": {},
   "outputs": [
    {
     "data": {
      "text/plain": [
       "<matplotlib.axes._subplots.AxesSubplot at 0x1fd13534408>"
      ]
     },
     "execution_count": 163,
     "metadata": {},
     "output_type": "execute_result"
    },
    {
     "data": {
      "image/png": "[encoded data removed]",
      "text/plain": [
       "<Figure size 432x288 with 1 Axes>"
      ]
     },
     "metadata": {
      "needs_background": "light"
     },
     "output_type": "display_data"
    }
   ],
   "source": [
    "%matplotlib inline\n",
    "notas.plot.hist()\n",
    "# metodo show()"
   ]
  },
  {
   "cell_type": "code",
   "execution_count": 169,
   "metadata": {},
   "outputs": [
    {
     "data": {
      "text/plain": [
       "<matplotlib.axes._subplots.AxesSubplot at 0x1fd1477ba88>"
      ]
     },
     "execution_count": 169,
     "metadata": {},
     "output_type": "execute_result"
    },
    {
     "data": {
      "image/png": "[encoded data removed]",
      "text/plain": [
       "<Figure size 432x288 with 1 Axes>"
      ]
     },
     "metadata": {
      "needs_background": "light"
     },
     "output_type": "display_data"
    }
   ],
   "source": [
    "notas.plot.hist(101)"
   ]
  },
  {
   "cell_type": "code",
   "execution_count": 165,
   "metadata": {},
   "outputs": [
    {
     "data": {
      "text/plain": [
       "array([ 2,  4,  5,  6,  6, 11, 19, 20, 22, 26, 31, 33, 35, 41, 43, 48, 49,\n",
       "       64, 68, 70, 70, 71, 78, 85, 90, 91, 92, 94, 95, 96])"
      ]
     },
     "execution_count": 165,
     "metadata": {},
     "output_type": "execute_result"
    }
   ],
   "source": [
    "np.sort(notas)"
   ]
  },
  {
   "cell_type": "code",
   "execution_count": 170,
   "metadata": {},
   "outputs": [
    {
     "data": {
      "text/plain": [
       "28"
      ]
     },
     "execution_count": 170,
     "metadata": {},
     "output_type": "execute_result"
    }
   ],
   "source": [
    "notas.nunique()"
   ]
  },
  {
   "cell_type": "code",
   "execution_count": 171,
   "metadata": {},
   "outputs": [
    {
     "data": {
      "text/plain": [
       "<matplotlib.axes._subplots.AxesSubplot at 0x1fd136a0688>"
      ]
     },
     "execution_count": 171,
     "metadata": {},
     "output_type": "execute_result"
    },
    {
     "data": {
      "image/png": "[encoded data removed]",
      "text/plain": [
       "<Figure size 432x288 with 1 Axes>"
      ]
     },
     "metadata": {
      "needs_background": "light"
     },
     "output_type": "display_data"
    }
   ],
   "source": [
    "notas.plot.area()"
   ]
  },
  {
   "cell_type": "code",
   "execution_count": 172,
   "metadata": {},
   "outputs": [
    {
     "data": {
      "text/plain": [
       "<matplotlib.axes._subplots.AxesSubplot at 0x1fd14857e88>"
      ]
     },
     "execution_count": 172,
     "metadata": {},
     "output_type": "execute_result"
    },
    {
     "data": {
      "image/png": "[encoded data removed]",
      "text/plain": [
       "<Figure size 432x288 with 1 Axes>"
      ]
     },
     "metadata": {
      "needs_background": "light"
     },
     "output_type": "display_data"
    }
   ],
   "source": [
    "notas.plot.bar()"
   ]
  },
  {
   "cell_type": "code",
   "execution_count": 173,
   "metadata": {},
   "outputs": [
    {
     "data": {
      "text/plain": [
       "<matplotlib.axes._subplots.AxesSubplot at 0x1fd1493ea88>"
      ]
     },
     "execution_count": 173,
     "metadata": {},
     "output_type": "execute_result"
    },
    {
     "data": {
      "image/png": "[encoded data removed]",
      "text/plain": [
       "<Figure size 432x288 with 1 Axes>"
      ]
     },
     "metadata": {
      "needs_background": "light"
     },
     "output_type": "display_data"
    }
   ],
   "source": [
    "notas.plot.box()"
   ]
  },
  {
   "cell_type": "code",
   "execution_count": 185,
   "metadata": {},
   "outputs": [
    {
     "name": "stdout",
     "output_type": "stream",
     "text": [
      "2 20.5 45.5 76.25 96\n",
      "----------------------------------------------------------------\n",
      "Nota minima: '2' , primeiro quartil: '20.5' , segundo quartil: '45.5' , terceiro quartil: '76.25' e maxima nota: '96' \n"
     ]
    }
   ],
   "source": [
    "print(notas.min(), notas.quantile(.25), notas.quantile(.5), notas.quantile(.75), notas.max())\n",
    "print(\"--\"*32)\n",
    "print(\"Nota minima: '{}' , primeiro quartil: '{}' , segundo quartil: '{}' , terceiro quartil: '{}' e maxima nota: '{}' \".format(notas.min(), notas.quantile(.25), notas.quantile(.5), notas.quantile(.75), notas.max()))"
   ]
  },
  {
   "cell_type": "code",
   "execution_count": 186,
   "metadata": {},
   "outputs": [
    {
     "data": {
      "text/plain": [
       "<matplotlib.axes._subplots.AxesSubplot at 0x1fd14a06988>"
      ]
     },
     "execution_count": 186,
     "metadata": {},
     "output_type": "execute_result"
    },
    {
     "data": {
      "image/png": "[encoded data removed]",
      "text/plain": [
       "<Figure size 432x288 with 1 Axes>"
      ]
     },
     "metadata": {
      "needs_background": "light"
     },
     "output_type": "display_data"
    }
   ],
   "source": [
    "notas.plot.line()"
   ]
  },
  {
   "cell_type": "code",
   "execution_count": 187,
   "metadata": {},
   "outputs": [
    {
     "data": {
      "text/plain": [
       "<matplotlib.axes._subplots.AxesSubplot at 0x1fd14a59308>"
      ]
     },
     "execution_count": 187,
     "metadata": {},
     "output_type": "execute_result"
    },
    {
     "data": {
      "image/png": "[encoded data removed]",
      "text/plain": [
       "<Figure size 432x288 with 1 Axes>"
      ]
     },
     "metadata": {
      "needs_background": "light"
     },
     "output_type": "display_data"
    }
   ],
   "source": [
    "notas.hist(bins=101)"
   ]
  },
  {
   "cell_type": "code",
   "execution_count": 188,
   "metadata": {},
   "outputs": [
    {
     "data": {
      "text/plain": [
       "<matplotlib.axes._subplots.AxesSubplot at 0x1fd14bb7e48>"
      ]
     },
     "execution_count": 188,
     "metadata": {},
     "output_type": "execute_result"
    },
    {
     "data": {
      "image/png": "[encoded data removed]",
      "text/plain": [
       "<Figure size 432x288 with 1 Axes>"
      ]
     },
     "metadata": {
      "needs_background": "light"
     },
     "output_type": "display_data"
    }
   ],
   "source": [
    "notas.hist()"
   ]
  },
  {
   "cell_type": "code",
   "execution_count": null,
   "metadata": {},
   "outputs": [],
   "source": []
  }
 ],
 "metadata": {
  "kernelspec": {
   "display_name": "Python 3",
   "language": "python",
   "name": "python3"
  },
  "language_info": {
   "codemirror_mode": {
    "name": "ipython",
    "version": 3
   },
   "file_extension": ".py",
   "mimetype": "text/x-python",
   "name": "python",
   "nbconvert_exporter": "python",
   "pygments_lexer": "ipython3",
   "version": "3.7.6"
  }
 },
 "nbformat": 4,
 "nbformat_minor": 2
}
