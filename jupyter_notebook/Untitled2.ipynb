{
 "cells": [
  {
   "cell_type": "markdown",
   "metadata": {},
   "source": [
    "# Cálculo do IMC - ìndice de Massa Corporal\n",
    "\n",
    "#### O IMC é calculado através da equação IMC = Peso / (altura)²\n",
    "\n",
    "#### Após o calculo do índice, podemos verificar a situação da pessoa através da tabela abaixo:\n",
    "\n",
    "    IMC          |    Situação\n",
    "Abaixo de 20     | Abaixo do Peso\n",
    "\n",
    "entre 20 a 24,99 | Peso Normal\n",
    "\n",
    "Acima de 25      | Acima do Peso\n"
   ]
  },
  {
   "cell_type": "code",
   "execution_count": 8,
   "metadata": {},
   "outputs": [
    {
     "name": "stdout",
     "output_type": "stream",
     "text": [
      "Digite seu peso:72\n",
      "Digite sua altura:1.76\n",
      "Seu peso está dentro da faixa ideal. Seu IMC = 23.243801652892564\n"
     ]
    }
   ],
   "source": [
    "peso=float(input(\"Digite seu peso:\"))\n",
    "altura=float(input(\"Digite sua altura:\"))\n",
    "imc=peso / (altura ** 2)\n",
    "if imc < 20:\n",
    "    print(\"Seu peso está abaixo do ideal. Seu IMC = {}\".format(imc))\n",
    "else:\n",
    "    if imc >= 20 and imc <= 25:\n",
    "        print(\"Seu peso está dentro da faixa ideal. Seu IMC = {}\".format(imc))\n",
    "    else:\n",
    "        print(\"Seu peso está acima da faixa ideal. Seu IMC = {}\".format(imc))\n"
   ]
  },
  {
   "cell_type": "code",
   "execution_count": null,
   "metadata": {},
   "outputs": [],
   "source": []
  }
 ],
 "metadata": {
  "kernelspec": {
   "display_name": "Python 3",
   "language": "python",
   "name": "python3"
  },
  "language_info": {
   "codemirror_mode": {
    "name": "ipython",
    "version": 3
   },
   "file_extension": ".py",
   "mimetype": "text/x-python",
   "name": "python",
   "nbconvert_exporter": "python",
   "pygments_lexer": "ipython3",
   "version": "3.7.6"
  }
 },
 "nbformat": 4,
 "nbformat_minor": 4
}
