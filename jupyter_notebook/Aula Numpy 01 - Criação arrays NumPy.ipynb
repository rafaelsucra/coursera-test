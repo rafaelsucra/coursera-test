{
 "cells": [
  {
   "cell_type": "markdown",
   "metadata": {},
   "source": [
    "# NumPy - Numerical Python\n",
    "\n",
    "## Criando arrays NumPy"
   ]
  },
  {
   "cell_type": "code",
   "execution_count": 1,
   "metadata": {},
   "outputs": [],
   "source": [
    "# Importando o NumPy\n",
    "import numpy as np"
   ]
  },
  {
   "cell_type": "markdown",
   "metadata": {},
   "source": [
    "### Criando arrays de 1 dimensão"
   ]
  },
  {
   "cell_type": "code",
   "execution_count": 2,
   "metadata": {},
   "outputs": [
    {
     "data": {
      "text/plain": [
       "array([1, 2, 3])"
      ]
     },
     "execution_count": 2,
     "metadata": {},
     "output_type": "execute_result"
    }
   ],
   "source": [
    "a1D = np.array([1, 2, 3])\n",
    "a1D"
   ]
  },
  {
   "cell_type": "code",
   "execution_count": 3,
   "metadata": {},
   "outputs": [
    {
     "data": {
      "text/plain": [
       "numpy.ndarray"
      ]
     },
     "execution_count": 3,
     "metadata": {},
     "output_type": "execute_result"
    }
   ],
   "source": [
    "# O objeto criado é um ndarray: n-dimensional array\n",
    "type(a1D)"
   ]
  },
  {
   "cell_type": "code",
   "execution_count": 4,
   "metadata": {},
   "outputs": [
    {
     "data": {
      "text/plain": [
       "dtype('int32')"
      ]
     },
     "execution_count": 4,
     "metadata": {},
     "output_type": "execute_result"
    }
   ],
   "source": [
    "# Verificando o tipo dos elementos\n",
    "a1D.dtype"
   ]
  },
  {
   "cell_type": "code",
   "execution_count": 5,
   "metadata": {},
   "outputs": [
    {
     "data": {
      "text/plain": [
       "array([1., 2., 3.])"
      ]
     },
     "execution_count": 5,
     "metadata": {},
     "output_type": "execute_result"
    }
   ],
   "source": [
    "b1D = np.array([1, 2, 3], dtype = float)\n",
    "b1D"
   ]
  },
  {
   "cell_type": "code",
   "execution_count": 6,
   "metadata": {},
   "outputs": [
    {
     "data": {
      "text/plain": [
       "dtype('float64')"
      ]
     },
     "execution_count": 6,
     "metadata": {},
     "output_type": "execute_result"
    }
   ],
   "source": [
    "b1D.dtype"
   ]
  },
  {
   "cell_type": "code",
   "execution_count": 7,
   "metadata": {},
   "outputs": [
    {
     "data": {
      "text/plain": [
       "array(['1', '2', '3'], dtype='<U1')"
      ]
     },
     "execution_count": 7,
     "metadata": {},
     "output_type": "execute_result"
    }
   ],
   "source": [
    "c1D = np.array([1, 2, 3], dtype = str)\n",
    "c1D"
   ]
  },
  {
   "cell_type": "code",
   "execution_count": 8,
   "metadata": {},
   "outputs": [
    {
     "data": {
      "text/plain": [
       "array(['1', '3.14', 'NumPy', 'True'], dtype='<U32')"
      ]
     },
     "execution_count": 8,
     "metadata": {},
     "output_type": "execute_result"
    }
   ],
   "source": [
    "# str > float > int > bool\n",
    "d1D = np.array([1, 3.14, \"NumPy\", True])\n",
    "d1D"
   ]
  },
  {
   "cell_type": "code",
   "execution_count": 9,
   "metadata": {},
   "outputs": [
    {
     "data": {
      "text/plain": [
       "array([1.  , 3.14, 0.  , 1.  ])"
      ]
     },
     "execution_count": 9,
     "metadata": {},
     "output_type": "execute_result"
    }
   ],
   "source": [
    "e1D = np.array([1, 3.14, False, True])\n",
    "e1D"
   ]
  },
  {
   "cell_type": "code",
   "execution_count": 10,
   "metadata": {},
   "outputs": [
    {
     "data": {
      "text/plain": [
       "dtype('float64')"
      ]
     },
     "execution_count": 10,
     "metadata": {},
     "output_type": "execute_result"
    }
   ],
   "source": [
    "e1D.dtype"
   ]
  },
  {
   "cell_type": "code",
   "execution_count": 11,
   "metadata": {},
   "outputs": [
    {
     "data": {
      "text/plain": [
       "array([1, 0, 1])"
      ]
     },
     "execution_count": 11,
     "metadata": {},
     "output_type": "execute_result"
    }
   ],
   "source": [
    "f1D = np.array([1, False, True])\n",
    "f1D"
   ]
  },
  {
   "cell_type": "code",
   "execution_count": 12,
   "metadata": {},
   "outputs": [
    {
     "data": {
      "text/plain": [
       "dtype('int32')"
      ]
     },
     "execution_count": 12,
     "metadata": {},
     "output_type": "execute_result"
    }
   ],
   "source": [
    "f1D.dtype"
   ]
  },
  {
   "cell_type": "code",
   "execution_count": 13,
   "metadata": {},
   "outputs": [
    {
     "data": {
      "text/plain": [
       "array([False,  True])"
      ]
     },
     "execution_count": 13,
     "metadata": {},
     "output_type": "execute_result"
    }
   ],
   "source": [
    "g1D = np.array([False, True])\n",
    "g1D"
   ]
  },
  {
   "cell_type": "code",
   "execution_count": 14,
   "metadata": {},
   "outputs": [
    {
     "data": {
      "text/plain": [
       "dtype('bool')"
      ]
     },
     "execution_count": 14,
     "metadata": {},
     "output_type": "execute_result"
    }
   ],
   "source": [
    "g1D.dtype"
   ]
  },
  {
   "cell_type": "markdown",
   "metadata": {},
   "source": [
    "### Criando arrays de 2 dimensões"
   ]
  },
  {
   "cell_type": "code",
   "execution_count": 15,
   "metadata": {},
   "outputs": [
    {
     "data": {
      "text/plain": [
       "array([[1, 2, 3],\n",
       "       [4, 5, 6],\n",
       "       [7, 8, 9]])"
      ]
     },
     "execution_count": 15,
     "metadata": {},
     "output_type": "execute_result"
    }
   ],
   "source": [
    "a2D = np.array([ [1, 2, 3], [4, 5, 6], [7, 8, 9]])\n",
    "a2D"
   ]
  },
  {
   "cell_type": "code",
   "execution_count": 16,
   "metadata": {},
   "outputs": [
    {
     "data": {
      "text/plain": [
       "dtype('int32')"
      ]
     },
     "execution_count": 16,
     "metadata": {},
     "output_type": "execute_result"
    }
   ],
   "source": [
    "a2D.dtype"
   ]
  },
  {
   "cell_type": "markdown",
   "metadata": {},
   "source": [
    "### Criando arrays de 3 dimensões"
   ]
  },
  {
   "cell_type": "code",
   "execution_count": 17,
   "metadata": {},
   "outputs": [
    {
     "data": {
      "text/plain": [
       "array([[[ 1,  2,  3],\n",
       "        [ 4,  5,  6],\n",
       "        [ 7,  8,  9]],\n",
       "\n",
       "       [[11, 12, 13],\n",
       "        [14, 15, 16],\n",
       "        [17, 18, 19]],\n",
       "\n",
       "       [[21, 22, 23],\n",
       "        [24, 25, 26],\n",
       "        [27, 28, 29]]])"
      ]
     },
     "execution_count": 17,
     "metadata": {},
     "output_type": "execute_result"
    }
   ],
   "source": [
    "a3D = np.array( [ [ [1,2,3], [4,5,6], [7,8,9] ], [ [11,12,13], [14,15,16], [17,18,19] ], [ [21,22,23], [24,25,26], [27,28,29] ]])\n",
    "a3D"
   ]
  },
  {
   "cell_type": "markdown",
   "metadata": {},
   "source": [
    "## Outras formas de criar arrays\n",
    "\n",
    "### Arrays preenchidos com zeros - zeros()"
   ]
  },
  {
   "cell_type": "code",
   "execution_count": 18,
   "metadata": {},
   "outputs": [
    {
     "data": {
      "text/plain": [
       "array([0., 0., 0., 0., 0.])"
      ]
     },
     "execution_count": 18,
     "metadata": {},
     "output_type": "execute_result"
    }
   ],
   "source": [
    "# 1 dimensão\n",
    "azeros = np.zeros(5)\n",
    "azeros"
   ]
  },
  {
   "cell_type": "code",
   "execution_count": 19,
   "metadata": {},
   "outputs": [
    {
     "data": {
      "text/plain": [
       "array([[0., 0., 0., 0.],\n",
       "       [0., 0., 0., 0.],\n",
       "       [0., 0., 0., 0.]])"
      ]
     },
     "execution_count": 19,
     "metadata": {},
     "output_type": "execute_result"
    }
   ],
   "source": [
    "# 2 dimensões\n",
    "bzeros = np.zeros((3, 4)) # 3 linhas e 4 colunas\n",
    "bzeros"
   ]
  },
  {
   "cell_type": "code",
   "execution_count": 20,
   "metadata": {},
   "outputs": [
    {
     "data": {
      "text/plain": [
       "array([[[0., 0.],\n",
       "        [0., 0.],\n",
       "        [0., 0.],\n",
       "        [0., 0.]],\n",
       "\n",
       "       [[0., 0.],\n",
       "        [0., 0.],\n",
       "        [0., 0.],\n",
       "        [0., 0.]],\n",
       "\n",
       "       [[0., 0.],\n",
       "        [0., 0.],\n",
       "        [0., 0.],\n",
       "        [0., 0.]]])"
      ]
     },
     "execution_count": 20,
     "metadata": {},
     "output_type": "execute_result"
    }
   ],
   "source": [
    "# 3 dimensões\n",
    "czeros = np.zeros((3, 4, 2)) # 3 páginas, 4 linhas e 2 colunas\n",
    "czeros"
   ]
  },
  {
   "cell_type": "code",
   "execution_count": 21,
   "metadata": {},
   "outputs": [
    {
     "data": {
      "text/plain": [
       "array([[0, 0, 0, 0],\n",
       "       [0, 0, 0, 0],\n",
       "       [0, 0, 0, 0]])"
      ]
     },
     "execution_count": 21,
     "metadata": {},
     "output_type": "execute_result"
    }
   ],
   "source": [
    "# 2 dimensões\n",
    "dzeros = np.zeros((3, 4), dtype = int) # 3 linhas e 4 colunas\n",
    "dzeros"
   ]
  },
  {
   "cell_type": "markdown",
   "metadata": {},
   "source": [
    "### Arrays preenchidos com 1's - ones()"
   ]
  },
  {
   "cell_type": "code",
   "execution_count": 22,
   "metadata": {},
   "outputs": [
    {
     "data": {
      "text/plain": [
       "array([1., 1., 1., 1., 1.])"
      ]
     },
     "execution_count": 22,
     "metadata": {},
     "output_type": "execute_result"
    }
   ],
   "source": [
    "# 1 dimensão\n",
    "a_um_1D = np.ones(5)\n",
    "a_um_1D"
   ]
  },
  {
   "cell_type": "code",
   "execution_count": 23,
   "metadata": {},
   "outputs": [
    {
     "data": {
      "text/plain": [
       "array(['1', '1', '1', '1', '1', '1', '1', '1', '1', '1'], dtype='<U1')"
      ]
     },
     "execution_count": 23,
     "metadata": {},
     "output_type": "execute_result"
    }
   ],
   "source": [
    "b_um_1D = np.ones(10, dtype = str)\n",
    "b_um_1D"
   ]
  },
  {
   "cell_type": "code",
   "execution_count": 24,
   "metadata": {},
   "outputs": [
    {
     "data": {
      "text/plain": [
       "array([1, 1, 1, 1, 1])"
      ]
     },
     "execution_count": 24,
     "metadata": {},
     "output_type": "execute_result"
    }
   ],
   "source": [
    "c_um_1D = np.ones(5, dtype = int)\n",
    "c_um_1D"
   ]
  },
  {
   "cell_type": "code",
   "execution_count": 25,
   "metadata": {},
   "outputs": [
    {
     "data": {
      "text/plain": [
       "array([[1., 1., 1.],\n",
       "       [1., 1., 1.],\n",
       "       [1., 1., 1.],\n",
       "       [1., 1., 1.]])"
      ]
     },
     "execution_count": 25,
     "metadata": {},
     "output_type": "execute_result"
    }
   ],
   "source": [
    "# 2 dimensões\n",
    "d_um_2D = np.ones((4, 3)) # 4 linhas e 3 colunas\n",
    "d_um_2D"
   ]
  },
  {
   "cell_type": "code",
   "execution_count": 26,
   "metadata": {},
   "outputs": [
    {
     "data": {
      "text/plain": [
       "array([[[1., 1., 1.],\n",
       "        [1., 1., 1.]],\n",
       "\n",
       "       [[1., 1., 1.],\n",
       "        [1., 1., 1.]],\n",
       "\n",
       "       [[1., 1., 1.],\n",
       "        [1., 1., 1.]],\n",
       "\n",
       "       [[1., 1., 1.],\n",
       "        [1., 1., 1.]],\n",
       "\n",
       "       [[1., 1., 1.],\n",
       "        [1., 1., 1.]]])"
      ]
     },
     "execution_count": 26,
     "metadata": {},
     "output_type": "execute_result"
    }
   ],
   "source": [
    "# 3 dimensões\n",
    "e_um_3D = np.ones((5, 2, 3)) \n",
    "e_um_3D"
   ]
  },
  {
   "cell_type": "code",
   "execution_count": 27,
   "metadata": {},
   "outputs": [
    {
     "data": {
      "text/plain": [
       "array([[[[1., 1., 1.],\n",
       "         [1., 1., 1.]],\n",
       "\n",
       "        [[1., 1., 1.],\n",
       "         [1., 1., 1.]],\n",
       "\n",
       "        [[1., 1., 1.],\n",
       "         [1., 1., 1.]],\n",
       "\n",
       "        [[1., 1., 1.],\n",
       "         [1., 1., 1.]]],\n",
       "\n",
       "\n",
       "       [[[1., 1., 1.],\n",
       "         [1., 1., 1.]],\n",
       "\n",
       "        [[1., 1., 1.],\n",
       "         [1., 1., 1.]],\n",
       "\n",
       "        [[1., 1., 1.],\n",
       "         [1., 1., 1.]],\n",
       "\n",
       "        [[1., 1., 1.],\n",
       "         [1., 1., 1.]]],\n",
       "\n",
       "\n",
       "       [[[1., 1., 1.],\n",
       "         [1., 1., 1.]],\n",
       "\n",
       "        [[1., 1., 1.],\n",
       "         [1., 1., 1.]],\n",
       "\n",
       "        [[1., 1., 1.],\n",
       "         [1., 1., 1.]],\n",
       "\n",
       "        [[1., 1., 1.],\n",
       "         [1., 1., 1.]]]])"
      ]
     },
     "execution_count": 27,
     "metadata": {},
     "output_type": "execute_result"
    }
   ],
   "source": [
    "# 4 dimensões\n",
    "f_um_4D = np.ones((3, 4, 2, 3)) \n",
    "f_um_4D"
   ]
  },
  {
   "cell_type": "markdown",
   "metadata": {},
   "source": [
    "### Arrays preenchidos com faixas de valores - arange()"
   ]
  },
  {
   "cell_type": "code",
   "execution_count": 28,
   "metadata": {},
   "outputs": [
    {
     "data": {
      "text/plain": [
       "array([0, 1, 2, 3, 4, 5, 6, 7, 8, 9])"
      ]
     },
     "execution_count": 28,
     "metadata": {},
     "output_type": "execute_result"
    }
   ],
   "source": [
    "# Cria um ndarray preenchido com  os elementos de 0 a n-1\n",
    "# No exemplo abaixo vai criar um ndarray com os elementos 0 a 9\n",
    "a1D = np.arange(10)\n",
    "a1D"
   ]
  },
  {
   "cell_type": "code",
   "execution_count": 29,
   "metadata": {},
   "outputs": [
    {
     "data": {
      "text/plain": [
       "array([ 5,  6,  7,  8,  9, 10, 11, 12, 13, 14])"
      ]
     },
     "execution_count": 29,
     "metadata": {},
     "output_type": "execute_result"
    }
   ],
   "source": [
    "# Cria um ndarray preenchido com os elementos variando entre o valor inicial e o valor final - 1\n",
    "# Nesse exemplo vai criar um array com os elementos de 5 a 14\n",
    "b1D = np.arange(5, 15)\n",
    "b1D"
   ]
  },
  {
   "cell_type": "code",
   "execution_count": 30,
   "metadata": {},
   "outputs": [
    {
     "data": {
      "text/plain": [
       "array([ 5, 15, 25, 35, 45, 55, 65, 75, 85, 95])"
      ]
     },
     "execution_count": 30,
     "metadata": {},
     "output_type": "execute_result"
    }
   ],
   "source": [
    "# Cria um ndarray preenchido com os elementos variando entre o valor inicial e o valor final - 1, com um determinado step\n",
    "# No exemplo vai criar um array com os elementos de 5 a 100, com passo 10. Ou seja: 5, 15, 25...95\n",
    "c1D = np.arange(5,100, 10)\n",
    "c1D"
   ]
  },
  {
   "cell_type": "markdown",
   "metadata": {},
   "source": [
    "### Criando arrays preenchidos com valores igualmente espaçados - linspace()"
   ]
  },
  {
   "cell_type": "code",
   "execution_count": 31,
   "metadata": {},
   "outputs": [
    {
     "data": {
      "text/plain": [
       "array([ 0., 10.])"
      ]
     },
     "execution_count": 31,
     "metadata": {},
     "output_type": "execute_result"
    }
   ],
   "source": [
    "# Cria um array com n elementos entre o valor inicial e valor final, igualmente espaçados\n",
    "d1D = np.linspace(0,10, 2) # Cria um array com 2 valores entre 0 e 10\n",
    "d1D"
   ]
  },
  {
   "cell_type": "code",
   "execution_count": 32,
   "metadata": {},
   "outputs": [
    {
     "data": {
      "text/plain": [
       "array([ 0.        ,  3.33333333,  6.66666667, 10.        ])"
      ]
     },
     "execution_count": 32,
     "metadata": {},
     "output_type": "execute_result"
    }
   ],
   "source": [
    "e1D = np.linspace(0,10, 4) # Cria um array com 2 valores entre 0 e 10\n",
    "e1D"
   ]
  },
  {
   "cell_type": "code",
   "execution_count": 33,
   "metadata": {},
   "outputs": [
    {
     "data": {
      "text/plain": [
       "array([   1.        ,   21.3877551 ,   41.7755102 ,   62.16326531,\n",
       "         82.55102041,  102.93877551,  123.32653061,  143.71428571,\n",
       "        164.10204082,  184.48979592,  204.87755102,  225.26530612,\n",
       "        245.65306122,  266.04081633,  286.42857143,  306.81632653,\n",
       "        327.20408163,  347.59183673,  367.97959184,  388.36734694,\n",
       "        408.75510204,  429.14285714,  449.53061224,  469.91836735,\n",
       "        490.30612245,  510.69387755,  531.08163265,  551.46938776,\n",
       "        571.85714286,  592.24489796,  612.63265306,  633.02040816,\n",
       "        653.40816327,  673.79591837,  694.18367347,  714.57142857,\n",
       "        734.95918367,  755.34693878,  775.73469388,  796.12244898,\n",
       "        816.51020408,  836.89795918,  857.28571429,  877.67346939,\n",
       "        898.06122449,  918.44897959,  938.83673469,  959.2244898 ,\n",
       "        979.6122449 , 1000.        ])"
      ]
     },
     "execution_count": 33,
     "metadata": {},
     "output_type": "execute_result"
    }
   ],
   "source": [
    "f1D = np.linspace(1,1000) # Se não for passada a quantidade de elementos, o padrão é gerar 50 elementos\n",
    "f1D"
   ]
  },
  {
   "cell_type": "code",
   "execution_count": 34,
   "metadata": {},
   "outputs": [
    {
     "data": {
      "text/plain": [
       "array([   1,   21,   41,   62,   82,  102,  123,  143,  164,  184,  204,\n",
       "        225,  245,  266,  286,  306,  327,  347,  367,  388,  408,  429,\n",
       "        449,  469,  490,  510,  531,  551,  571,  592,  612,  633,  653,\n",
       "        673,  694,  714,  734,  755,  775,  796,  816,  836,  857,  877,\n",
       "        898,  918,  938,  959,  979, 1000])"
      ]
     },
     "execution_count": 34,
     "metadata": {},
     "output_type": "execute_result"
    }
   ],
   "source": [
    "g1D = np.linspace(1,1000, dtype = int) # gerando int, a função simplesmente corta as casas decimais\n",
    "g1D"
   ]
  },
  {
   "cell_type": "code",
   "execution_count": 35,
   "metadata": {},
   "outputs": [
    {
     "data": {
      "text/plain": [
       "array([ 0.        ,  5.55555556, 11.11111111, 16.66666667, 22.22222222,\n",
       "       27.77777778, 33.33333333, 38.88888889, 44.44444444, 50.        ])"
      ]
     },
     "execution_count": 35,
     "metadata": {},
     "output_type": "execute_result"
    }
   ],
   "source": [
    "h1D = np.linspace(0,50, 10, endpoint = True) # O valor final é incluído\n",
    "h1D\n"
   ]
  },
  {
   "cell_type": "code",
   "execution_count": 36,
   "metadata": {},
   "outputs": [
    {
     "data": {
      "text/plain": [
       "array([ 0.,  5., 10., 15., 20., 25., 30., 35., 40., 45.])"
      ]
     },
     "execution_count": 36,
     "metadata": {},
     "output_type": "execute_result"
    }
   ],
   "source": [
    "i1D = np.linspace(0,50, 10, endpoint = False) # O valor final não é incluído\n",
    "i1D"
   ]
  },
  {
   "cell_type": "markdown",
   "metadata": {},
   "source": [
    "### Criando arrays preenchidos com um único valor passado por parâmetro - full()"
   ]
  },
  {
   "cell_type": "code",
   "execution_count": 37,
   "metadata": {},
   "outputs": [
    {
     "data": {
      "text/plain": [
       "array([5, 5, 5, 5, 5, 5, 5, 5, 5, 5])"
      ]
     },
     "execution_count": 37,
     "metadata": {},
     "output_type": "execute_result"
    }
   ],
   "source": [
    "a1D = np.full(10, 5) # ndarray contendo 10 números 5\n",
    "a1D"
   ]
  },
  {
   "cell_type": "code",
   "execution_count": 38,
   "metadata": {},
   "outputs": [
    {
     "data": {
      "text/plain": [
       "array([[3, 3, 3, 3, 3],\n",
       "       [3, 3, 3, 3, 3],\n",
       "       [3, 3, 3, 3, 3]])"
      ]
     },
     "execution_count": 38,
     "metadata": {},
     "output_type": "execute_result"
    }
   ],
   "source": [
    "a2D = np.full((3, 5), 3)  # ndarray de 3 linhas e 5 colunas contendo o número 3\n",
    "a2D"
   ]
  },
  {
   "cell_type": "code",
   "execution_count": 39,
   "metadata": {},
   "outputs": [
    {
     "data": {
      "text/plain": [
       "array([[[-1, -1, -1, -1, -1, -1, -1, -1],\n",
       "        [-1, -1, -1, -1, -1, -1, -1, -1],\n",
       "        [-1, -1, -1, -1, -1, -1, -1, -1],\n",
       "        [-1, -1, -1, -1, -1, -1, -1, -1],\n",
       "        [-1, -1, -1, -1, -1, -1, -1, -1]],\n",
       "\n",
       "       [[-1, -1, -1, -1, -1, -1, -1, -1],\n",
       "        [-1, -1, -1, -1, -1, -1, -1, -1],\n",
       "        [-1, -1, -1, -1, -1, -1, -1, -1],\n",
       "        [-1, -1, -1, -1, -1, -1, -1, -1],\n",
       "        [-1, -1, -1, -1, -1, -1, -1, -1]],\n",
       "\n",
       "       [[-1, -1, -1, -1, -1, -1, -1, -1],\n",
       "        [-1, -1, -1, -1, -1, -1, -1, -1],\n",
       "        [-1, -1, -1, -1, -1, -1, -1, -1],\n",
       "        [-1, -1, -1, -1, -1, -1, -1, -1],\n",
       "        [-1, -1, -1, -1, -1, -1, -1, -1]]])"
      ]
     },
     "execution_count": 39,
     "metadata": {},
     "output_type": "execute_result"
    }
   ],
   "source": [
    "a3D = np.full((3, 5, 8), -1)  # ndarray de 3 páginas, 5 linhas e 8 colunas contendo o número -1\n",
    "a3D"
   ]
  },
  {
   "cell_type": "markdown",
   "metadata": {},
   "source": [
    "### Criando matriz identidade - eye()"
   ]
  },
  {
   "cell_type": "code",
   "execution_count": 40,
   "metadata": {},
   "outputs": [
    {
     "data": {
      "text/plain": [
       "array([[1., 0., 0., 0., 0.],\n",
       "       [0., 1., 0., 0., 0.],\n",
       "       [0., 0., 1., 0., 0.],\n",
       "       [0., 0., 0., 1., 0.],\n",
       "       [0., 0., 0., 0., 1.]])"
      ]
     },
     "execution_count": 40,
     "metadata": {},
     "output_type": "execute_result"
    }
   ],
   "source": [
    "ident = np.eye(5) # Cria uma matriz 5x5 preenchida com 1s na diagonal principal e 0 nas posições restantes\n",
    "ident"
   ]
  },
  {
   "cell_type": "markdown",
   "metadata": {},
   "source": [
    "### Criando matriz com elementos aleatórios"
   ]
  },
  {
   "cell_type": "code",
   "execution_count": 41,
   "metadata": {},
   "outputs": [
    {
     "data": {
      "text/plain": [
       "array([25, 50,  6, 37, 69, 39, 98,  5, 86, 37])"
      ]
     },
     "execution_count": 41,
     "metadata": {},
     "output_type": "execute_result"
    }
   ],
   "source": [
    "a1D = np.random.randint(0, 100, 10) # Cria um ndarray com 10 elementos entre 0 e 99\n",
    "a1D"
   ]
  },
  {
   "cell_type": "code",
   "execution_count": 42,
   "metadata": {},
   "outputs": [
    {
     "data": {
      "text/plain": [
       "array([[245, 253, 436, 448,  26],\n",
       "       [ 68,  65, 362, 370, 207],\n",
       "       [154,  20, 332,  20, 411],\n",
       "       [309,  41, 205,  39, 172]])"
      ]
     },
     "execution_count": 42,
     "metadata": {},
     "output_type": "execute_result"
    }
   ],
   "source": [
    "a2D = np.random.randint(1, 500, (4,5))\n",
    "a2D"
   ]
  },
  {
   "cell_type": "code",
   "execution_count": 43,
   "metadata": {},
   "outputs": [
    {
     "data": {
      "text/plain": [
       "array([[[11, 60, 45, 20, 29,  4]],\n",
       "\n",
       "       [[37, 28, 55, 40, 41, 14]],\n",
       "\n",
       "       [[12, 16, 40, 27, 23,  9]],\n",
       "\n",
       "       [[44, 35,  7, 22, 41, 40]],\n",
       "\n",
       "       [[ 2, 55, 16, 24, 49, 50]],\n",
       "\n",
       "       [[25, 46, 12, 28, 56, 37]],\n",
       "\n",
       "       [[13, 18, 60, 11, 29, 29]],\n",
       "\n",
       "       [[25, 30, 16, 51, 42, 51]],\n",
       "\n",
       "       [[35, 31,  6, 47,  5,  1]],\n",
       "\n",
       "       [[47, 59, 20, 43, 25, 54]]])"
      ]
     },
     "execution_count": 43,
     "metadata": {},
     "output_type": "execute_result"
    }
   ],
   "source": [
    "# Gerando 10 combinações para a mega-sena\n",
    "# Valores vão de 1 a 60, 10 páginas, 1 linha, 6 colunas\n",
    "a3D = np.random.randint(1,61,(10,1,6)) \n",
    "a3D"
   ]
  },
  {
   "cell_type": "code",
   "execution_count": 44,
   "metadata": {},
   "outputs": [
    {
     "data": {
      "text/plain": [
       "array([0.10601742, 0.76290002, 0.87415497, 0.91718868, 0.81604084,\n",
       "       0.32211285, 0.36691095, 0.33558652, 0.29046737, 0.0430175 ])"
      ]
     },
     "execution_count": 44,
     "metadata": {},
     "output_type": "execute_result"
    }
   ],
   "source": [
    "b1D = np.random.random(10) # Cria um ndarray contendo 10 elementos aleatórios entre 0 e 1\n",
    "b1D"
   ]
  },
  {
   "cell_type": "code",
   "execution_count": 45,
   "metadata": {},
   "outputs": [
    {
     "data": {
      "text/plain": [
       "array([[0.28840072, 0.7561096 , 0.6544887 , 0.68707892, 0.81871002],\n",
       "       [0.51919782, 0.28818825, 0.06808643, 0.6546518 , 0.0393599 ],\n",
       "       [0.95063889, 0.44290434, 0.04294956, 0.30656649, 0.30964435],\n",
       "       [0.70203585, 0.98034002, 0.06012667, 0.53726858, 0.33434938]])"
      ]
     },
     "execution_count": 45,
     "metadata": {},
     "output_type": "execute_result"
    }
   ],
   "source": [
    "c2D = np.random.random((4,5)) # Cria um ndarray de 4 linhas e 5 colunas contendo elementos aleatórios entre 0 e 1\n",
    "c2D"
   ]
  },
  {
   "cell_type": "code",
   "execution_count": 46,
   "metadata": {},
   "outputs": [
    {
     "data": {
      "text/plain": [
       "array([[[0.25724794, 0.1867962 , 0.89908874, 0.13932945, 0.88146158],\n",
       "        [0.96904596, 0.69596655, 0.88731777, 0.8883691 , 0.51075831],\n",
       "        [0.69706091, 0.34867647, 0.59972435, 0.23682586, 0.8283359 ],\n",
       "        [0.8396    , 0.31022068, 0.55113368, 0.7817918 , 0.64604044]],\n",
       "\n",
       "       [[0.50183938, 0.03493104, 0.3417266 , 0.52678825, 0.16165973],\n",
       "        [0.29360476, 0.14551638, 0.60890277, 0.2712193 , 0.07847468],\n",
       "        [0.14632359, 0.26925634, 0.22445702, 0.64675367, 0.37005772],\n",
       "        [0.98355514, 0.08643432, 0.23526756, 0.22691712, 0.57062385]],\n",
       "\n",
       "       [[0.09849727, 0.56212124, 0.4662099 , 0.80650932, 0.16542994],\n",
       "        [0.1025294 , 0.79234388, 0.07627045, 0.5416337 , 0.57120439],\n",
       "        [0.78014831, 0.93082859, 0.07627222, 0.19060897, 0.50997397],\n",
       "        [0.10649857, 0.16278366, 0.95251298, 0.86952827, 0.00263488]]])"
      ]
     },
     "execution_count": 46,
     "metadata": {},
     "output_type": "execute_result"
    }
   ],
   "source": [
    "d2D = np.random.random((3,4,5)) # Cria um ndarray de 4 linhas e 5 colunas contendo elementos aleatórios entre 0 e 1\n",
    "d2D"
   ]
  },
  {
   "cell_type": "code",
   "execution_count": 47,
   "metadata": {},
   "outputs": [
    {
     "data": {
      "text/plain": [
       "array([[[[4.66760002e-01, 7.39729411e-01, 2.35880952e-01,\n",
       "          2.66969995e-01, 2.27480931e-01],\n",
       "         [9.39690817e-01, 5.26530127e-02, 2.73655226e-01,\n",
       "          9.54155577e-01, 9.48005935e-01],\n",
       "         [8.57683430e-01, 9.99338545e-01, 7.66360304e-01,\n",
       "          3.69308093e-01, 2.62287257e-02],\n",
       "         [5.52613559e-01, 7.19133303e-01, 5.54575567e-01,\n",
       "          4.98600364e-01, 7.04651457e-01]],\n",
       "\n",
       "        [[9.53237471e-01, 6.47862996e-01, 1.22465757e-01,\n",
       "          3.97015818e-01, 3.65543728e-01],\n",
       "         [4.51014135e-01, 1.27831763e-01, 8.02888557e-01,\n",
       "          2.33786555e-01, 6.36205374e-01],\n",
       "         [6.07698261e-01, 8.76038008e-01, 6.68017703e-01,\n",
       "          8.81445575e-01, 8.85352260e-01],\n",
       "         [1.34074897e-01, 2.54154897e-01, 3.92829461e-02,\n",
       "          4.23380600e-01, 9.44184718e-01]],\n",
       "\n",
       "        [[9.05515515e-01, 8.32576506e-01, 1.54615445e-01,\n",
       "          7.59631930e-02, 5.18319207e-01],\n",
       "         [4.66372964e-01, 4.17506108e-01, 7.27213313e-04,\n",
       "          4.37780642e-01, 6.52480564e-01],\n",
       "         [8.84583431e-01, 6.78686255e-01, 7.25935383e-01,\n",
       "          5.98940680e-01, 3.02631790e-01],\n",
       "         [1.80712596e-01, 6.84250660e-01, 7.39778411e-01,\n",
       "          5.65992762e-02, 7.55277509e-01]]],\n",
       "\n",
       "\n",
       "       [[[2.52987345e-01, 7.50932300e-01, 1.43004641e-01,\n",
       "          6.16698302e-01, 7.13690605e-01],\n",
       "         [3.31892664e-01, 2.93854878e-01, 8.80249177e-01,\n",
       "          3.91274739e-01, 2.12211910e-01],\n",
       "         [3.89582263e-01, 6.41846076e-01, 9.03784335e-01,\n",
       "          5.71819094e-01, 7.32215496e-01],\n",
       "         [1.30299174e-01, 5.71896373e-02, 8.44532360e-01,\n",
       "          2.45771190e-01, 4.79701544e-01]],\n",
       "\n",
       "        [[8.31522154e-01, 7.86350668e-01, 5.41467875e-01,\n",
       "          6.67025333e-01, 5.71137216e-01],\n",
       "         [9.81260240e-01, 9.32431326e-02, 4.71552252e-01,\n",
       "          5.72099188e-01, 8.15776806e-01],\n",
       "         [1.47031423e-01, 4.08062554e-01, 2.28681346e-01,\n",
       "          5.04800638e-01, 6.43040956e-01],\n",
       "         [2.62146787e-01, 6.43066543e-01, 9.00512709e-01,\n",
       "          8.02321472e-02, 7.71715903e-01]],\n",
       "\n",
       "        [[4.13911128e-01, 5.62971860e-01, 9.26317510e-02,\n",
       "          9.59610212e-01, 5.62843711e-01],\n",
       "         [6.01395803e-01, 5.30730689e-01, 3.25110504e-01,\n",
       "          9.69655841e-01, 8.01808431e-01],\n",
       "         [3.33906043e-02, 6.42287226e-01, 8.97918762e-01,\n",
       "          6.83550772e-01, 7.22516868e-01],\n",
       "         [2.60567703e-01, 3.20748584e-01, 1.74720686e-01,\n",
       "          7.69736443e-01, 4.30152991e-01]]],\n",
       "\n",
       "\n",
       "       [[[9.52680274e-01, 8.44880523e-02, 8.53049504e-01,\n",
       "          6.84698864e-01, 2.78493523e-01],\n",
       "         [5.77087460e-01, 5.80166852e-01, 5.43989661e-02,\n",
       "          2.40640779e-01, 9.91277700e-01],\n",
       "         [8.29988200e-01, 5.17065959e-01, 3.92223845e-01,\n",
       "          3.09376928e-01, 9.65523764e-01],\n",
       "         [8.78327505e-01, 7.06773511e-01, 1.65813188e-01,\n",
       "          8.36464397e-01, 2.88940504e-01]],\n",
       "\n",
       "        [[9.92603822e-01, 6.13654916e-01, 9.03172540e-01,\n",
       "          5.84495341e-02, 2.32645473e-01],\n",
       "         [6.16430591e-01, 5.30610940e-01, 2.50873669e-01,\n",
       "          7.79097984e-01, 1.32869366e-01],\n",
       "         [7.65115721e-01, 9.59908124e-01, 6.73807662e-01,\n",
       "          6.29629379e-01, 8.70236749e-01],\n",
       "         [6.34890179e-01, 3.94760092e-01, 4.74574555e-01,\n",
       "          1.18776434e-01, 9.68027627e-01]],\n",
       "\n",
       "        [[9.15438031e-01, 1.57988794e-01, 1.65657863e-02,\n",
       "          2.92320767e-01, 6.60556457e-01],\n",
       "         [8.39903098e-01, 6.82710044e-01, 9.33284230e-01,\n",
       "          1.81746960e-01, 4.32143581e-01],\n",
       "         [1.30066134e-02, 6.68759529e-01, 8.08167428e-01,\n",
       "          6.19415495e-01, 6.07637546e-01],\n",
       "         [8.30995478e-02, 4.05244465e-01, 6.61987194e-01,\n",
       "          7.98375437e-01, 9.13999492e-01]]],\n",
       "\n",
       "\n",
       "       [[[2.85561175e-01, 9.64134546e-01, 5.49570308e-01,\n",
       "          1.82816345e-01, 2.07314880e-01],\n",
       "         [4.10135439e-01, 3.63535637e-01, 7.18937104e-01,\n",
       "          1.99898006e-01, 9.13379744e-01],\n",
       "         [2.89481866e-01, 4.95660543e-02, 5.59404948e-01,\n",
       "          2.76336089e-01, 8.11483968e-01],\n",
       "         [2.34529907e-01, 2.58475155e-01, 6.55212858e-01,\n",
       "          6.76924590e-01, 2.83012482e-01]],\n",
       "\n",
       "        [[4.46422552e-01, 6.83445275e-02, 4.95284008e-01,\n",
       "          1.17875937e-03, 7.15027149e-01],\n",
       "         [1.03131734e-01, 2.19773744e-01, 7.84402209e-01,\n",
       "          8.01474188e-01, 6.35426871e-01],\n",
       "         [7.49028668e-01, 5.75951021e-01, 7.15886107e-01,\n",
       "          8.64039499e-01, 6.10255464e-01],\n",
       "         [5.02668604e-01, 6.14279544e-01, 8.12723428e-01,\n",
       "          6.11629596e-01, 2.98531856e-01]],\n",
       "\n",
       "        [[9.07894106e-01, 2.58549793e-01, 4.97344553e-01,\n",
       "          3.09155366e-01, 2.75847563e-01],\n",
       "         [3.70218092e-01, 6.88671896e-01, 2.41678687e-01,\n",
       "          1.08725410e-01, 1.66572207e-01],\n",
       "         [7.71596404e-01, 5.52931142e-01, 6.93898263e-02,\n",
       "          9.12600418e-01, 2.80189986e-01],\n",
       "         [6.25446182e-04, 5.59331427e-01, 7.96134098e-01,\n",
       "          4.36935549e-01, 4.73796404e-01]]]])"
      ]
     },
     "execution_count": 47,
     "metadata": {},
     "output_type": "execute_result"
    }
   ],
   "source": [
    "e2D = np.random.random((4,3,4,5)) # Cria um ndarray de 4 linhas e 5 colunas contendo elementos aleatórios entre 0 e 1\n",
    "e2D"
   ]
  },
  {
   "cell_type": "code",
   "execution_count": 52,
   "metadata": {},
   "outputs": [
    {
     "data": {
      "text/plain": [
       "array([[[[0.26925439, 0.51861147, 0.98076397, 0.05340788, 0.88275155],\n",
       "         [0.85325317, 0.33325534, 0.29718249, 0.80065736, 0.8632461 ],\n",
       "         [0.11856997, 0.1117639 , 0.54976172, 0.64964097, 0.65419483],\n",
       "         [0.62502252, 0.6081905 , 0.32785424, 0.9759163 , 0.20043273]],\n",
       "\n",
       "        [[0.79882427, 0.13100399, 0.25590004, 0.96036109, 0.18460989],\n",
       "         [0.23565065, 0.2689267 , 0.97015697, 0.23324135, 0.89490053],\n",
       "         [0.25605283, 0.91318704, 0.06426801, 0.13738615, 0.6557438 ],\n",
       "         [0.37397303, 0.04038642, 0.50017962, 0.73527647, 0.46616124]],\n",
       "\n",
       "        [[0.79748691, 0.71646465, 0.00973794, 0.06113456, 0.31800641],\n",
       "         [0.70386506, 0.93938696, 0.85248115, 0.77787983, 0.64381514],\n",
       "         [0.3396497 , 0.56996395, 0.32699219, 0.06103473, 0.68654134],\n",
       "         [0.74170328, 0.05140219, 0.03262049, 0.08083382, 0.51468973]]],\n",
       "\n",
       "\n",
       "       [[[0.128894  , 0.28488631, 0.72801606, 0.8748346 , 0.65847589],\n",
       "         [0.6289584 , 0.20222078, 0.50208384, 0.87185794, 0.76531136],\n",
       "         [0.68477442, 0.68459636, 0.54207386, 0.22660492, 0.08289749],\n",
       "         [0.8927656 , 0.73870055, 0.73428836, 0.36962306, 0.51360497]],\n",
       "\n",
       "        [[0.81886887, 0.50020812, 0.31445708, 0.29435604, 0.86084169],\n",
       "         [0.80641506, 0.88837733, 0.51119598, 0.68152597, 0.28628041],\n",
       "         [0.04143677, 0.42873339, 0.90563419, 0.73360041, 0.41604637],\n",
       "         [0.43196898, 0.35614597, 0.20726756, 0.01476948, 0.50071098]],\n",
       "\n",
       "        [[0.75714013, 0.88331283, 0.53816725, 0.79845551, 0.4674828 ],\n",
       "         [0.95993262, 0.16479317, 0.53185913, 0.21455208, 0.19784454],\n",
       "         [0.24678358, 0.50188302, 0.85651976, 0.12690091, 0.74029911],\n",
       "         [0.05620547, 0.56691065, 0.11085399, 0.8967757 , 0.49819903]]]])"
      ]
     },
     "execution_count": 52,
     "metadata": {},
     "output_type": "execute_result"
    }
   ],
   "source": [
    "f2D = np.random.random((2,3,4,5)) # Cria um ndarray de 4 linhas e 5 colunas contendo elementos aleatórios entre 0 e 1\n",
    "f2D"
   ]
  },
  {
   "cell_type": "code",
   "execution_count": 53,
   "metadata": {},
   "outputs": [
    {
     "data": {
      "text/plain": [
       "array([[[14, 21, 24, 47, 49, 60]],\n",
       "\n",
       "       [[ 4, 13, 22, 31, 36, 45]],\n",
       "\n",
       "       [[ 3, 17, 18, 20, 35, 58]],\n",
       "\n",
       "       [[ 5, 19, 34, 42, 52, 54]],\n",
       "\n",
       "       [[ 8,  9, 25, 28, 33, 51]],\n",
       "\n",
       "       [[ 1, 12, 37, 41, 50, 55]],\n",
       "\n",
       "       [[ 6, 10, 11, 15, 43, 59]],\n",
       "\n",
       "       [[ 2, 16, 27, 29, 30, 38]],\n",
       "\n",
       "       [[26, 40, 44, 46, 56, 57]],\n",
       "\n",
       "       [[ 7, 23, 32, 39, 48, 53]]])"
      ]
     },
     "execution_count": 53,
     "metadata": {},
     "output_type": "execute_result"
    }
   ],
   "source": [
    "#sorte da mega-sena:\n",
    "#Para números aleatórios não repetidos deve-se usar a função np.random.choice() sem repetição.\n",
    "\n",
    "mega_sena = np.sort((np.random.choice(range(1, 61), (10, 1, 6), replace=False)))\n",
    "mega_sena"
   ]
  },
  {
   "cell_type": "code",
   "execution_count": 54,
   "metadata": {},
   "outputs": [
    {
     "data": {
      "text/plain": [
       "array([[[ 8, 13, 22, 30, 38, 47]],\n",
       "\n",
       "       [[ 2, 12, 15, 31, 33, 43]],\n",
       "\n",
       "       [[22, 36, 40, 44, 47, 60]],\n",
       "\n",
       "       [[ 3,  4, 15, 20, 29, 40]],\n",
       "\n",
       "       [[10, 45, 46, 49, 53, 59]],\n",
       "\n",
       "       [[ 5, 11, 13, 14, 48, 56]],\n",
       "\n",
       "       [[ 2,  9, 18, 36, 50, 55]],\n",
       "\n",
       "       [[ 3, 15, 16, 30, 49, 57]],\n",
       "\n",
       "       [[10, 11, 25, 31, 39, 60]],\n",
       "\n",
       "       [[14, 29, 33, 40, 42, 42]]])"
      ]
     },
     "execution_count": 54,
     "metadata": {},
     "output_type": "execute_result"
    }
   ],
   "source": [
    "#sorte da mega-sena:\n",
    "#Para números aleatórios com repetidos deve-se usar a função np.random.choice() sem repetição.\n",
    "\n",
    "mega_sena = np.sort((np.random.choice(range(1, 61), (10, 1, 6), replace=True)))\n",
    "mega_sena"
   ]
  },
  {
   "cell_type": "code",
   "execution_count": null,
   "metadata": {},
   "outputs": [],
   "source": []
  }
 ],
 "metadata": {
  "kernelspec": {
   "display_name": "Python 3",
   "language": "python",
   "name": "python3"
  },
  "language_info": {
   "codemirror_mode": {
    "name": "ipython",
    "version": 3
   },
   "file_extension": ".py",
   "mimetype": "text/x-python",
   "name": "python",
   "nbconvert_exporter": "python",
   "pygments_lexer": "ipython3",
   "version": "3.7.6"
  }
 },
 "nbformat": 4,
 "nbformat_minor": 2
}
