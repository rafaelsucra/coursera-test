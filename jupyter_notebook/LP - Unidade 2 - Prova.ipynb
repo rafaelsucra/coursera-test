{
 "cells": [
  {
   "cell_type": "markdown",
   "metadata": {},
   "source": [
    "### Prova da Unidade 2 Linguagem e Programação:\n",
    "\n",
    "#### Conteúdo:\n",
    "\n",
    "|                 Nome                     |         Matérias        |\n",
    "|:----------------------------------------:|:-----------------------:|\n",
    "| Tipos de dados e variáveis               | U2T1                    |\n",
    "| Strings                                  | U2T2                    |\n",
    "| IF                                       | U2T3                    |\n",
    "| Fluxo While                              | U2T4                    |\n",
    "| Fluxo For                                | U2T5                    |\n",
    "| Funções(def,lambda,map,reduce,filter,zip)| U2T6                    |\n"
   ]
  },
  {
   "cell_type": "markdown",
   "metadata": {},
   "source": [
    "## 1) São formas corretas de criar uma lista contendo números pares entre 1 e 100:\n",
    "#### [X] pares = list(range(2, 101, 2)) \n",
    "#### [X] pares = [num for num in range(1,101) if num % 2 == 0] \n",
    "#### [ ] pares = [num for num in range(2,101)] \n",
    "#### [ ] pares = [num for num in range(2,100, 2)] (A função range(2,100,2) está gerando todos os números pares entre 2 e 99.)\n"
   ]
  },
  {
   "cell_type": "markdown",
   "metadata": {},
   "source": [
    "## 2) A função reduce() possui esse nome pelo fato de reduzir uma lista com n elementos para apenas 1 elemento.\n",
    "\n",
    "#### () Verdadeiro (A função reduce() reduz uma lista a um único valor agregado (por exemplo, a soma de todos os números), mas ela não interfere na ordenação e nem na quantidade de elementos.)\n",
    "#### (X) Falso "
   ]
  },
  {
   "cell_type": "markdown",
   "metadata": {},
   "source": [
    "## 3) Com a função zip() é possível combinar elementos de um dicionário com elementos de uma lista.\n",
    "\n",
    "#### Exemplo:\n",
    "\n",
    "#### dic = {\"MG\": \"Minas Gerais\", \"SP\":\"São Paulo\", \"AC\":\"Acre\", \"MA\":\"Maranhão\"}\n",
    "#### regioes = [\"SE\", \"SE\", \"NO\", \"NE\"]\n",
    "#### estados = list(zip(dic, dic.values(), regioes))\n",
    "\n",
    "#### (X) Verdadeiro \n",
    "#### ( ) Falso "
   ]
  },
  {
   "cell_type": "markdown",
   "metadata": {},
   "source": [
    "## 4) A função filter(lambda x: x%3 ==0, numeros), aplicada à lista numeros = [n for n in range(1, 16)], retornará uma lista apenas com os números não divisíveis por 3, no intervalo fechado entre 1 e 15, uma vez que ela elimina os elementos para os quais a condição x%3 == 0 será avaliada como True.\n",
    "#### ( ) Verdadeiro \n",
    "#### (X) Falso "
   ]
  },
  {
   "cell_type": "markdown",
   "metadata": {},
   "source": [
    "## 5) Comprehension em Python é uma forma concisa e sofisticada de gerar listas, onde podemos gerar uma lista iterando por outra lista ou por uma faixa de valores e ainda testar se cada elemento satisfaz uma determinada condição.\n",
    "\n",
    "### O exemplo abaixo vai gerar uma lista dos anos bissextos entre os anos 1900 e 2020. A lista gerada está correta?\n",
    "\n",
    "### bissextos = [ano for ano in range(1900, 2021, 4) if (ano % 400 == 0) or (ano % 4 == 0 and ano % 100 != 0)]\n",
    "  \n",
    "#### (X) Verdadeiro (O exemplo gera todos os anos múltiplos de 4 no intervalo entre 1900 e 2020, e testa de cada um desses anos gerados é bissexto, verificando de ele é divisível por 400 ou divisível por 4 mas não por 100.)\n",
    "#### ( ) Falso "
   ]
  },
  {
   "cell_type": "markdown",
   "metadata": {},
   "source": [
    "## 6) Marque as opções que geram corretamente uma lista com os anos bissextos entre 1900 e 2020.\n",
    "\n",
    "#### [X] bissextos = [ano for ano in range(1900, 2021, 4) if (ano % 400 == 0) or (ano % 4 == 0 and ano % 100 != 0)] \n",
    "#### [X] bissextos = list(filter(lambda ano: (ano % 400 == 0) or (ano % 4 == 0 and ano % 100 != 0), range(1900, 2021, 4))) \n",
    "#### [ ] bissextos = list(range(1900, 2021, 4)) "
   ]
  },
  {
   "cell_type": "code",
   "execution_count": null,
   "metadata": {},
   "outputs": [],
   "source": []
  }
 ],
 "metadata": {
  "kernelspec": {
   "display_name": "Python 3.8.2 32-bit",
   "language": "python",
   "name": "python38232bit8366e7dec1a5412fab4cb0bdd1a91c4b"
  },
  "language_info": {
   "codemirror_mode": {
    "name": "ipython",
    "version": 3
   },
   "file_extension": ".py",
   "mimetype": "text/x-python",
   "name": "python",
   "nbconvert_exporter": "python",
   "pygments_lexer": "ipython3",
   "version": "3.8.2"
  }
 },
 "nbformat": 4,
 "nbformat_minor": 4
}
