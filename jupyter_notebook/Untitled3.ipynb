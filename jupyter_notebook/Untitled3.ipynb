{
 "cells": [
  {
   "cell_type": "markdown",
   "metadata": {},
   "source": [
    "### Prova da Unidade 2 Linguagem e Programação:\n",
    "\n",
    "#### Conteúdo:\n",
    "\n",
    "|                 Nome                     |         Matérias        |\n",
    "|:----------------------------------------:|:-----------------------:|\n",
    "| Tipos de dados e variáveis               | U2T1                    |\n",
    "| Strings                                  | U2T2                    |\n",
    "| IF                                       | U2T3                    |\n",
    "| Fluxo While                              | U2T4                    |\n",
    "| Fluxo For                                | U2T5                    |\n",
    "| Funções(def,lambda,map,reduce,filter,zip)| U2T6                    |\n"
   ]
  },
  {
   "cell_type": "markdown",
   "metadata": {},
   "source": [
    "## 1) São formas corretas de criar uma lista contendo números pares entre 1 e 100:\n",
    "#### [X] pares = list(range(2, 101, 2)) \n",
    "#### [X] pares = [num for num in range(1,101) if num % 2 == 0] \n",
    "#### [ ] pares = [num for num in range(2,101)] \n",
    "#### [ ] pares = [num for num in range(2,100, 2)] (A função range(2,100,2) está gerando todos os números pares entre 2 e 99.)\n"
   ]
  },
  {
   "cell_type": "markdown",
   "metadata": {},
   "source": [
    "## 2) A função reduce() possui esse nome pelo fato de reduzir uma lista com n elementos para apenas 1 elemento.\n",
    "\n",
    "#### () Verdadeiro (A função reduce() reduz uma lista a um único valor agregado (por exemplo, a soma de todos os números), mas ela não interfere na ordenação e nem na quantidade de elementos.)\n",
    "#### (X) Falso "
   ]
  },
  {
   "cell_type": "markdown",
   "metadata": {},
   "source": [
    "## 3) Com a função zip() é possível combinar elementos de um dicionário com elementos de uma lista.\n",
    "\n",
    "#### Exemplo:\n",
    "\n",
    "#### dic = {\"MG\": \"Minas Gerais\", \"SP\":\"São Paulo\", \"AC\":\"Acre\", \"MA\":\"Maranhão\"}\n",
    "#### regioes = [\"SE\", \"SE\", \"NO\", \"NE\"]\n",
    "#### estados = list(zip(dic, dic.values(), regioes))\n",
    "\n",
    "#### (X) Verdadeiro \n",
    "#### ( ) Falso "
   ]
  },
  {
   "cell_type": "markdown",
   "metadata": {},
   "source": [
    "## 4) A função filter(lambda x: x%3 ==0, numeros), aplicada à lista numeros = [n for n in range(1, 16)], retornará uma lista apenas com os números não divisíveis por 3, no intervalo fechado entre 1 e 15, uma vez que ela elimina os elementos para os quais a condição x%3 == 0 será avaliada como True.\n",
    "#### ( ) Verdadeiro \n",
    "#### (X) Falso "
   ]
  },
  {
   "cell_type": "code",
   "execution_count": 20,
   "metadata": {},
   "outputs": [],
   "source": [
    "## 5) Comprehension em Python é uma forma concisa e sofisticada de gerar listas, onde podemos gerar uma lista iterando por outra lista ou por uma faixa de valores e ainda testar se cada elemento satisfaz uma determinada condição.\n",
    "\n",
    "### O exemplo abaixo vai gerar uma lista dos anos bissextos entre os anos 1900 e 2020. A lista gerada está correta?\n",
    "\n",
    "### bissextos = [ano for ano in range(1900, 2021, 4) if (ano % 400 == 0) or (ano % 4 == 0 and ano % 100 != 0)]\n",
    "  \n",
    "#### (X) Verdadeiro (O exemplo gera todos os anos múltiplos de 4 no intervalo entre 1900 e 2020, e testa de cada um desses anos gerados é bissexto, verificando de ele é divisível por 400 ou divisível por 4 mas não por 100.)\n",
    "#### (X) Falso "
   ]
  },
  {
   "cell_type": "code",
   "execution_count": 21,
   "metadata": {},
   "outputs": [
    {
     "data": {
      "text/plain": [
       "[1, 2, 3, 4, 5, 6, 7, 8, 9, 10, 11, 12, 13, 14, 15]"
      ]
     },
     "execution_count": 21,
     "metadata": {},
     "output_type": "execute_result"
    }
   ],
   "source": [
    "numeros"
   ]
  },
  {
   "cell_type": "code",
   "execution_count": 22,
   "metadata": {},
   "outputs": [],
   "source": [
    "num = list(filter(lambda x: x%3 == 0, numeros))"
   ]
  },
  {
   "cell_type": "code",
   "execution_count": 23,
   "metadata": {},
   "outputs": [
    {
     "data": {
      "text/plain": [
       "[3, 6, 9, 12, 15]"
      ]
     },
     "execution_count": 23,
     "metadata": {},
     "output_type": "execute_result"
    }
   ],
   "source": [
    "num"
   ]
  },
  {
   "cell_type": "code",
   "execution_count": 24,
   "metadata": {},
   "outputs": [],
   "source": [
    "bissextos = [ano for ano in range(1900, 2021, 4) if (ano % 400 == 0) or (ano % 4 == 0 and ano % 100 != 0)]"
   ]
  },
  {
   "cell_type": "code",
   "execution_count": 25,
   "metadata": {},
   "outputs": [
    {
     "data": {
      "text/plain": [
       "[1904,\n",
       " 1908,\n",
       " 1912,\n",
       " 1916,\n",
       " 1920,\n",
       " 1924,\n",
       " 1928,\n",
       " 1932,\n",
       " 1936,\n",
       " 1940,\n",
       " 1944,\n",
       " 1948,\n",
       " 1952,\n",
       " 1956,\n",
       " 1960,\n",
       " 1964,\n",
       " 1968,\n",
       " 1972,\n",
       " 1976,\n",
       " 1980,\n",
       " 1984,\n",
       " 1988,\n",
       " 1992,\n",
       " 1996,\n",
       " 2000,\n",
       " 2004,\n",
       " 2008,\n",
       " 2012,\n",
       " 2016,\n",
       " 2020]"
      ]
     },
     "execution_count": 25,
     "metadata": {},
     "output_type": "execute_result"
    }
   ],
   "source": [
    "bissextos"
   ]
  },
  {
   "cell_type": "code",
   "execution_count": 26,
   "metadata": {},
   "outputs": [],
   "source": [
    "bissextos2 = list(filter(lambda ano: (ano % 400 == 0) or (ano % 4 == 0 and ano % 100 != 0), range(1900, 2021, 4)))"
   ]
  },
  {
   "cell_type": "code",
   "execution_count": 27,
   "metadata": {},
   "outputs": [
    {
     "data": {
      "text/plain": [
       "[1904,\n",
       " 1908,\n",
       " 1912,\n",
       " 1916,\n",
       " 1920,\n",
       " 1924,\n",
       " 1928,\n",
       " 1932,\n",
       " 1936,\n",
       " 1940,\n",
       " 1944,\n",
       " 1948,\n",
       " 1952,\n",
       " 1956,\n",
       " 1960,\n",
       " 1964,\n",
       " 1968,\n",
       " 1972,\n",
       " 1976,\n",
       " 1980,\n",
       " 1984,\n",
       " 1988,\n",
       " 1992,\n",
       " 1996,\n",
       " 2000,\n",
       " 2004,\n",
       " 2008,\n",
       " 2012,\n",
       " 2016,\n",
       " 2020]"
      ]
     },
     "execution_count": 27,
     "metadata": {},
     "output_type": "execute_result"
    }
   ],
   "source": [
    "bissextos2"
   ]
  },
  {
   "cell_type": "code",
   "execution_count": 28,
   "metadata": {},
   "outputs": [],
   "source": [
    "bissextos3 = list(range(1900, 2021, 4))"
   ]
  },
  {
   "cell_type": "code",
   "execution_count": 29,
   "metadata": {},
   "outputs": [
    {
     "data": {
      "text/plain": [
       "[1900,\n",
       " 1904,\n",
       " 1908,\n",
       " 1912,\n",
       " 1916,\n",
       " 1920,\n",
       " 1924,\n",
       " 1928,\n",
       " 1932,\n",
       " 1936,\n",
       " 1940,\n",
       " 1944,\n",
       " 1948,\n",
       " 1952,\n",
       " 1956,\n",
       " 1960,\n",
       " 1964,\n",
       " 1968,\n",
       " 1972,\n",
       " 1976,\n",
       " 1980,\n",
       " 1984,\n",
       " 1988,\n",
       " 1992,\n",
       " 1996,\n",
       " 2000,\n",
       " 2004,\n",
       " 2008,\n",
       " 2012,\n",
       " 2016,\n",
       " 2020]"
      ]
     },
     "execution_count": 29,
     "metadata": {},
     "output_type": "execute_result"
    }
   ],
   "source": [
    "bissextos3"
   ]
  },
  {
   "cell_type": "code",
   "execution_count": null,
   "metadata": {},
   "outputs": [],
   "source": []
  }
 ],
 "metadata": {
  "kernelspec": {
   "display_name": "Python 3.8.2 32-bit",
   "language": "python",
   "name": "python38232bit8366e7dec1a5412fab4cb0bdd1a91c4b"
  },
  "language_info": {
   "codemirror_mode": {
    "name": "ipython",
    "version": 3
   },
   "file_extension": ".py",
   "mimetype": "text/x-python",
   "name": "python",
   "nbconvert_exporter": "python",
   "pygments_lexer": "ipython3",
   "version": "3.8.2"
  }
 },
 "nbformat": 4,
 "nbformat_minor": 4
}
