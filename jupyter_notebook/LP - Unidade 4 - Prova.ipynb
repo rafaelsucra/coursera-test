{
 "cells": [
  {
   "cell_type": "markdown",
   "metadata": {},
   "source": [
    "### Prova da Unidade 4 Linguagem e Programação:\n",
    "\n",
    "#### Conteúdo:\n",
    "\n",
    "|                 Nome                     |         Matérias        |\n",
    "|:----------------------------------------:|:-----------------------:|\n",
    "| Introdução ao Pandas                     | U4T1                    |\n",
    "| Introdução ao R                          | U4T2                    |"
   ]
  },
  {
   "cell_type": "markdown",
   "metadata": {},
   "source": [
    "## 1) Assim como o ndarray do NumPy, os objetos DataFrame e Series do Pandas possuem o atributo shape que é utilizado para verificar e manipular as dimensões dessas estruturas de dados.\n",
    "\n",
    "#### ( )True \n",
    "#### (X) False \n",
    "##### Não é possível manipular as dimensões do DataFrame e Series atribuindo valores ao shape, como ocorre com o array do NumPy. Portanto a afirmação é falsa."
   ]
  },
  {
   "cell_type": "markdown",
   "metadata": {},
   "source": [
    "## 2) Podemos afirmar que o DataFrame é um grupo de Series que compartilham um mesmo índice, ou seja, cada coluna de um DataFrame nada mais é do que uma Series.\n",
    "  \n",
    "#### (X) True \n",
    "##### Um objeto DataFrame é um conjunto de Series.\n",
    "#### ( )  False "
   ]
  },
  {
   "cell_type": "markdown",
   "metadata": {},
   "source": [
    "## 3) Considere o trecho a seguir:\n",
    "\n",
    "#### import pandas as pd\n",
    "#### nomes = (\"Minas Gerais\", \"Amazonas\", \"Maranhão\", \"Goiás\", \"Santa Catarina\")\n",
    "#### siglas = (\"MG\", \"AM\", \"MA\", \"GO\", \"SC\")\n",
    "#### estados = pd.Series(siglas, nomes)\n",
    "#### Podemos afirmar que será criado um objeto Series no qual os índices são as siglas dos estados.\n",
    "\n",
    "  \n",
    "#### ( ) True \n",
    "#### (X)  False \n",
    "##### O objeto estados terá como dados as siglas e como índices os nomes dos estados.\n",
    " "
   ]
  },
  {
   "cell_type": "markdown",
   "metadata": {},
   "source": [
    "## 4) Por padrão, os métodos do Pandas pd.read_csv  e pd.read_excel retornam um objeto DataFrame mesmo que os dados estejam em apenas 1 dimensão. Para alterar esse comportamento, deve-se passar o parâmetro squeeze = True.\n",
    "\n",
    "##### (X)  True \n",
    "##### ( )   False "
   ]
  },
  {
   "cell_type": "markdown",
   "metadata": {},
   "source": [
    "## 5) Suponha que o DataFrame df tenha sido criado conforme o código a seguir:\n",
    "\n",
    "#### df = pd.read_csv(\"dados.csv\")\n",
    "#### Marque as instruções que podemos utilizar para retornar as primeiras 5 linhas do DataFrame df.\n",
    "\n",
    "#### [X]  df.head() \n",
    "#### [X]    df.head(5) \n",
    "#### [ ]    df.tail() \n",
    "#### [ ]    df.tail(5) \n",
    "#### [ ]    df.sample(5)"
   ]
  },
  {
   "cell_type": "markdown",
   "metadata": {},
   "source": [
    "## 6) Suponha o DataFrame df possua as colunas A, B, C e D. Marque abaixo as alternativas que removem a coluna C (e não apenas retornem o DataFrame sem a coluna) do DataFrame df, deixando apenas as colunas A, B e D.\n",
    "\n",
    "#### [X]  df.drop(\"C\", axis = 1, inplace=True) \n",
    "##### O parâmetro inplace = True fará a alteração no próprio DataFrame df.\n",
    "#### [X]  df = df.drop(\"C\", axis=1) \n",
    "##### O DataFrame df está sendo alterado ao receber ele próprio sem a coluna C.\n",
    "#### [ ]   df.drop(\"C\", axis=1) \n",
    "#### [ ]   df.drop(\"C\", axis = 0, inplace=True) "
   ]
  },
  {
   "cell_type": "code",
   "execution_count": null,
   "metadata": {},
   "outputs": [],
   "source": []
  }
 ],
 "metadata": {
  "kernelspec": {
   "display_name": "Python 3.8.2 32-bit",
   "language": "python",
   "name": "python38232bit8366e7dec1a5412fab4cb0bdd1a91c4b"
  },
  "language_info": {
   "codemirror_mode": {
    "name": "ipython",
    "version": 3
   },
   "file_extension": ".py",
   "mimetype": "text/x-python",
   "name": "python",
   "nbconvert_exporter": "python",
   "pygments_lexer": "ipython3",
   "version": "3.8.2"
  }
 },
 "nbformat": 4,
 "nbformat_minor": 4
}
