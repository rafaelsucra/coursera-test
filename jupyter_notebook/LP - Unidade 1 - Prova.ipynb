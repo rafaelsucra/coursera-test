{
 "cells": [
  {
   "cell_type": "markdown",
   "metadata": {},
   "source": [
    "# Questões da Prova da LP unidade 1\n",
    "\n",
    "* U1T1 - Fundamentos de Python\n",
    "* U1T2 - Estruturas de Dados - Lista\n",
    "* U1T3 - Estruturas de Dados - Tuplas\n",
    "* U1T4 - Estruturas de Dados - Dicionarios\n",
    "* U1T5 - Estruturas de Dados - Conjuntos\n"
   ]
  },
  {
   "cell_type": "markdown",
   "metadata": {},
   "source": [
    "* Questão 1:\n",
    "Marque os identificadores válidos em Python.\n",
    "Grupo de escolhas da pergunta\n",
    "\n",
    "a) endereco entrega\n",
    "\n",
    "b) __nome_aluno (X)\n",
    "\n",
    "c) $alario_func\n",
    "\n",
    "d) XYZ (X)\n"
   ]
  },
  {
   "cell_type": "markdown",
   "metadata": {},
   "source": [
    "* Questão 2:\n",
    "Sobre os comentários, marque as alternativas corretas.\n",
    "\n",
    "a) Comentários são obrigatórios em Python. \n",
    "\n",
    "b) Comentários podem utilizar tanto o símbolo cerquilha (#) quanto a combinação de 3 aspas (\"\"\"). (X)\n",
    "\n",
    "c) Comentários são ignorados pelo interpretador do Python. (X)\n",
    "\n",
    "d) Um comentário de linha utilizando #, deve ficar sozinho em uma linha. \n"
   ]
  },
  {
   "cell_type": "markdown",
   "metadata": {},
   "source": [
    "* Questão 3:\n",
    "No código a seguir x = \"1978\", um valor está sendo atribuído à variável x. Ao executar o comando type(x), que tipo será retornado?\n",
    "a) string \n",
    "\n",
    "b) int\n",
    "\n",
    "c) Todas as alternativas estão corretas. \n",
    "\n",
    "d) str (X)"
   ]
  },
  {
   "cell_type": "markdown",
   "metadata": {},
   "source": [
    "* Questão 4:\n",
    "Marque entre as alternativas abaixo, os tipos de dados corretos para cada informação.\n",
    "\n",
    "a) Altura de uma pessoa em centímetros - int (X)\n",
    "\n",
    "b) Data de nascimento - str (X)\n",
    "\n",
    "c) Sexo de uma pessoa - boolean \n",
    "\n",
    "d) CPF - str (X)"
   ]
  },
  {
   "cell_type": "markdown",
   "metadata": {},
   "source": [
    "* Questão 5:\n",
    "Suponha a seguinte declaração de uma lista:\n",
    "\n",
    "lista_aninhada = [ [1,2,3],[4,5,6,7],[8,9],[ [10,11,12], [13, 14, 15] ] ].\n",
    "\n",
    "Que instrução retornará o número 13?\n",
    "\n",
    "a) Todas as alternativas são inválidas. \n",
    "\n",
    "b) lista_aninhada[12] \n",
    "\n",
    "c) lista_aninhada[-3] \n",
    "\n",
    "d) lista_aninhada[3][1][0] (X)"
   ]
  },
  {
   "cell_type": "markdown",
   "metadata": {},
   "source": [
    "* Questão 6:\n",
    "\n",
    "Suponha que seja declarado o seguinte dicionário:\n",
    "\n",
    "dic = { \"MG\": {\"Área\": 586522, \"População\": 21040662, \"Capital\": \"Belo Horizonte\"},\n",
    "\n",
    "           \"SP\": {\"Área\": 248222, \"População\": 45538936, \"Capital\": \"São Paulo\"},\n",
    "\n",
    "           \"RS\": {\"Área\": 281730, \"População\": 11329605, \"Capital\": \"XYZ\"} }\n",
    "\n",
    "Qual comando devemos utilizar para alterar a capital do Rio Grande do Sul de XYZ para Porto Alegre?\n",
    "\n",
    "a) dic[\"RS\"][\"XYZ\"] = \"Porto Alegre\" \n",
    "\n",
    "b) dic[\"RS\"][\"Capital\"] = \"Porto Alegre\" (X)\n",
    "\n",
    "c) dic{\"RS\"}{\"Capital\"} = \"Porto Alegre\" \n",
    "\n",
    "d) dic[2][2] = \"Porto Alegre\" "
   ]
  },
  {
   "cell_type": "markdown",
   "metadata": {},
   "source": [
    "* Questão 7:\n",
    "Em relação às estruturas de dados aninhadas (uma estrutura dentro de outra), pode-se afirmar que Python só aceita o aninhamento entre estruturas do mesmo tipo (por exemplo, dentro de uma lista só podemos ter outra lista, dentro de um dicionário só pode haver outro dicionário).\n",
    "\n",
    "a) Verdadeiro \n",
    "\n",
    "b) Falso (X) "
   ]
  },
  {
   "cell_type": "code",
   "execution_count": null,
   "metadata": {},
   "outputs": [],
   "source": []
  }
 ],
 "metadata": {
  "kernelspec": {
   "display_name": "Python 3",
   "language": "python",
   "name": "python3"
  },
  "language_info": {
   "codemirror_mode": {
    "name": "ipython",
    "version": 3
   },
   "file_extension": ".py",
   "mimetype": "text/x-python",
   "name": "python",
   "nbconvert_exporter": "python",
   "pygments_lexer": "ipython3",
   "version": "3.7.6"
  }
 },
 "nbformat": 4,
 "nbformat_minor": 4
}
